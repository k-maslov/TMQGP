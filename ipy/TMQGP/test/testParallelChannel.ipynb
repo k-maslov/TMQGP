{
 "cells": [
  {
   "cell_type": "code",
   "execution_count": 2,
   "id": "aa0f2201",
   "metadata": {},
   "outputs": [],
   "source": [
    "import TMQGP as tm\n",
    "import QuarkTM\n",
    "from numpy import *"
   ]
  },
  {
   "cell_type": "code",
   "execution_count": 4,
   "id": "a93e01c1",
   "metadata": {},
   "outputs": [],
   "source": [
    "qrange = linspace(0, 5, 51)\n",
    "erange = linspace(-5, 5, 251)"
   ]
  },
  {
   "cell_type": "code",
   "execution_count": 5,
   "id": "85646a91",
   "metadata": {},
   "outputs": [],
   "source": [
    "pt = QuarkTM.Particle(0.5, qrange, erange, eps=1e-2)"
   ]
  },
  {
   "cell_type": "code",
   "execution_count": 6,
   "id": "daed5646",
   "metadata": {},
   "outputs": [],
   "source": [
    "ch1 = QuarkTM.Channel(pt, pt, 0.2, G=6)\n",
    "ch2 = QuarkTM.Channel(pt, pt, 0.2, G=-6, parallel=4)"
   ]
  },
  {
   "cell_type": "code",
   "execution_count": 7,
   "id": "3d3e95a8",
   "metadata": {},
   "outputs": [
    {
     "data": {
      "application/vnd.jupyter.widget-view+json": {
       "model_id": "3a8b3b70b69d48c5938840ec515960ec",
       "version_major": 2,
       "version_minor": 0
      },
      "text/plain": [
       "  0%|          | 0/251 [00:00<?, ?it/s]"
      ]
     },
     "metadata": {},
     "output_type": "display_data"
    },
    {
     "data": {
      "application/vnd.jupyter.widget-view+json": {
       "model_id": "13f74b798132449c9cf3a192b63fffa3",
       "version_major": 2,
       "version_minor": 0
      },
      "text/plain": [
       "  0%|          | 0/251 [00:00<?, ?it/s]"
      ]
     },
     "metadata": {},
     "output_type": "display_data"
    }
   ],
   "source": [
    "ch1.populate_T()\n",
    "ch2.populate_T()"
   ]
  },
  {
   "cell_type": "code",
   "execution_count": 6,
   "id": "70e2a8ea",
   "metadata": {},
   "outputs": [
    {
     "data": {
      "application/vnd.jupyter.widget-view+json": {
       "model_id": "aef3fbe6005d42bbbf119e2ce3c0a961",
       "version_major": 2,
       "version_minor": 0
      },
      "text/plain": [
       "  0%|          | 0/251 [00:00<?, ?it/s]"
      ]
     },
     "metadata": {},
     "output_type": "display_data"
    },
    {
     "ename": "KeyboardInterrupt",
     "evalue": "",
     "output_type": "error",
     "traceback": [
      "\u001b[0;31m---------------------------------------------------------------------------\u001b[0m",
      "\u001b[0;31mKeyboardInterrupt\u001b[0m                         Traceback (most recent call last)",
      "Cell \u001b[0;32mIn[6], line 1\u001b[0m\n\u001b[0;32m----> 1\u001b[0m \u001b[43mch1\u001b[49m\u001b[38;5;241;43m.\u001b[39;49m\u001b[43mpopulate_S\u001b[49m\u001b[43m(\u001b[49m\u001b[43m)\u001b[49m\n",
      "File \u001b[0;32m~/Numerics/TMQGP/py/QuarkTM.py:354\u001b[0m, in \u001b[0;36mChannel.populate_S\u001b[0;34m(self)\u001b[0m\n\u001b[1;32m    351\u001b[0m \u001b[38;5;28;01mdef\u001b[39;00m \u001b[38;5;21mpopulate_S\u001b[39m(\u001b[38;5;28mself\u001b[39m):\n\u001b[1;32m    352\u001b[0m     \u001b[38;5;66;03m# print(self.func(0, 0, self.T, self.iImT, self.p_j.R))\u001b[39;00m\n\u001b[1;32m    353\u001b[0m     \u001b[38;5;28;01mif\u001b[39;00m \u001b[38;5;28mself\u001b[39m\u001b[38;5;241m.\u001b[39mparallel \u001b[38;5;241m<\u001b[39m \u001b[38;5;241m2\u001b[39m:\n\u001b[0;32m--> 354\u001b[0m         ress_cm \u001b[38;5;241m=\u001b[39m np\u001b[38;5;241m.\u001b[39marray(\u001b[43m[\u001b[49m\u001b[43m[\u001b[49m\u001b[38;5;28;43mself\u001b[39;49m\u001b[38;5;241;43m.\u001b[39;49m\u001b[43mfunc\u001b[49m\u001b[43m(\u001b[49m\u001b[43me\u001b[49m\u001b[43m,\u001b[49m\u001b[43m \u001b[49m\u001b[43mq\u001b[49m\u001b[43m,\u001b[49m\u001b[43m \u001b[49m\u001b[38;5;28;43mself\u001b[39;49m\u001b[38;5;241;43m.\u001b[39;49m\u001b[43mT\u001b[49m\u001b[43m,\u001b[49m\u001b[43m \u001b[49m\u001b[38;5;28;43mself\u001b[39;49m\u001b[38;5;241;43m.\u001b[39;49m\u001b[43miImT\u001b[49m\u001b[43m,\u001b[49m\u001b[43m \u001b[49m\u001b[38;5;28;43mself\u001b[39;49m\u001b[38;5;241;43m.\u001b[39;49m\u001b[43mp_j\u001b[49m\u001b[38;5;241;43m.\u001b[39;49m\u001b[43mR\u001b[49m\u001b[43m)\u001b[49m\u001b[43m \u001b[49m\u001b[38;5;28;43;01mfor\u001b[39;49;00m\u001b[43m \u001b[49m\u001b[43mq\u001b[49m\u001b[43m \u001b[49m\u001b[38;5;129;43;01min\u001b[39;49;00m\u001b[43m \u001b[49m\u001b[38;5;28;43mself\u001b[39;49m\u001b[38;5;241;43m.\u001b[39;49m\u001b[43mqrange\u001b[49m\u001b[43m]\u001b[49m\n\u001b[1;32m    355\u001b[0m \u001b[43m            \u001b[49m\u001b[38;5;28;43;01mfor\u001b[39;49;00m\u001b[43m \u001b[49m\u001b[43me\u001b[49m\u001b[43m \u001b[49m\u001b[38;5;129;43;01min\u001b[39;49;00m\u001b[43m \u001b[49m\u001b[43mtqdm\u001b[49m\u001b[38;5;241;43m.\u001b[39;49m\u001b[43mtqdm\u001b[49m\u001b[43m(\u001b[49m\u001b[38;5;28;43mself\u001b[39;49m\u001b[38;5;241;43m.\u001b[39;49m\u001b[43merange\u001b[49m\u001b[43m)\u001b[49m\u001b[43m]\u001b[49m)\n\u001b[1;32m    356\u001b[0m         \u001b[38;5;28mself\u001b[39m\u001b[38;5;241m.\u001b[39mImS \u001b[38;5;241m=\u001b[39m ress_cm\n\u001b[1;32m    357\u001b[0m     \u001b[38;5;28;01melse\u001b[39;00m:\n",
      "File \u001b[0;32m~/Numerics/TMQGP/py/QuarkTM.py:354\u001b[0m, in \u001b[0;36m<listcomp>\u001b[0;34m(.0)\u001b[0m\n\u001b[1;32m    351\u001b[0m \u001b[38;5;28;01mdef\u001b[39;00m \u001b[38;5;21mpopulate_S\u001b[39m(\u001b[38;5;28mself\u001b[39m):\n\u001b[1;32m    352\u001b[0m     \u001b[38;5;66;03m# print(self.func(0, 0, self.T, self.iImT, self.p_j.R))\u001b[39;00m\n\u001b[1;32m    353\u001b[0m     \u001b[38;5;28;01mif\u001b[39;00m \u001b[38;5;28mself\u001b[39m\u001b[38;5;241m.\u001b[39mparallel \u001b[38;5;241m<\u001b[39m \u001b[38;5;241m2\u001b[39m:\n\u001b[0;32m--> 354\u001b[0m         ress_cm \u001b[38;5;241m=\u001b[39m np\u001b[38;5;241m.\u001b[39marray([\u001b[43m[\u001b[49m\u001b[38;5;28;43mself\u001b[39;49m\u001b[38;5;241;43m.\u001b[39;49m\u001b[43mfunc\u001b[49m\u001b[43m(\u001b[49m\u001b[43me\u001b[49m\u001b[43m,\u001b[49m\u001b[43m \u001b[49m\u001b[43mq\u001b[49m\u001b[43m,\u001b[49m\u001b[43m \u001b[49m\u001b[38;5;28;43mself\u001b[39;49m\u001b[38;5;241;43m.\u001b[39;49m\u001b[43mT\u001b[49m\u001b[43m,\u001b[49m\u001b[43m \u001b[49m\u001b[38;5;28;43mself\u001b[39;49m\u001b[38;5;241;43m.\u001b[39;49m\u001b[43miImT\u001b[49m\u001b[43m,\u001b[49m\u001b[43m \u001b[49m\u001b[38;5;28;43mself\u001b[39;49m\u001b[38;5;241;43m.\u001b[39;49m\u001b[43mp_j\u001b[49m\u001b[38;5;241;43m.\u001b[39;49m\u001b[43mR\u001b[49m\u001b[43m)\u001b[49m\u001b[43m \u001b[49m\u001b[38;5;28;43;01mfor\u001b[39;49;00m\u001b[43m \u001b[49m\u001b[43mq\u001b[49m\u001b[43m \u001b[49m\u001b[38;5;129;43;01min\u001b[39;49;00m\u001b[43m \u001b[49m\u001b[38;5;28;43mself\u001b[39;49m\u001b[38;5;241;43m.\u001b[39;49m\u001b[43mqrange\u001b[49m\u001b[43m]\u001b[49m\n\u001b[1;32m    355\u001b[0m             \u001b[38;5;28;01mfor\u001b[39;00m e \u001b[38;5;129;01min\u001b[39;00m tqdm\u001b[38;5;241m.\u001b[39mtqdm(\u001b[38;5;28mself\u001b[39m\u001b[38;5;241m.\u001b[39merange)])\n\u001b[1;32m    356\u001b[0m         \u001b[38;5;28mself\u001b[39m\u001b[38;5;241m.\u001b[39mImS \u001b[38;5;241m=\u001b[39m ress_cm\n\u001b[1;32m    357\u001b[0m     \u001b[38;5;28;01melse\u001b[39;00m:\n",
      "File \u001b[0;32m~/Numerics/TMQGP/py/QuarkTM.py:354\u001b[0m, in \u001b[0;36m<listcomp>\u001b[0;34m(.0)\u001b[0m\n\u001b[1;32m    351\u001b[0m \u001b[38;5;28;01mdef\u001b[39;00m \u001b[38;5;21mpopulate_S\u001b[39m(\u001b[38;5;28mself\u001b[39m):\n\u001b[1;32m    352\u001b[0m     \u001b[38;5;66;03m# print(self.func(0, 0, self.T, self.iImT, self.p_j.R))\u001b[39;00m\n\u001b[1;32m    353\u001b[0m     \u001b[38;5;28;01mif\u001b[39;00m \u001b[38;5;28mself\u001b[39m\u001b[38;5;241m.\u001b[39mparallel \u001b[38;5;241m<\u001b[39m \u001b[38;5;241m2\u001b[39m:\n\u001b[0;32m--> 354\u001b[0m         ress_cm \u001b[38;5;241m=\u001b[39m np\u001b[38;5;241m.\u001b[39marray([[\u001b[38;5;28;43mself\u001b[39;49m\u001b[38;5;241;43m.\u001b[39;49m\u001b[43mfunc\u001b[49m\u001b[43m(\u001b[49m\u001b[43me\u001b[49m\u001b[43m,\u001b[49m\u001b[43m \u001b[49m\u001b[43mq\u001b[49m\u001b[43m,\u001b[49m\u001b[43m \u001b[49m\u001b[38;5;28;43mself\u001b[39;49m\u001b[38;5;241;43m.\u001b[39;49m\u001b[43mT\u001b[49m\u001b[43m,\u001b[49m\u001b[43m \u001b[49m\u001b[38;5;28;43mself\u001b[39;49m\u001b[38;5;241;43m.\u001b[39;49m\u001b[43miImT\u001b[49m\u001b[43m,\u001b[49m\u001b[43m \u001b[49m\u001b[38;5;28;43mself\u001b[39;49m\u001b[38;5;241;43m.\u001b[39;49m\u001b[43mp_j\u001b[49m\u001b[38;5;241;43m.\u001b[39;49m\u001b[43mR\u001b[49m\u001b[43m)\u001b[49m \u001b[38;5;28;01mfor\u001b[39;00m q \u001b[38;5;129;01min\u001b[39;00m \u001b[38;5;28mself\u001b[39m\u001b[38;5;241m.\u001b[39mqrange]\n\u001b[1;32m    355\u001b[0m             \u001b[38;5;28;01mfor\u001b[39;00m e \u001b[38;5;129;01min\u001b[39;00m tqdm\u001b[38;5;241m.\u001b[39mtqdm(\u001b[38;5;28mself\u001b[39m\u001b[38;5;241m.\u001b[39merange)])\n\u001b[1;32m    356\u001b[0m         \u001b[38;5;28mself\u001b[39m\u001b[38;5;241m.\u001b[39mImS \u001b[38;5;241m=\u001b[39m ress_cm\n\u001b[1;32m    357\u001b[0m     \u001b[38;5;28;01melse\u001b[39;00m:\n",
      "File \u001b[0;32m~/Numerics/TMQGP/lib/TMQGP.py:1550\u001b[0m, in \u001b[0;36msigma_ff\u001b[0;34m(om, p, T, iImT, iImG)\u001b[0m\n\u001b[1;32m   1548\u001b[0m \u001b[38;5;28;01mdef\u001b[39;00m \u001b[38;5;21msigma_ff\u001b[39m(om, p, T, iImT, iImG):\n\u001b[1;32m   1549\u001b[0m \u001b[38;5;250m    \u001b[39m\u001b[38;5;124mr\u001b[39m\u001b[38;5;124;03m\"\"\"sigma_ff(double om, double p, double T, Interpolator2D iImT, Interpolator2D iImG) -> double\"\"\"\u001b[39;00m\n\u001b[0;32m-> 1550\u001b[0m     \u001b[38;5;28;01mreturn\u001b[39;00m \u001b[43m_TMQGP\u001b[49m\u001b[38;5;241;43m.\u001b[39;49m\u001b[43msigma_ff\u001b[49m\u001b[43m(\u001b[49m\u001b[43mom\u001b[49m\u001b[43m,\u001b[49m\u001b[43m \u001b[49m\u001b[43mp\u001b[49m\u001b[43m,\u001b[49m\u001b[43m \u001b[49m\u001b[43mT\u001b[49m\u001b[43m,\u001b[49m\u001b[43m \u001b[49m\u001b[43miImT\u001b[49m\u001b[43m,\u001b[49m\u001b[43m \u001b[49m\u001b[43miImG\u001b[49m\u001b[43m)\u001b[49m\n",
      "\u001b[0;31mKeyboardInterrupt\u001b[0m: "
     ]
    }
   ],
   "source": [
    "ch1.populate_S()"
   ]
  },
  {
   "cell_type": "code",
   "execution_count": 19,
   "id": "372b85db",
   "metadata": {},
   "outputs": [
    {
     "ename": "KeyboardInterrupt",
     "evalue": "",
     "output_type": "error",
     "traceback": [
      "\u001b[0;31m---------------------------------------------------------------------------\u001b[0m",
      "\u001b[0;31mKeyboardInterrupt\u001b[0m                         Traceback (most recent call last)",
      "Cell \u001b[0;32mIn[19], line 1\u001b[0m\n\u001b[0;32m----> 1\u001b[0m \u001b[43mch2\u001b[49m\u001b[38;5;241;43m.\u001b[39;49m\u001b[43mget_S_q\u001b[49m\u001b[43m(\u001b[49m\u001b[38;5;241;43m0.3\u001b[39;49m\u001b[43m)\u001b[49m\n",
      "File \u001b[0;32m~/Numerics/TMQGP/py/QuarkTM.py:347\u001b[0m, in \u001b[0;36mChannel.get_S_q\u001b[0;34m(self, q)\u001b[0m\n\u001b[1;32m    346\u001b[0m \u001b[38;5;28;01mdef\u001b[39;00m \u001b[38;5;21mget_S_q\u001b[39m(\u001b[38;5;28mself\u001b[39m, q):\n\u001b[0;32m--> 347\u001b[0m     res \u001b[38;5;241m=\u001b[39m \u001b[43mpipe\u001b[49m\u001b[43m(\u001b[49m\u001b[38;5;28;43mself\u001b[39;49m\u001b[38;5;241;43m.\u001b[39;49m\u001b[43merange\u001b[49m\u001b[43m)\u001b[49m\u001b[43m \u001b[49m\u001b[38;5;241;43m|\u001b[39;49m\u001b[43m \u001b[49m\u001b[43mp\u001b[49m\u001b[43m[\u001b[49m\u001b[38;5;28;43;01mlambda\u001b[39;49;00m\u001b[43m \u001b[49m\u001b[43mz\u001b[49m\u001b[43m:\u001b[49m\u001b[43m \u001b[49m\u001b[38;5;28;43mself\u001b[39;49m\u001b[38;5;241;43m.\u001b[39;49m\u001b[43mfunc\u001b[49m\u001b[43m(\u001b[49m\u001b[43mz\u001b[49m\u001b[43m,\u001b[49m\u001b[43m \u001b[49m\u001b[43mq\u001b[49m\u001b[43m,\u001b[49m\u001b[43m \u001b[49m\u001b[38;5;28;43mself\u001b[39;49m\u001b[38;5;241;43m.\u001b[39;49m\u001b[43mT\u001b[49m\u001b[43m,\u001b[49m\u001b[43m \u001b[49m\u001b[38;5;28;43mself\u001b[39;49m\u001b[38;5;241;43m.\u001b[39;49m\u001b[43miImT\u001b[49m\u001b[43m,\u001b[49m\n\u001b[1;32m    348\u001b[0m \u001b[43m                                         \u001b[49m\u001b[38;5;28;43mself\u001b[39;49m\u001b[38;5;241;43m.\u001b[39;49m\u001b[43mp_j\u001b[49m\u001b[38;5;241;43m.\u001b[39;49m\u001b[43miImG\u001b[49m\u001b[43m)\u001b[49m\u001b[43m]\u001b[49m\u001b[38;5;241;43m*\u001b[39;49m\u001b[43m(\u001b[49m\u001b[38;5;28;43mself\u001b[39;49m\u001b[38;5;241;43m.\u001b[39;49m\u001b[43mparallel\u001b[49m\u001b[38;5;241;43m/\u001b[39;49m\u001b[38;5;241;43m/\u001b[39;49m\u001b[38;5;241;43m1\u001b[39;49m\u001b[43m)\u001b[49m\u001b[43m \u001b[49m\u001b[38;5;241;43m|\u001b[39;49m\u001b[43m \u001b[49m\u001b[43mEND\u001b[49m\n\u001b[1;32m    349\u001b[0m     \u001b[38;5;28;01mreturn\u001b[39;00m np\u001b[38;5;241m.\u001b[39marray(res)\n",
      "File \u001b[0;32m/usr/lib/python3.11/site-packages/syntax_sugar/_pipe.py:115\u001b[0m, in \u001b[0;36mpipe.__or__\u001b[0;34m(self, rhs)\u001b[0m\n\u001b[1;32m    112\u001b[0m \u001b[38;5;28;01mdef\u001b[39;00m \u001b[38;5;21m__or__\u001b[39m(\u001b[38;5;28mself\u001b[39m, rhs):\n\u001b[1;32m    113\u001b[0m     \u001b[38;5;28;01mif\u001b[39;00m rhs \u001b[38;5;129;01mis\u001b[39;00m END:\n\u001b[1;32m    114\u001b[0m         \u001b[38;5;66;03m# end of pipe\u001b[39;00m\n\u001b[0;32m--> 115\u001b[0m         \u001b[38;5;28;01mreturn\u001b[39;00m \u001b[38;5;28;43mself\u001b[39;49m\u001b[38;5;241;43m.\u001b[39;49m\u001b[43maction\u001b[49m\u001b[43m(\u001b[49m\u001b[38;5;28;43mself\u001b[39;49m\u001b[38;5;241;43m.\u001b[39;49m\u001b[43mdata\u001b[49m\u001b[43m)\u001b[49m\n\u001b[1;32m    116\u001b[0m     \u001b[38;5;28;01melif\u001b[39;00m rhs \u001b[38;5;129;01mis\u001b[39;00m DEBUG:\n\u001b[1;32m    117\u001b[0m         \u001b[38;5;66;03m# debug end of pipe\u001b[39;00m\n\u001b[1;32m    118\u001b[0m         \u001b[38;5;28;01mtry\u001b[39;00m:\n",
      "File \u001b[0;32m/usr/lib/python3.11/site-packages/syntax_sugar/_composable.py:22\u001b[0m, in \u001b[0;36mcompose.<locals>.<lambda>.<locals>.<lambda>\u001b[0;34m(*ag, **kwag)\u001b[0m\n\u001b[1;32m     19\u001b[0m \u001b[38;5;129m@infix\u001b[39m\n\u001b[1;32m     20\u001b[0m \u001b[38;5;28;01mdef\u001b[39;00m \u001b[38;5;21mcompose\u001b[39m(\u001b[38;5;241m*\u001b[39margs):\n\u001b[1;32m     21\u001b[0m     \u001b[38;5;28;01mreturn\u001b[39;00m reduce(\u001b[38;5;28;01mlambda\u001b[39;00m acc, fn:\n\u001b[0;32m---> 22\u001b[0m         (\u001b[38;5;28;01mlambda\u001b[39;00m \u001b[38;5;241m*\u001b[39mag, \u001b[38;5;241m*\u001b[39m\u001b[38;5;241m*\u001b[39mkwag: \u001b[43macc\u001b[49m\u001b[43m(\u001b[49m\u001b[43mfn\u001b[49m\u001b[43m(\u001b[49m\u001b[38;5;241;43m*\u001b[39;49m\u001b[43mag\u001b[49m\u001b[43m,\u001b[49m\u001b[43m \u001b[49m\u001b[38;5;241;43m*\u001b[39;49m\u001b[38;5;241;43m*\u001b[39;49m\u001b[43mkwag\u001b[49m\u001b[43m)\u001b[49m\u001b[43m)\u001b[49m),\n\u001b[1;32m     23\u001b[0m     args)\n",
      "File \u001b[0;32m/usr/lib/python3.11/site-packages/syntax_sugar/_pipe.py:70\u001b[0m, in \u001b[0;36mmultiprocess\u001b[0;34m(fn, poolsize, data)\u001b[0m\n\u001b[1;32m     69\u001b[0m \u001b[38;5;28;01mdef\u001b[39;00m \u001b[38;5;21mmultiprocess\u001b[39m(fn, poolsize, data):\n\u001b[0;32m---> 70\u001b[0m     \u001b[38;5;28;01mreturn\u001b[39;00m \u001b[43mmultitask\u001b[49m\u001b[43m(\u001b[49m\u001b[43mfn\u001b[49m\u001b[43m,\u001b[49m\u001b[43m \u001b[49m\u001b[43mpoolsize\u001b[49m\u001b[43m,\u001b[49m\u001b[43m \u001b[49m\u001b[43mdata\u001b[49m\u001b[43m,\u001b[49m\u001b[43m \u001b[49m\u001b[43mPool\u001b[49m\u001b[43m)\u001b[49m\n",
      "File \u001b[0;32m/usr/lib/python3.11/site-packages/syntax_sugar/_pipe.py:67\u001b[0m, in \u001b[0;36mmultitask\u001b[0;34m(fn, poolsize, data, pool_constructor)\u001b[0m\n\u001b[1;32m     65\u001b[0m     \u001b[38;5;28;01mreturn\u001b[39;00m p\u001b[38;5;241m.\u001b[39mmap(fn, data)[\u001b[38;5;241m0\u001b[39m]\n\u001b[1;32m     66\u001b[0m \u001b[38;5;28;01melse\u001b[39;00m:\n\u001b[0;32m---> 67\u001b[0m     \u001b[38;5;28;01mreturn\u001b[39;00m \u001b[43mp\u001b[49m\u001b[38;5;241;43m.\u001b[39;49m\u001b[43mmap\u001b[49m\u001b[43m(\u001b[49m\u001b[43mfn\u001b[49m\u001b[43m,\u001b[49m\u001b[43m \u001b[49m\u001b[43mdata\u001b[49m\u001b[43m)\u001b[49m\n",
      "File \u001b[0;32m/usr/lib/python3.11/site-packages/multiprocess/pool.py:367\u001b[0m, in \u001b[0;36mPool.map\u001b[0;34m(self, func, iterable, chunksize)\u001b[0m\n\u001b[1;32m    362\u001b[0m \u001b[38;5;28;01mdef\u001b[39;00m \u001b[38;5;21mmap\u001b[39m(\u001b[38;5;28mself\u001b[39m, func, iterable, chunksize\u001b[38;5;241m=\u001b[39m\u001b[38;5;28;01mNone\u001b[39;00m):\n\u001b[1;32m    363\u001b[0m \u001b[38;5;250m    \u001b[39m\u001b[38;5;124;03m'''\u001b[39;00m\n\u001b[1;32m    364\u001b[0m \u001b[38;5;124;03m    Apply `func` to each element in `iterable`, collecting the results\u001b[39;00m\n\u001b[1;32m    365\u001b[0m \u001b[38;5;124;03m    in a list that is returned.\u001b[39;00m\n\u001b[1;32m    366\u001b[0m \u001b[38;5;124;03m    '''\u001b[39;00m\n\u001b[0;32m--> 367\u001b[0m     \u001b[38;5;28;01mreturn\u001b[39;00m \u001b[38;5;28;43mself\u001b[39;49m\u001b[38;5;241;43m.\u001b[39;49m\u001b[43m_map_async\u001b[49m\u001b[43m(\u001b[49m\u001b[43mfunc\u001b[49m\u001b[43m,\u001b[49m\u001b[43m \u001b[49m\u001b[43miterable\u001b[49m\u001b[43m,\u001b[49m\u001b[43m \u001b[49m\u001b[43mmapstar\u001b[49m\u001b[43m,\u001b[49m\u001b[43m \u001b[49m\u001b[43mchunksize\u001b[49m\u001b[43m)\u001b[49m\u001b[38;5;241;43m.\u001b[39;49m\u001b[43mget\u001b[49m\u001b[43m(\u001b[49m\u001b[43m)\u001b[49m\n",
      "File \u001b[0;32m/usr/lib/python3.11/site-packages/multiprocess/pool.py:768\u001b[0m, in \u001b[0;36mApplyResult.get\u001b[0;34m(self, timeout)\u001b[0m\n\u001b[1;32m    767\u001b[0m \u001b[38;5;28;01mdef\u001b[39;00m \u001b[38;5;21mget\u001b[39m(\u001b[38;5;28mself\u001b[39m, timeout\u001b[38;5;241m=\u001b[39m\u001b[38;5;28;01mNone\u001b[39;00m):\n\u001b[0;32m--> 768\u001b[0m     \u001b[38;5;28;43mself\u001b[39;49m\u001b[38;5;241;43m.\u001b[39;49m\u001b[43mwait\u001b[49m\u001b[43m(\u001b[49m\u001b[43mtimeout\u001b[49m\u001b[43m)\u001b[49m\n\u001b[1;32m    769\u001b[0m     \u001b[38;5;28;01mif\u001b[39;00m \u001b[38;5;129;01mnot\u001b[39;00m \u001b[38;5;28mself\u001b[39m\u001b[38;5;241m.\u001b[39mready():\n\u001b[1;32m    770\u001b[0m         \u001b[38;5;28;01mraise\u001b[39;00m \u001b[38;5;167;01mTimeoutError\u001b[39;00m\n",
      "File \u001b[0;32m/usr/lib/python3.11/site-packages/multiprocess/pool.py:765\u001b[0m, in \u001b[0;36mApplyResult.wait\u001b[0;34m(self, timeout)\u001b[0m\n\u001b[1;32m    764\u001b[0m \u001b[38;5;28;01mdef\u001b[39;00m \u001b[38;5;21mwait\u001b[39m(\u001b[38;5;28mself\u001b[39m, timeout\u001b[38;5;241m=\u001b[39m\u001b[38;5;28;01mNone\u001b[39;00m):\n\u001b[0;32m--> 765\u001b[0m     \u001b[38;5;28;43mself\u001b[39;49m\u001b[38;5;241;43m.\u001b[39;49m\u001b[43m_event\u001b[49m\u001b[38;5;241;43m.\u001b[39;49m\u001b[43mwait\u001b[49m\u001b[43m(\u001b[49m\u001b[43mtimeout\u001b[49m\u001b[43m)\u001b[49m\n",
      "File \u001b[0;32m/usr/lib/python3.11/threading.py:622\u001b[0m, in \u001b[0;36mEvent.wait\u001b[0;34m(self, timeout)\u001b[0m\n\u001b[1;32m    620\u001b[0m signaled \u001b[38;5;241m=\u001b[39m \u001b[38;5;28mself\u001b[39m\u001b[38;5;241m.\u001b[39m_flag\n\u001b[1;32m    621\u001b[0m \u001b[38;5;28;01mif\u001b[39;00m \u001b[38;5;129;01mnot\u001b[39;00m signaled:\n\u001b[0;32m--> 622\u001b[0m     signaled \u001b[38;5;241m=\u001b[39m \u001b[38;5;28;43mself\u001b[39;49m\u001b[38;5;241;43m.\u001b[39;49m\u001b[43m_cond\u001b[49m\u001b[38;5;241;43m.\u001b[39;49m\u001b[43mwait\u001b[49m\u001b[43m(\u001b[49m\u001b[43mtimeout\u001b[49m\u001b[43m)\u001b[49m\n\u001b[1;32m    623\u001b[0m \u001b[38;5;28;01mreturn\u001b[39;00m signaled\n",
      "File \u001b[0;32m/usr/lib/python3.11/threading.py:320\u001b[0m, in \u001b[0;36mCondition.wait\u001b[0;34m(self, timeout)\u001b[0m\n\u001b[1;32m    318\u001b[0m \u001b[38;5;28;01mtry\u001b[39;00m:    \u001b[38;5;66;03m# restore state no matter what (e.g., KeyboardInterrupt)\u001b[39;00m\n\u001b[1;32m    319\u001b[0m     \u001b[38;5;28;01mif\u001b[39;00m timeout \u001b[38;5;129;01mis\u001b[39;00m \u001b[38;5;28;01mNone\u001b[39;00m:\n\u001b[0;32m--> 320\u001b[0m         \u001b[43mwaiter\u001b[49m\u001b[38;5;241;43m.\u001b[39;49m\u001b[43macquire\u001b[49m\u001b[43m(\u001b[49m\u001b[43m)\u001b[49m\n\u001b[1;32m    321\u001b[0m         gotit \u001b[38;5;241m=\u001b[39m \u001b[38;5;28;01mTrue\u001b[39;00m\n\u001b[1;32m    322\u001b[0m     \u001b[38;5;28;01melse\u001b[39;00m:\n",
      "\u001b[0;31mKeyboardInterrupt\u001b[0m: "
     ]
    }
   ],
   "source": [
    "\n",
    "ch2.get_S_q(0.3)"
   ]
  },
  {
   "cell_type": "code",
   "execution_count": null,
   "id": "358493ed",
   "metadata": {},
   "outputs": [
    {
     "data": {
      "application/vnd.jupyter.widget-view+json": {
       "model_id": "767f9d67dc9046d0a01cfbfa0abd7ead",
       "version_major": 2,
       "version_minor": 0
      },
      "text/plain": [
       "  0%|          | 0/51 [00:00<?, ?it/s]"
      ]
     },
     "metadata": {},
     "output_type": "display_data"
    }
   ],
   "source": [
    "ch2.populate_S()"
   ]
  },
  {
   "cell_type": "code",
   "execution_count": 12,
   "id": "b11059ea",
   "metadata": {},
   "outputs": [],
   "source": [
    "def get_S_q2(q, ch):\n",
    "    res = pipe(ch.erange) | p[lambda z: ch.func(z, q, ch.T, ch.iImT, ch.p_j.iImG)]*(NTHR//1) | END\n",
    "    return array(res)"
   ]
  },
  {
   "cell_type": "code",
   "execution_count": 13,
   "id": "1e1306de",
   "metadata": {},
   "outputs": [
    {
     "data": {
      "text/plain": [
       "array([0.00000000e+00, 0.00000000e+00, 8.55428944e-52, 1.13272549e-51,\n",
       "       7.00689936e-50, 1.03244327e-18, 1.15554276e-18, 1.28299589e-18,\n",
       "       1.41498209e-18, 5.30574753e-15, 5.57817922e-15, 6.10100463e-15,\n",
       "       6.82787255e-15, 7.58081623e-15, 1.36379022e-13, 1.43543134e-13,\n",
       "       1.50947109e-13, 1.58601397e-13, 1.66515653e-13, 1.74700334e-13,\n",
       "       1.83492201e-13, 1.22192623e-12, 1.29039490e-12, 1.36123455e-12,\n",
       "       1.43451430e-12, 1.52955904e-12, 1.63334823e-12, 1.76682008e-12,\n",
       "       5.56201971e-11, 5.94664015e-11, 6.37180480e-11, 6.79129339e-11,\n",
       "       7.26026188e-11, 7.76847605e-11, 8.31194715e-11, 8.88771052e-11,\n",
       "       3.89202960e-10, 4.11586299e-10, 4.35564211e-10, 4.61278658e-10,\n",
       "       4.88542286e-10, 5.17095847e-10, 5.47309946e-10, 5.80420808e-10,\n",
       "       6.15821748e-10, 6.58474701e-10, 6.98155833e-10, 7.40496620e-10,\n",
       "       7.86948444e-10, 8.37050855e-10, 8.90504624e-10, 9.47948804e-10,\n",
       "       1.00971825e-09, 1.07640124e-09, 1.15294604e-09, 1.23027537e-09,\n",
       "       1.30920126e-09, 1.40045170e-09, 1.50066171e-09, 1.61062394e-09,\n",
       "       1.73015455e-09, 1.85995545e-09, 1.99378602e-09, 2.15955754e-09,\n",
       "       2.33104974e-09, 2.51461568e-09, 2.71619347e-09, 2.93795468e-09,\n",
       "       3.17527976e-09, 3.44428022e-09, 3.73971727e-09, 4.06631642e-09,\n",
       "       4.42286364e-09, 4.81765323e-09, 5.39947202e-09, 5.72978003e-09,\n",
       "       6.26382899e-09, 6.85806740e-09, 7.51648675e-09, 8.24908255e-09,\n",
       "       9.06077932e-09, 9.96673867e-09, 1.09758880e-08, 1.21002531e-08,\n",
       "       1.33570650e-08, 1.47630298e-08, 1.63326201e-08, 1.80844810e-08,\n",
       "       2.00477912e-08, 2.22478870e-08, 2.47159345e-08, 2.74998916e-08,\n",
       "       3.05939470e-08, 3.41231883e-08, 3.79419628e-08, 4.23526938e-08,\n",
       "       4.73539662e-08, 5.30327358e-08, 5.95167133e-08, 6.69509031e-08,\n",
       "       7.55202538e-08, 8.54742115e-08, 9.71270415e-08, 1.10904202e-07,\n",
       "       1.27331152e-07, 1.47036662e-07, 1.71025101e-07, 2.00566446e-07,\n",
       "       2.37235923e-07, 2.83395697e-07, 3.42116730e-07, 4.17909686e-07,\n",
       "       5.17628293e-07, 6.66721004e-07, 8.59552742e-07, 1.12527266e-06,\n",
       "       1.57142247e-06, 3.91369364e-06, 5.45941756e-06, 9.61699295e-06,\n",
       "       1.50408077e-05, 2.33417474e-05, 3.09134240e-05, 4.03001037e-05,\n",
       "       5.66405478e-05, 6.45465031e-05, 9.27851697e-05, 1.18629822e-04,\n",
       "       1.54699170e-04, 1.97142332e-04, 3.03888045e-04, 3.09354692e-04,\n",
       "       5.51965826e-04, 5.21026713e-04, 9.71513591e-04, 9.57412911e-04,\n",
       "       1.66019860e-03, 1.82510104e-03, 2.48054868e-03, 2.92790660e-03,\n",
       "       2.73801852e-03, 3.89752569e-03, 3.54377851e-03, 4.84456144e-03,\n",
       "       7.45122927e-03, 8.62858518e-03, 9.35989708e-03, 1.09365333e-02,\n",
       "       6.50179117e-03, 6.50067648e-03, 3.19842379e-03, 2.63808518e-03,\n",
       "       1.34625155e-03, 1.09009549e-03, 6.99417427e-04, 5.47541112e-04,\n",
       "       4.65864631e-04, 3.24048627e-04, 3.11091544e-04, 2.19127741e-04,\n",
       "       2.23976677e-04, 1.66080924e-04, 1.60321469e-04, 1.34250368e-04,\n",
       "       1.13553452e-04, 1.09153197e-04, 8.59249107e-05, 8.95758891e-05,\n",
       "       6.81861377e-05, 6.66417622e-05, 5.65936299e-05, 4.93731330e-05,\n",
       "       4.76098803e-05, 3.78945668e-05, 3.93323675e-05, 3.07712828e-05,\n",
       "       3.10309779e-05, 2.65951680e-05, 2.35465135e-05, 2.31755482e-05,\n",
       "       1.84828639e-05, 1.98256704e-05, 1.53427906e-05, 1.63172644e-05,\n",
       "       1.36221643e-05, 1.38618756e-05, 1.23457871e-05, 1.01797187e-05,\n",
       "       1.09152422e-05, 8.50846479e-06, 9.63254064e-06, 7.42224020e-06,\n",
       "       8.09039292e-06, 6.83068788e-06, 6.56006718e-06, 5.57108776e-06,\n",
       "       5.41622989e-06, 5.37316802e-06, 6.73220746e-06, 5.07397509e-06,\n",
       "       5.89796263e-06, 6.08897007e-06, 5.39693839e-06, 3.44170844e-06,\n",
       "       3.11544089e-06, 3.18378673e-06, 3.81970467e-06, 5.46772512e-06,\n",
       "       3.63877061e-06, 3.83109405e-06, 3.64290381e-06, 2.18242257e-06,\n",
       "       2.21094329e-06, 1.91249562e-06, 4.13427860e-06, 2.46697129e-06,\n",
       "       2.55940444e-06, 2.84545380e-06, 1.72889957e-06, 1.42349996e-06,\n",
       "       2.38993718e-06, 2.17316735e-06, 1.82544587e-06, 2.06994515e-06,\n",
       "       1.58770860e-06, 1.54525872e-06, 1.84610776e-06, 1.38807086e-06,\n",
       "       1.53405643e-06, 1.58587971e-06, 1.51092867e-06, 1.08089029e-06,\n",
       "       1.35381568e-06, 1.30209222e-06, 9.49508242e-07, 8.42962907e-07,\n",
       "       7.08420585e-07, 5.54827452e-07, 4.42348921e-07, 4.01026539e-07,\n",
       "       3.75649688e-07, 3.54313739e-07, 3.35602120e-07, 3.18583919e-07,\n",
       "       3.02957189e-07, 2.88310121e-07, 2.74628285e-07, 2.61774134e-07,\n",
       "       2.49573175e-07, 2.38118777e-07, 2.27259631e-07])"
      ]
     },
     "execution_count": 13,
     "metadata": {},
     "output_type": "execute_result"
    }
   ],
   "source": [
    "get_S_q(0.2)"
   ]
  },
  {
   "cell_type": "code",
   "execution_count": 14,
   "id": "89ec692a",
   "metadata": {},
   "outputs": [
    {
     "ename": "KeyboardInterrupt",
     "evalue": "",
     "output_type": "error",
     "traceback": [
      "\u001b[0;31m---------------------------------------------------------------------------\u001b[0m",
      "\u001b[0;31mKeyboardInterrupt\u001b[0m                         Traceback (most recent call last)",
      "Cell \u001b[0;32mIn[14], line 1\u001b[0m\n\u001b[0;32m----> 1\u001b[0m \u001b[43mget_S_q2\u001b[49m\u001b[43m(\u001b[49m\u001b[38;5;241;43m0.2\u001b[39;49m\u001b[43m,\u001b[49m\u001b[43m \u001b[49m\u001b[43mch2\u001b[49m\u001b[43m)\u001b[49m\n",
      "Cell \u001b[0;32mIn[12], line 2\u001b[0m, in \u001b[0;36mget_S_q2\u001b[0;34m(q, ch)\u001b[0m\n\u001b[1;32m      1\u001b[0m \u001b[38;5;28;01mdef\u001b[39;00m \u001b[38;5;21mget_S_q2\u001b[39m(q, ch):\n\u001b[0;32m----> 2\u001b[0m     res \u001b[38;5;241m=\u001b[39m \u001b[43mpipe\u001b[49m\u001b[43m(\u001b[49m\u001b[43mch\u001b[49m\u001b[38;5;241;43m.\u001b[39;49m\u001b[43merange\u001b[49m\u001b[43m)\u001b[49m\u001b[43m \u001b[49m\u001b[38;5;241;43m|\u001b[39;49m\u001b[43m \u001b[49m\u001b[43mp\u001b[49m\u001b[43m[\u001b[49m\u001b[38;5;28;43;01mlambda\u001b[39;49;00m\u001b[43m \u001b[49m\u001b[43mz\u001b[49m\u001b[43m:\u001b[49m\u001b[43m \u001b[49m\u001b[43mch\u001b[49m\u001b[38;5;241;43m.\u001b[39;49m\u001b[43mfunc\u001b[49m\u001b[43m(\u001b[49m\u001b[43mz\u001b[49m\u001b[43m,\u001b[49m\u001b[43m \u001b[49m\u001b[43mq\u001b[49m\u001b[43m,\u001b[49m\u001b[43m \u001b[49m\u001b[43mch\u001b[49m\u001b[38;5;241;43m.\u001b[39;49m\u001b[43mT\u001b[49m\u001b[43m,\u001b[49m\u001b[43m \u001b[49m\u001b[43mch\u001b[49m\u001b[38;5;241;43m.\u001b[39;49m\u001b[43miImT\u001b[49m\u001b[43m,\u001b[49m\u001b[43m \u001b[49m\u001b[43mch\u001b[49m\u001b[38;5;241;43m.\u001b[39;49m\u001b[43mp_j\u001b[49m\u001b[38;5;241;43m.\u001b[39;49m\u001b[43miImG\u001b[49m\u001b[43m)\u001b[49m\u001b[43m]\u001b[49m\u001b[38;5;241;43m*\u001b[39;49m\u001b[43m(\u001b[49m\u001b[43mNTHR\u001b[49m\u001b[38;5;241;43m/\u001b[39;49m\u001b[38;5;241;43m/\u001b[39;49m\u001b[38;5;241;43m1\u001b[39;49m\u001b[43m)\u001b[49m\u001b[43m \u001b[49m\u001b[38;5;241;43m|\u001b[39;49m\u001b[43m \u001b[49m\u001b[43mEND\u001b[49m\n\u001b[1;32m      3\u001b[0m     \u001b[38;5;28;01mreturn\u001b[39;00m array(res)\n",
      "File \u001b[0;32m/usr/lib/python3.11/site-packages/syntax_sugar/_pipe.py:115\u001b[0m, in \u001b[0;36mpipe.__or__\u001b[0;34m(self, rhs)\u001b[0m\n\u001b[1;32m    112\u001b[0m \u001b[38;5;28;01mdef\u001b[39;00m \u001b[38;5;21m__or__\u001b[39m(\u001b[38;5;28mself\u001b[39m, rhs):\n\u001b[1;32m    113\u001b[0m     \u001b[38;5;28;01mif\u001b[39;00m rhs \u001b[38;5;129;01mis\u001b[39;00m END:\n\u001b[1;32m    114\u001b[0m         \u001b[38;5;66;03m# end of pipe\u001b[39;00m\n\u001b[0;32m--> 115\u001b[0m         \u001b[38;5;28;01mreturn\u001b[39;00m \u001b[38;5;28;43mself\u001b[39;49m\u001b[38;5;241;43m.\u001b[39;49m\u001b[43maction\u001b[49m\u001b[43m(\u001b[49m\u001b[38;5;28;43mself\u001b[39;49m\u001b[38;5;241;43m.\u001b[39;49m\u001b[43mdata\u001b[49m\u001b[43m)\u001b[49m\n\u001b[1;32m    116\u001b[0m     \u001b[38;5;28;01melif\u001b[39;00m rhs \u001b[38;5;129;01mis\u001b[39;00m DEBUG:\n\u001b[1;32m    117\u001b[0m         \u001b[38;5;66;03m# debug end of pipe\u001b[39;00m\n\u001b[1;32m    118\u001b[0m         \u001b[38;5;28;01mtry\u001b[39;00m:\n",
      "File \u001b[0;32m/usr/lib/python3.11/site-packages/syntax_sugar/_composable.py:22\u001b[0m, in \u001b[0;36mcompose.<locals>.<lambda>.<locals>.<lambda>\u001b[0;34m(*ag, **kwag)\u001b[0m\n\u001b[1;32m     19\u001b[0m \u001b[38;5;129m@infix\u001b[39m\n\u001b[1;32m     20\u001b[0m \u001b[38;5;28;01mdef\u001b[39;00m \u001b[38;5;21mcompose\u001b[39m(\u001b[38;5;241m*\u001b[39margs):\n\u001b[1;32m     21\u001b[0m     \u001b[38;5;28;01mreturn\u001b[39;00m reduce(\u001b[38;5;28;01mlambda\u001b[39;00m acc, fn:\n\u001b[0;32m---> 22\u001b[0m         (\u001b[38;5;28;01mlambda\u001b[39;00m \u001b[38;5;241m*\u001b[39mag, \u001b[38;5;241m*\u001b[39m\u001b[38;5;241m*\u001b[39mkwag: \u001b[43macc\u001b[49m\u001b[43m(\u001b[49m\u001b[43mfn\u001b[49m\u001b[43m(\u001b[49m\u001b[38;5;241;43m*\u001b[39;49m\u001b[43mag\u001b[49m\u001b[43m,\u001b[49m\u001b[43m \u001b[49m\u001b[38;5;241;43m*\u001b[39;49m\u001b[38;5;241;43m*\u001b[39;49m\u001b[43mkwag\u001b[49m\u001b[43m)\u001b[49m\u001b[43m)\u001b[49m),\n\u001b[1;32m     23\u001b[0m     args)\n",
      "File \u001b[0;32m/usr/lib/python3.11/site-packages/syntax_sugar/_pipe.py:70\u001b[0m, in \u001b[0;36mmultiprocess\u001b[0;34m(fn, poolsize, data)\u001b[0m\n\u001b[1;32m     69\u001b[0m \u001b[38;5;28;01mdef\u001b[39;00m \u001b[38;5;21mmultiprocess\u001b[39m(fn, poolsize, data):\n\u001b[0;32m---> 70\u001b[0m     \u001b[38;5;28;01mreturn\u001b[39;00m \u001b[43mmultitask\u001b[49m\u001b[43m(\u001b[49m\u001b[43mfn\u001b[49m\u001b[43m,\u001b[49m\u001b[43m \u001b[49m\u001b[43mpoolsize\u001b[49m\u001b[43m,\u001b[49m\u001b[43m \u001b[49m\u001b[43mdata\u001b[49m\u001b[43m,\u001b[49m\u001b[43m \u001b[49m\u001b[43mPool\u001b[49m\u001b[43m)\u001b[49m\n",
      "File \u001b[0;32m/usr/lib/python3.11/site-packages/syntax_sugar/_pipe.py:67\u001b[0m, in \u001b[0;36mmultitask\u001b[0;34m(fn, poolsize, data, pool_constructor)\u001b[0m\n\u001b[1;32m     65\u001b[0m     \u001b[38;5;28;01mreturn\u001b[39;00m p\u001b[38;5;241m.\u001b[39mmap(fn, data)[\u001b[38;5;241m0\u001b[39m]\n\u001b[1;32m     66\u001b[0m \u001b[38;5;28;01melse\u001b[39;00m:\n\u001b[0;32m---> 67\u001b[0m     \u001b[38;5;28;01mreturn\u001b[39;00m \u001b[43mp\u001b[49m\u001b[38;5;241;43m.\u001b[39;49m\u001b[43mmap\u001b[49m\u001b[43m(\u001b[49m\u001b[43mfn\u001b[49m\u001b[43m,\u001b[49m\u001b[43m \u001b[49m\u001b[43mdata\u001b[49m\u001b[43m)\u001b[49m\n",
      "File \u001b[0;32m/usr/lib/python3.11/site-packages/multiprocess/pool.py:367\u001b[0m, in \u001b[0;36mPool.map\u001b[0;34m(self, func, iterable, chunksize)\u001b[0m\n\u001b[1;32m    362\u001b[0m \u001b[38;5;28;01mdef\u001b[39;00m \u001b[38;5;21mmap\u001b[39m(\u001b[38;5;28mself\u001b[39m, func, iterable, chunksize\u001b[38;5;241m=\u001b[39m\u001b[38;5;28;01mNone\u001b[39;00m):\n\u001b[1;32m    363\u001b[0m \u001b[38;5;250m    \u001b[39m\u001b[38;5;124;03m'''\u001b[39;00m\n\u001b[1;32m    364\u001b[0m \u001b[38;5;124;03m    Apply `func` to each element in `iterable`, collecting the results\u001b[39;00m\n\u001b[1;32m    365\u001b[0m \u001b[38;5;124;03m    in a list that is returned.\u001b[39;00m\n\u001b[1;32m    366\u001b[0m \u001b[38;5;124;03m    '''\u001b[39;00m\n\u001b[0;32m--> 367\u001b[0m     \u001b[38;5;28;01mreturn\u001b[39;00m \u001b[38;5;28;43mself\u001b[39;49m\u001b[38;5;241;43m.\u001b[39;49m\u001b[43m_map_async\u001b[49m\u001b[43m(\u001b[49m\u001b[43mfunc\u001b[49m\u001b[43m,\u001b[49m\u001b[43m \u001b[49m\u001b[43miterable\u001b[49m\u001b[43m,\u001b[49m\u001b[43m \u001b[49m\u001b[43mmapstar\u001b[49m\u001b[43m,\u001b[49m\u001b[43m \u001b[49m\u001b[43mchunksize\u001b[49m\u001b[43m)\u001b[49m\u001b[38;5;241;43m.\u001b[39;49m\u001b[43mget\u001b[49m\u001b[43m(\u001b[49m\u001b[43m)\u001b[49m\n",
      "File \u001b[0;32m/usr/lib/python3.11/site-packages/multiprocess/pool.py:768\u001b[0m, in \u001b[0;36mApplyResult.get\u001b[0;34m(self, timeout)\u001b[0m\n\u001b[1;32m    767\u001b[0m \u001b[38;5;28;01mdef\u001b[39;00m \u001b[38;5;21mget\u001b[39m(\u001b[38;5;28mself\u001b[39m, timeout\u001b[38;5;241m=\u001b[39m\u001b[38;5;28;01mNone\u001b[39;00m):\n\u001b[0;32m--> 768\u001b[0m     \u001b[38;5;28;43mself\u001b[39;49m\u001b[38;5;241;43m.\u001b[39;49m\u001b[43mwait\u001b[49m\u001b[43m(\u001b[49m\u001b[43mtimeout\u001b[49m\u001b[43m)\u001b[49m\n\u001b[1;32m    769\u001b[0m     \u001b[38;5;28;01mif\u001b[39;00m \u001b[38;5;129;01mnot\u001b[39;00m \u001b[38;5;28mself\u001b[39m\u001b[38;5;241m.\u001b[39mready():\n\u001b[1;32m    770\u001b[0m         \u001b[38;5;28;01mraise\u001b[39;00m \u001b[38;5;167;01mTimeoutError\u001b[39;00m\n",
      "File \u001b[0;32m/usr/lib/python3.11/site-packages/multiprocess/pool.py:765\u001b[0m, in \u001b[0;36mApplyResult.wait\u001b[0;34m(self, timeout)\u001b[0m\n\u001b[1;32m    764\u001b[0m \u001b[38;5;28;01mdef\u001b[39;00m \u001b[38;5;21mwait\u001b[39m(\u001b[38;5;28mself\u001b[39m, timeout\u001b[38;5;241m=\u001b[39m\u001b[38;5;28;01mNone\u001b[39;00m):\n\u001b[0;32m--> 765\u001b[0m     \u001b[38;5;28;43mself\u001b[39;49m\u001b[38;5;241;43m.\u001b[39;49m\u001b[43m_event\u001b[49m\u001b[38;5;241;43m.\u001b[39;49m\u001b[43mwait\u001b[49m\u001b[43m(\u001b[49m\u001b[43mtimeout\u001b[49m\u001b[43m)\u001b[49m\n",
      "File \u001b[0;32m/usr/lib/python3.11/threading.py:622\u001b[0m, in \u001b[0;36mEvent.wait\u001b[0;34m(self, timeout)\u001b[0m\n\u001b[1;32m    620\u001b[0m signaled \u001b[38;5;241m=\u001b[39m \u001b[38;5;28mself\u001b[39m\u001b[38;5;241m.\u001b[39m_flag\n\u001b[1;32m    621\u001b[0m \u001b[38;5;28;01mif\u001b[39;00m \u001b[38;5;129;01mnot\u001b[39;00m signaled:\n\u001b[0;32m--> 622\u001b[0m     signaled \u001b[38;5;241m=\u001b[39m \u001b[38;5;28;43mself\u001b[39;49m\u001b[38;5;241;43m.\u001b[39;49m\u001b[43m_cond\u001b[49m\u001b[38;5;241;43m.\u001b[39;49m\u001b[43mwait\u001b[49m\u001b[43m(\u001b[49m\u001b[43mtimeout\u001b[49m\u001b[43m)\u001b[49m\n\u001b[1;32m    623\u001b[0m \u001b[38;5;28;01mreturn\u001b[39;00m signaled\n",
      "File \u001b[0;32m/usr/lib/python3.11/threading.py:320\u001b[0m, in \u001b[0;36mCondition.wait\u001b[0;34m(self, timeout)\u001b[0m\n\u001b[1;32m    318\u001b[0m \u001b[38;5;28;01mtry\u001b[39;00m:    \u001b[38;5;66;03m# restore state no matter what (e.g., KeyboardInterrupt)\u001b[39;00m\n\u001b[1;32m    319\u001b[0m     \u001b[38;5;28;01mif\u001b[39;00m timeout \u001b[38;5;129;01mis\u001b[39;00m \u001b[38;5;28;01mNone\u001b[39;00m:\n\u001b[0;32m--> 320\u001b[0m         \u001b[43mwaiter\u001b[49m\u001b[38;5;241;43m.\u001b[39;49m\u001b[43macquire\u001b[49m\u001b[43m(\u001b[49m\u001b[43m)\u001b[49m\n\u001b[1;32m    321\u001b[0m         gotit \u001b[38;5;241m=\u001b[39m \u001b[38;5;28;01mTrue\u001b[39;00m\n\u001b[1;32m    322\u001b[0m     \u001b[38;5;28;01melse\u001b[39;00m:\n",
      "\u001b[0;31mKeyboardInterrupt\u001b[0m: "
     ]
    }
   ],
   "source": [
    "get_S_q2(0.2, ch2)"
   ]
  },
  {
   "cell_type": "code",
   "execution_count": 8,
   "id": "a08e0ae8",
   "metadata": {},
   "outputs": [],
   "source": [
    "def get_S_q(q):\n",
    "    res = pipe(ch2.erange) | p[lambda z: ch2.func(z, q, ch2.T, ch2.iImT, ch2.p_j.iImG)]*(NTHR//1) | END\n",
    "    return array(res)"
   ]
  },
  {
   "cell_type": "code",
   "execution_count": 9,
   "id": "8d3be22c",
   "metadata": {
    "run_control": {
     "marked": false
    }
   },
   "outputs": [
    {
     "data": {
      "text/plain": [
       "array([0.00000000e+000, 0.00000000e+000, 2.25190676e-127, 5.19263331e-125,\n",
       "       6.25429555e-123, 4.16275769e-019, 4.99538821e-019, 5.85826037e-019,\n",
       "       6.75264035e-019, 1.61112317e-013, 1.76653307e-013, 1.92718575e-013,\n",
       "       2.09328553e-013, 2.26504649e-013, 2.14729250e-012, 2.23371864e-012,\n",
       "       2.32259743e-012, 2.41401084e-012, 2.50804417e-012, 2.60482203e-012,\n",
       "       2.71054319e-012, 7.84157336e-012, 8.10846793e-012, 8.38293621e-012,\n",
       "       8.66524811e-012, 8.98320217e-012, 9.31612952e-012, 9.65900900e-012,\n",
       "       6.53068997e-011, 6.76832248e-011, 7.02295159e-011, 7.27213382e-011,\n",
       "       7.59644762e-011, 7.90914222e-011, 8.24172144e-011, 8.59896411e-011,\n",
       "       3.41215755e-010, 3.62799136e-010, 3.86203956e-010, 4.10615087e-010,\n",
       "       4.36678229e-010, 4.65974292e-010, 4.98156919e-010, 5.32316482e-010,\n",
       "       5.68628848e-010, 6.15079940e-010, 6.59918654e-010, 7.07521187e-010,\n",
       "       7.58264056e-010, 8.12453473e-010, 8.73137432e-010, 9.38813231e-010,\n",
       "       1.01117055e-009, 1.08496291e-009, 1.16834310e-009, 1.25923330e-009,\n",
       "       1.35703051e-009, 1.46035056e-009, 1.57267368e-009, 1.69675771e-009,\n",
       "       1.83070735e-009, 1.97476877e-009, 2.07828459e-009, 2.24962424e-009,\n",
       "       2.43907064e-009, 2.64767240e-009, 2.89347321e-009, 3.14384903e-009,\n",
       "       3.39595844e-009, 3.69494044e-009, 4.02057771e-009, 4.38053530e-009,\n",
       "       4.77639597e-009, 5.21046969e-009, 5.68800573e-009, 6.21433448e-009,\n",
       "       6.79131514e-009, 7.41622888e-009, 8.11083416e-009, 8.87195168e-009,\n",
       "       9.70978278e-009, 1.06296621e-008, 1.16378017e-008, 1.27477455e-008,\n",
       "       1.39634008e-008, 1.52939891e-008, 1.67236249e-008, 1.83909882e-008,\n",
       "       2.01883823e-008, 2.21555094e-008, 2.43457227e-008, 2.67780659e-008,\n",
       "       2.94819493e-008, 3.25169128e-008, 3.59691966e-008, 3.98443509e-008,\n",
       "       4.42742846e-008, 4.93335920e-008, 5.51468600e-008, 6.19221591e-008,\n",
       "       6.98651374e-008, 7.92516068e-008, 9.05048919e-008, 1.04083947e-007,\n",
       "       1.20542991e-007, 1.40811046e-007, 1.65796606e-007, 1.96935311e-007,\n",
       "       2.36033836e-007, 2.85583433e-007, 3.52093395e-007, 4.40727120e-007,\n",
       "       5.56394982e-007, 9.23428835e-007, 1.13245505e-006, 2.02653347e-006,\n",
       "       2.72996904e-006, 6.23664700e-006, 7.41298338e-006, 1.25206585e-005,\n",
       "       1.40136172e-005, 1.85915923e-005, 2.13609410e-005, 2.49055672e-005,\n",
       "       3.35352768e-005, 3.93164231e-005, 5.15407154e-005, 6.50280019e-005,\n",
       "       9.31074625e-005, 1.07678996e-004, 1.74937068e-004, 1.80717123e-004,\n",
       "       3.17349599e-004, 3.09519888e-004, 5.74397816e-004, 5.85793732e-004,\n",
       "       1.05141202e-003, 1.21852628e-003, 1.70321940e-003, 2.18498635e-003,\n",
       "       2.31646592e-003, 3.07341553e-003, 2.85559965e-003, 4.09732239e-003,\n",
       "       5.31032852e-003, 6.62232445e-003, 8.46798836e-003, 1.08067923e-002,\n",
       "       7.25940134e-003, 7.92206060e-003, 3.84235143e-003, 3.36507455e-003,\n",
       "       1.62039693e-003, 1.32025262e-003, 8.17474583e-004, 6.27134584e-004,\n",
       "       5.24540884e-004, 3.54443588e-004, 3.34090927e-004, 2.34275404e-004,\n",
       "       2.43969724e-004, 1.76152094e-004, 1.67662623e-004, 1.40406862e-004,\n",
       "       1.19411791e-004, 1.15165705e-004, 9.01763419e-005, 9.34778276e-005,\n",
       "       7.14162492e-005, 6.99549016e-005, 5.91497784e-005, 5.14261321e-005,\n",
       "       4.93930141e-005, 3.93228967e-005, 4.06607616e-005, 3.18073806e-005,\n",
       "       3.20063957e-005, 2.73840778e-005, 2.42595435e-005, 2.37857897e-005,\n",
       "       1.89849435e-005, 2.02999055e-005, 1.57069809e-005, 1.66788287e-005,\n",
       "       1.38965733e-005, 1.42343211e-005, 1.25568527e-005, 1.03528739e-005,\n",
       "       1.10797916e-005, 8.62767341e-006, 9.75317977e-006, 7.50567015e-006,\n",
       "       1.07036282e-005, 6.88928978e-006, 6.70345652e-006, 5.68285632e-006,\n",
       "       5.51917298e-006, 5.47789822e-006, 6.81849062e-006, 5.09354264e-006,\n",
       "       5.94633961e-006, 6.12308067e-006, 5.42372956e-006, 3.48120302e-006,\n",
       "       3.10416343e-006, 3.17007560e-006, 3.80495544e-006, 5.45477150e-006,\n",
       "       3.60351015e-006, 3.79105275e-006, 3.60001934e-006, 2.15087267e-006,\n",
       "       2.17471221e-006, 1.87052097e-006, 4.09985726e-006, 2.41895745e-006,\n",
       "       2.50990581e-006, 2.79212997e-006, 1.68751655e-006, 1.37464214e-006,\n",
       "       2.34240502e-006, 2.12330741e-006, 1.77268026e-006, 2.01554112e-006,\n",
       "       1.53392853e-006, 1.49504771e-006, 1.79434211e-006, 1.33378727e-006,\n",
       "       1.48233340e-006, 1.53035300e-006, 1.45776232e-006, 1.02605218e-006,\n",
       "       1.29898015e-006, 1.24698947e-006, 8.95462323e-007, 7.87859736e-007,\n",
       "       6.52735317e-007, 5.00809689e-007, 3.87752723e-007, 3.46923774e-007,\n",
       "       3.21503931e-007, 3.00593362e-007, 2.82248090e-007, 2.65718618e-007,\n",
       "       2.51487788e-007, 2.36256287e-007, 2.22944188e-007, 2.10448663e-007,\n",
       "       1.98690629e-007, 1.87671363e-007, 1.77233203e-007])"
      ]
     },
     "execution_count": 9,
     "metadata": {},
     "output_type": "execute_result"
    }
   ],
   "source": [
    "get_S_q(0.3)"
   ]
  },
  {
   "cell_type": "code",
   "execution_count": 11,
   "id": "c4fc0c60",
   "metadata": {},
   "outputs": [
    {
     "name": "stderr",
     "output_type": "stream",
     "text": [
      "\n",
      "KeyboardInterrupt\n",
      "\n"
     ]
    }
   ],
   "source": [
    "QuarkTM.get_S_q(ch2, 0.3)"
   ]
  },
  {
   "cell_type": "code",
   "execution_count": 9,
   "id": "d5a5df71",
   "metadata": {},
   "outputs": [
    {
     "data": {
      "text/plain": [
       "[<matplotlib.lines.Line2D at 0x7fda16566c50>]"
      ]
     },
     "execution_count": 9,
     "metadata": {},
     "output_type": "execute_result"
    },
    {
     "data": {
      "image/png": "[encoded data removed]",
      "text/plain": [
       "<Figure size 700x700 with 1 Axes>"
      ]
     },
     "metadata": {},
     "output_type": "display_data"
    }
   ],
   "source": [
    "plt.plot(ch1.erange, ch1.ImS[:, 0])"
   ]
  },
  {
   "cell_type": "code",
   "execution_count": null,
   "id": "67a33a4b",
   "metadata": {},
   "outputs": [],
   "source": [
    "plt.plot(ch1.erange, ch1.ImS[:, 0])"
   ]
  }
 ],
 "metadata": {
  "hide_input": false,
  "kernelspec": {
   "display_name": "Python 3 (ipykernel)",
   "language": "python",
   "name": "python3"
  },
  "language_info": {
   "codemirror_mode": {
    "name": "ipython",
    "version": 3
   },
   "file_extension": ".py",
   "mimetype": "text/x-python",
   "name": "python",
   "nbconvert_exporter": "python",
   "pygments_lexer": "ipython3",
   "version": "3.11.3"
  },
  "toc": {
   "base_numbering": 1,
   "nav_menu": {},
   "number_sections": true,
   "sideBar": true,
   "skip_h1_title": false,
   "title_cell": "Table of Contents",
   "title_sidebar": "Contents",
   "toc_cell": false,
   "toc_position": {},
   "toc_section_display": true,
   "toc_window_display": false
  }
 },
 "nbformat": 4,
 "nbformat_minor": 5
}
