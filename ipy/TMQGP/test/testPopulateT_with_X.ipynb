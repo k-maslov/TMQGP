{
 "cells": [
  {
   "cell_type": "code",
   "execution_count": 15,
   "id": "00759c57",
   "metadata": {},
   "outputs": [],
   "source": [
    "import TMQGP as tm\n",
    "from numpy import *\n",
    "import QuarkTM\n",
    "import numpy as np\n",
    "\n",
    "import matplotlib\n",
    "matplotlib.style.use('publication23')"
   ]
  },
  {
   "cell_type": "code",
   "execution_count": 16,
   "id": "72afc317",
   "metadata": {},
   "outputs": [],
   "source": [
    "erange = linspace(-5, 5, 201)\n",
    "qrange = linspace(0, 5, 151)"
   ]
  },
  {
   "cell_type": "code",
   "execution_count": 17,
   "id": "81de77b4",
   "metadata": {},
   "outputs": [],
   "source": [
    "q = QuarkTM.Particle(0.5, qrange, erange, eps=2e-2)"
   ]
  },
  {
   "cell_type": "code",
   "execution_count": 18,
   "id": "bca40929",
   "metadata": {},
   "outputs": [],
   "source": [
    "ch = QuarkTM.Channel(q, q, 0.15, G=6)"
   ]
  },
  {
   "cell_type": "code",
   "execution_count": 19,
   "id": "7bfb0de0",
   "metadata": {},
   "outputs": [],
   "source": [
    "ch2 = QuarkTM.Channel(q, q, 0.15, G=6)"
   ]
  },
  {
   "cell_type": "code",
   "execution_count": 20,
   "id": "8b7f76d4",
   "metadata": {},
   "outputs": [
    {
     "data": {
      "application/vnd.jupyter.widget-view+json": {
       "model_id": "3934aa04493e49b0a72f0fa9f88184ee",
       "version_major": 2,
       "version_minor": 0
      },
      "text/plain": [
       "  0%|          | 0/201 [00:00<?, ?it/s]"
      ]
     },
     "metadata": {},
     "output_type": "display_data"
    }
   ],
   "source": [
    "ch.populate_T_old()"
   ]
  },
  {
   "cell_type": "code",
   "execution_count": 21,
   "id": "ac1ec8e8",
   "metadata": {},
   "outputs": [
    {
     "data": {
      "application/vnd.jupyter.widget-view+json": {
       "model_id": "3ec76b927f0f49028b78f54642ef106e",
       "version_major": 2,
       "version_minor": 0
      },
      "text/plain": [
       "  0%|          | 0/201 [00:00<?, ?it/s]"
      ]
     },
     "metadata": {},
     "output_type": "display_data"
    }
   ],
   "source": [
    "ch2.populate_T()"
   ]
  },
  {
   "cell_type": "code",
   "execution_count": 22,
   "id": "b8e47c94",
   "metadata": {},
   "outputs": [
    {
     "data": {
      "text/plain": [
       "[<matplotlib.lines.Line2D at 0x7f068c1f3f90>]"
      ]
     },
     "execution_count": 22,
     "metadata": {},
     "output_type": "execute_result"
    },
    {
     "data": {
      "image/png": "[encoded data removed]",
      "text/plain": [
       "<Figure size 600x400 with 1 Axes>"
      ]
     },
     "metadata": {},
     "output_type": "display_data"
    }
   ],
   "source": [
    "plt.plot(erange, imag(ch.TM[:, 0]))\n",
    "plt.plot(erange, imag(ch2.TM[:, 0]))"
   ]
  },
  {
   "cell_type": "code",
   "execution_count": null,
   "id": "a397aa71",
   "metadata": {},
   "outputs": [],
   "source": []
  }
 ],
 "metadata": {
  "hide_input": false,
  "kernelspec": {
   "display_name": "Python 3 (ipykernel)",
   "language": "python",
   "name": "python3"
  },
  "language_info": {
   "codemirror_mode": {
    "name": "ipython",
    "version": 3
   },
   "file_extension": ".py",
   "mimetype": "text/x-python",
   "name": "python",
   "nbconvert_exporter": "python",
   "pygments_lexer": "ipython3",
   "version": "3.11.3"
  },
  "toc": {
   "base_numbering": 1,
   "nav_menu": {},
   "number_sections": true,
   "sideBar": true,
   "skip_h1_title": false,
   "title_cell": "Table of Contents",
   "title_sidebar": "Contents",
   "toc_cell": false,
   "toc_position": {},
   "toc_section_display": true,
   "toc_window_display": false
  }
 },
 "nbformat": 4,
 "nbformat_minor": 5
}
