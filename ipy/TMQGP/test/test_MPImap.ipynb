{
 "cells": [
  {
   "cell_type": "code",
   "execution_count": 14,
   "id": "ca4563d6-8e96-4a78-8ecd-a43ea8f501bd",
   "metadata": {},
   "outputs": [],
   "source": [
    "import mpiprocessing\n",
    "import multiprocessing\n",
    "from numpy import *\n",
    "import QuarkTM\n",
    "import TMQGP as tm"
   ]
  },
  {
   "cell_type": "code",
   "execution_count": 30,
   "id": "84d1fc0e-5cbb-4bb3-bf86-566b8d4486ad",
   "metadata": {},
   "outputs": [],
   "source": [
    "qrange = linspace(0, 5, 51)\n",
    "erange = linspace(-5, 5, 5001)"
   ]
  },
  {
   "cell_type": "code",
   "execution_count": 31,
   "id": "3fdf7078-6a14-414b-865e-32e57a5a9788",
   "metadata": {},
   "outputs": [],
   "source": [
    "pQ = QuarkTM.Particle(0.6, qrange, erange)"
   ]
  },
  {
   "cell_type": "code",
   "execution_count": 32,
   "id": "3b7ed10b-48ad-42d4-9df7-3fd254d6813b",
   "metadata": {},
   "outputs": [],
   "source": [
    "ch = QuarkTM.Channel(pQ, pQ, 0.2)"
   ]
  },
  {
   "cell_type": "code",
   "execution_count": 33,
   "id": "e7ba8839-1564-4ba9-a8bc-4f8074779969",
   "metadata": {},
   "outputs": [],
   "source": [
    "ch.populate_T()"
   ]
  },
  {
   "cell_type": "code",
   "execution_count": 34,
   "id": "5169dd2f-10d9-4840-9284-3a72a3433123",
   "metadata": {},
   "outputs": [],
   "source": [
    "iEps = tm.Interpolator(qrange, pQ.om0(qrange), 'linear')"
   ]
  },
  {
   "cell_type": "code",
   "execution_count": 35,
   "id": "9f736085-01ab-44d7-8713-00f7a1c3251e",
   "metadata": {},
   "outputs": [
    {
     "name": "stdout",
     "output_type": "stream",
     "text": [
      "4.52 s ± 114 ms per loop (mean ± std. dev. of 7 runs, 1 loop each)\n"
     ]
    }
   ],
   "source": [
    "%%timeit\n",
    "sigma = array([tm.sigma_ff_onshell(o, 0, 0.2, ch.iImT, pQ.R, iEps, iEps) for o in erange])"
   ]
  },
  {
   "cell_type": "code",
   "execution_count": 25,
   "id": "2e9a98a8-f0b9-4a16-a9d7-15a762de1595",
   "metadata": {},
   "outputs": [],
   "source": [
    "def func(z):\n",
    "    return  tm.sigma_ff_onshell(*z)"
   ]
  },
  {
   "cell_type": "code",
   "execution_count": 39,
   "id": "f8dc9359-05de-4fcb-84e5-69244d0412d3",
   "metadata": {},
   "outputs": [
    {
     "name": "stderr",
     "output_type": "stream",
     "text": [
      "[constasusmj:1271613] *** Process received signal ***\n",
      "[constasusmj:1271613] Signal: Segmentation fault (11)\n",
      "[constasusmj:1271613] Signal code: Address not mapped (1)\n",
      "[constasusmj:1271613] Failing at address: 0x7f872d550ff8\n",
      "[constasusmj:1271613] [ 0] /usr/lib/libc.so.6(+0x3e710)[0x7f87b803e710]\n",
      "[constasusmj:1271613] [ 1] /usr/lib/libc.so.6(+0x15d64d)[0x7f87b815d64d]\n",
      "[constasusmj:1271613] [ 2] /usr/lib/libopen-pal.so.40(opal_convertor_pack+0xbf)[0x7f87b7729eaf]\n",
      "[constasusmj:1271613] [ 3] /usr/lib/openmpi/mca_btl_smcuda.so(mca_btl_smcuda_prepare_src+0x139)[0x7f87b5a1c209]\n",
      "[constasusmj:1271613] [ 4] /usr/lib/openmpi/mca_pml_ob1.so(mca_pml_ob1_send_request_schedule_once+0x206)[0x7f87b57d0646]\n",
      "[constasusmj:1271613] [ 5] /usr/lib/openmpi/mca_pml_ob1.so(mca_pml_ob1_recv_frag_callback_ack+0x12e)[0x7f87b57cb5be]\n",
      "[constasusmj:1271613] [ 6] /usr/lib/openmpi/mca_btl_smcuda.so(mca_btl_smcuda_component_progress+0x436)[0x7f87b5a1dd96]\n",
      "[constasusmj:1271613] [ 7] /usr/lib/libopen-pal.so.40(opal_progress+0x34)[0x7f87b7714824]\n",
      "[constasusmj:1271613] [ 8] /usr/lib/libopen-pal.so.40(ompi_sync_wait_mt+0x10e)[0x7f87b772534e]\n",
      "[constasusmj:1271613] [ 9] /usr/lib/openmpi/mca_pml_ob1.so(mca_pml_ob1_mprobe+0x59c)[0x7f87b57ce8bc]\n",
      "[constasusmj:1271613] [10] /usr/lib/libmpi.so.40(PMPI_Mprobe+0xe1)[0x7f87b78cdbb1]\n",
      "[constasusmj:1271613] [11] /home/const/.local/lib/python3.11/site-packages/mpi4py/MPI.cpython-311-x86_64-linux-gnu.so(+0x6ef52)[0x7f87b79eaf52]\n",
      "[constasusmj:1271613] [12] /home/const/.local/lib/python3.11/site-packages/mpi4py/MPI.cpython-311-x86_64-linux-gnu.so(+0xcf1d6)[0x7f87b7a4b1d6]\n",
      "[constasusmj:1271613] [13] /usr/lib/libpython3.11.so.1.0(+0x204925)[0x7f87b8604925]\n",
      "[constasusmj:1271613] [14] /usr/lib/libpython3.11.so.1.0(PyObject_Vectorcall+0x37)[0x7f87b85f20d7]\n",
      "[constasusmj:1271613] [15] /usr/lib/libpython3.11.so.1.0(_PyEval_EvalFrameDefault+0x759)[0x7f87b85e4379]\n",
      "[constasusmj:1271613] [16] /usr/lib/libpython3.11.so.1.0(+0x29e9aa)[0x7f87b869e9aa]\n",
      "[constasusmj:1271613] [17] /usr/lib/libpython3.11.so.1.0(PyEval_EvalCode+0xac)[0x7f87b869e3bc]\n",
      "[constasusmj:1271613] [18] /usr/lib/libpython3.11.so.1.0(+0x2bc503)[0x7f87b86bc503]\n",
      "[constasusmj:1271613] [19] /usr/lib/libpython3.11.so.1.0(+0x2b83ca)[0x7f87b86b83ca]\n",
      "[constasusmj:1271613] [20] /usr/lib/libpython3.11.so.1.0(+0x2cecf3)[0x7f87b86cecf3]\n",
      "[constasusmj:1271613] [21] /usr/lib/libpython3.11.so.1.0(_PyRun_SimpleFileObject+0x1c5)[0x7f87b86ce525]\n",
      "[constasusmj:1271613] [22] /usr/lib/libpython3.11.so.1.0(_PyRun_AnyFileObject+0x48)[0x7f87b86ccf18]\n",
      "[constasusmj:1271613] [23] /usr/lib/libpython3.11.so.1.0(Py_RunMain+0x308)[0x7f87b86c77e8]\n",
      "[constasusmj:1271613] [24] /usr/lib/libpython3.11.so.1.0(Py_BytesMain+0x3b)[0x7f87b8690c3b]\n",
      "[constasusmj:1271613] [25] /usr/lib/libc.so.6(+0x27cd0)[0x7f87b8027cd0]\n",
      "[constasusmj:1271613] [26] /usr/lib/libc.so.6(__libc_start_main+0x8a)[0x7f87b8027d8a]\n",
      "[constasusmj:1271613] [27] python3(_start+0x25)[0x55bc1d39d045]\n",
      "[constasusmj:1271613] *** End of error message ***\n",
      "--------------------------------------------------------------------------\n",
      "Primary job  terminated normally, but 1 process returned\n",
      "a non-zero exit code. Per user-direction, the job has been aborted.\n",
      "--------------------------------------------------------------------------\n",
      "--------------------------------------------------------------------------\n",
      "mpiexec noticed that process rank 0 with PID 0 on node constasusmj exited on signal 11 (Segmentation fault).\n",
      "--------------------------------------------------------------------------\n"
     ]
    },
    {
     "ename": "UnpicklingError",
     "evalue": "invalid load key, '\\x00'.",
     "output_type": "error",
     "traceback": [
      "\u001b[0;31m---------------------------------------------------------------------------\u001b[0m",
      "\u001b[0;31mUnpicklingError\u001b[0m                           Traceback (most recent call last)",
      "Cell \u001b[0;32mIn[39], line 2\u001b[0m\n\u001b[1;32m      1\u001b[0m \u001b[38;5;28;01mwith\u001b[39;00m mpiprocessing\u001b[38;5;241m.\u001b[39mPool() \u001b[38;5;28;01mas\u001b[39;00m p:\n\u001b[0;32m----> 2\u001b[0m     sigma_par \u001b[38;5;241m=\u001b[39m \u001b[43mp\u001b[49m\u001b[38;5;241;43m.\u001b[39;49m\u001b[43mmap\u001b[49m\u001b[43m(\u001b[49m\u001b[43mfunc\u001b[49m\u001b[43m,\u001b[49m\u001b[43m \u001b[49m\u001b[43m[\u001b[49m\u001b[43m(\u001b[49m\u001b[43mo\u001b[49m\u001b[43m,\u001b[49m\u001b[43m \u001b[49m\u001b[38;5;241;43m0\u001b[39;49m\u001b[43m,\u001b[49m\u001b[43m \u001b[49m\u001b[38;5;241;43m0.2\u001b[39;49m\u001b[43m,\u001b[49m\u001b[43m \u001b[49m\u001b[43mch\u001b[49m\u001b[38;5;241;43m.\u001b[39;49m\u001b[43miImT\u001b[49m\u001b[43m,\u001b[49m\u001b[43m \u001b[49m\u001b[43mpQ\u001b[49m\u001b[38;5;241;43m.\u001b[39;49m\u001b[43mR\u001b[49m\u001b[43m,\u001b[49m\u001b[43m \u001b[49m\u001b[43miEps\u001b[49m\u001b[43m,\u001b[49m\u001b[43m \u001b[49m\u001b[43miEps\u001b[49m\u001b[43m)\u001b[49m\u001b[43m \u001b[49m\u001b[38;5;28;43;01mfor\u001b[39;49;00m\u001b[43m \u001b[49m\u001b[43mo\u001b[49m\u001b[43m \u001b[49m\u001b[38;5;129;43;01min\u001b[39;49;00m\u001b[43m \u001b[49m\u001b[43merange\u001b[49m\u001b[43m]\u001b[49m\u001b[43m)\u001b[49m\n",
      "File \u001b[0;32m~/.local/lib/python3.11/site-packages/mpiprocessing/pool.py:234\u001b[0m, in \u001b[0;36mPool.map\u001b[0;34m(self, worker, params)\u001b[0m\n\u001b[1;32m    232\u001b[0m \u001b[38;5;28mself\u001b[39m\u001b[38;5;241m.\u001b[39m_waitflag(\u001b[38;5;241m3\u001b[39m)\n\u001b[1;32m    233\u001b[0m \u001b[38;5;28mself\u001b[39m\u001b[38;5;241m.\u001b[39mmm_result\u001b[38;5;241m.\u001b[39mseek(\u001b[38;5;241m0\u001b[39m)\n\u001b[0;32m--> 234\u001b[0m results \u001b[38;5;241m=\u001b[39m \u001b[43mpickle\u001b[49m\u001b[38;5;241;43m.\u001b[39;49m\u001b[43mload\u001b[49m\u001b[43m(\u001b[49m\u001b[38;5;28;43mself\u001b[39;49m\u001b[38;5;241;43m.\u001b[39;49m\u001b[43mmm_result\u001b[49m\u001b[43m)\u001b[49m\n\u001b[1;32m    235\u001b[0m \u001b[38;5;28mself\u001b[39m\u001b[38;5;241m.\u001b[39m_setflag(\u001b[38;5;241m6\u001b[39m)\n\u001b[1;32m    236\u001b[0m \u001b[38;5;28;01mreturn\u001b[39;00m results\n",
      "\u001b[0;31mUnpicklingError\u001b[0m: invalid load key, '\\x00'."
     ]
    }
   ],
   "source": [
    "with mpiprocessing.Pool() as p:\n",
    "    sigma_par = p.map(func, [(o, 0, 0.2, ch.iImT, pQ.R, iEps, iEps) for o in erange])"
   ]
  },
  {
   "cell_type": "code",
   "execution_count": 9,
   "id": "23155a74-efa4-4390-8bcf-c1b14965fb02",
   "metadata": {},
   "outputs": [],
   "source": [
    "import pickle"
   ]
  },
  {
   "cell_type": "code",
   "execution_count": 10,
   "id": "f04f9873-6fe3-42b2-92ce-ae8de6308616",
   "metadata": {},
   "outputs": [],
   "source": [
    "pic = pickle.dumps(pQ.R)"
   ]
  },
  {
   "cell_type": "code",
   "execution_count": 11,
   "id": "80233ae4-b217-48e4-8c1d-27a9c6d000f9",
   "metadata": {},
   "outputs": [],
   "source": [
    "inter = pickle.loads(pic)"
   ]
  }
 ],
 "metadata": {
  "kernelspec": {
   "display_name": "Python 3 (ipykernel)",
   "language": "python",
   "name": "python3"
  },
  "language_info": {
   "codemirror_mode": {
    "name": "ipython",
    "version": 3
   },
   "file_extension": ".py",
   "mimetype": "text/x-python",
   "name": "python",
   "nbconvert_exporter": "python",
   "pygments_lexer": "ipython3",
   "version": "3.11.3"
  }
 },
 "nbformat": 4,
 "nbformat_minor": 5
}
