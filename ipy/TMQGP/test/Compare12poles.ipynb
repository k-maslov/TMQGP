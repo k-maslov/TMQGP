{
 "cells": [
  {
   "cell_type": "code",
   "execution_count": 61,
   "id": "aa0f2201",
   "metadata": {},
   "outputs": [],
   "source": [
    "import TMQGP as tm\n",
    "import QuarkTM\n",
    "from numpy import *"
   ]
  },
  {
   "cell_type": "code",
   "execution_count": 62,
   "id": "0109855b",
   "metadata": {},
   "outputs": [],
   "source": [
    "import matplotlib \n",
    "matplotlib.style.use('publication23')"
   ]
  },
  {
   "cell_type": "code",
   "execution_count": 63,
   "id": "a93e01c1",
   "metadata": {},
   "outputs": [],
   "source": [
    "qrange = linspace(0, 5, 51)\n",
    "erange = linspace(-5, 5, 251)"
   ]
  },
  {
   "cell_type": "code",
   "execution_count": 118,
   "id": "85646a91",
   "metadata": {},
   "outputs": [],
   "source": [
    "g = QuarkTM.Particle(1., qrange, erange, eps=2e-2, stat='b')\n",
    "g2 = QuarkTM.Particle(1., qrange, erange, eps=2e-2, stat='b', propagator=2)\n",
    "q = QuarkTM.Particle(0.5, qrange, erange, eps=2e-2, stat='f')"
   ]
  },
  {
   "cell_type": "markdown",
   "id": "d685d489",
   "metadata": {},
   "source": [
    "# Compare $\\Sigma_{gg}$  for 1- and 2-pole propagators"
   ]
  },
  {
   "cell_type": "code",
   "execution_count": 119,
   "id": "1f2830d4",
   "metadata": {},
   "outputs": [],
   "source": [
    "T = 0.2\n",
    "G = 6\n"
   ]
  },
  {
   "cell_type": "markdown",
   "id": "e0856d26",
   "metadata": {},
   "source": [
    "Here I evaluate the $T$-matrices and $\\Sigma$ for 1- and 2-pole definitions of boson propagators:\n",
    "\n",
    "\\begin{gather}\n",
    "    G^{(1)} = \\frac{1}{\\omega - \\omega_k + i\\eta}, \\\\\n",
    "    G^{(2)} = \\frac{1}{\\omega^2 - \\omega_k^2 + i\\eta \\omega}\n",
    "\\end{gather}"
   ]
  },
  {
   "cell_type": "code",
   "execution_count": 120,
   "id": "daed5646",
   "metadata": {},
   "outputs": [],
   "source": [
    "ch1 = QuarkTM.Channel(g, g, T, G=G)\n",
    "ch2 = QuarkTM.Channel(g2, g2, T, G=G)"
   ]
  },
  {
   "cell_type": "markdown",
   "id": "e7ad9c32",
   "metadata": {},
   "source": [
    "The 2-particle propagators $G_{gg}$ in two cases:"
   ]
  },
  {
   "cell_type": "code",
   "execution_count": 121,
   "id": "f89bf333",
   "metadata": {},
   "outputs": [
    {
     "data": {
      "text/plain": [
       "Text(0.5, 0, '$\\\\omega$ [GeV]')"
      ]
     },
     "execution_count": 121,
     "metadata": {},
     "output_type": "execute_result"
    },
    {
     "data": {
      "image/png": "[encoded data removed]",
      "text/plain": [
       "<Figure size 600x400 with 1 Axes>"
      ]
     },
     "metadata": {},
     "output_type": "display_data"
    }
   ],
   "source": [
    "plt.plot(erange, -2*ch1.ImG2[:, 0])\n",
    "plt.plot(erange, -2*ch2.ImG2[:, 0])\n",
    "plt.ylabel(r'$-2 \\Im G_{gg}(\\omega, 0)$')\n",
    "plt.xlabel(r'$\\omega$ [GeV]')\n",
    "\n",
    "# plt.ylim(-0.1, 0.1)"
   ]
  },
  {
   "cell_type": "code",
   "execution_count": 122,
   "id": "95690d95",
   "metadata": {},
   "outputs": [],
   "source": [
    "from scipy.integrate import quad"
   ]
  },
  {
   "cell_type": "code",
   "execution_count": 123,
   "id": "01a92340",
   "metadata": {},
   "outputs": [
    {
     "name": "stderr",
     "output_type": "stream",
     "text": [
      "/tmp/ipykernel_46196/805471368.py:1: IntegrationWarning: The maximum number of subdivisions (50) has been achieved.\n",
      "  If increasing the limit yields no improvement it is advised to analyze \n",
      "  the integrand in order to determine the difficulties.  If the position of a \n",
      "  local difficulty can be determined (singularity, discontinuity) one will \n",
      "  probably gain from splitting up the interval and calling the integrator \n",
      "  on the subranges.  Perhaps a special-purpose integrator should be used.\n",
      "  quad(lambda z: -2*ch1.iImG2(0, z), -5, 5)[0]/2/pi\n"
     ]
    },
    {
     "data": {
      "text/plain": [
       "1.441613113289109"
      ]
     },
     "execution_count": 123,
     "metadata": {},
     "output_type": "execute_result"
    }
   ],
   "source": [
    "quad(lambda z: -2*ch1.iImG2(0, z), -5, 5)[0]/2/pi"
   ]
  },
  {
   "cell_type": "code",
   "execution_count": 124,
   "id": "fce8934f",
   "metadata": {},
   "outputs": [
    {
     "name": "stderr",
     "output_type": "stream",
     "text": [
      "/tmp/ipykernel_46196/3312358227.py:1: IntegrationWarning: The maximum number of subdivisions (50) has been achieved.\n",
      "  If increasing the limit yields no improvement it is advised to analyze \n",
      "  the integrand in order to determine the difficulties.  If the position of a \n",
      "  local difficulty can be determined (singularity, discontinuity) one will \n",
      "  probably gain from splitting up the interval and calling the integrator \n",
      "  on the subranges.  Perhaps a special-purpose integrator should be used.\n",
      "  quad(lambda z: -2*g.iImG(0, z), -5, 5)\n"
     ]
    },
    {
     "data": {
      "text/plain": [
       "(7.47280911114965, 0.0678813463707437)"
      ]
     },
     "execution_count": 124,
     "metadata": {},
     "output_type": "execute_result"
    }
   ],
   "source": [
    "quad(lambda z: -2*g.iImG(0, z), -5, 5)"
   ]
  },
  {
   "cell_type": "code",
   "execution_count": 133,
   "id": "a4267bbe",
   "metadata": {},
   "outputs": [
    {
     "data": {
      "text/plain": [
       "0.9867438726662476"
      ]
     },
     "execution_count": 133,
     "metadata": {},
     "output_type": "execute_result"
    }
   ],
   "source": [
    "quad(lambda z: -2*z*imag(g2.G0(z, 0)), -5, 5)[0]/2/pi"
   ]
  },
  {
   "cell_type": "code",
   "execution_count": 136,
   "id": "74e3121e",
   "metadata": {},
   "outputs": [
    {
     "data": {
      "text/plain": [
       "0.986712431707766"
      ]
     },
     "execution_count": 136,
     "metadata": {},
     "output_type": "execute_result"
    }
   ],
   "source": [
    "quad(lambda z: -2*imag(g.G0(z, 0)), -5, 5)[0]/2/pi"
   ]
  },
  {
   "cell_type": "code",
   "execution_count": 137,
   "id": "fbdbe2ae",
   "metadata": {},
   "outputs": [
    {
     "data": {
      "text/plain": [
       "0.9974278133162291"
      ]
     },
     "execution_count": 137,
     "metadata": {},
     "output_type": "execute_result"
    }
   ],
   "source": [
    "quad(lambda z: -2*imag(q.G0(z, 0)), -5, 5)[0]/2/pi"
   ]
  },
  {
   "cell_type": "code",
   "execution_count": 96,
   "id": "d5075a65",
   "metadata": {},
   "outputs": [],
   "source": [
    "from numpy import *"
   ]
  },
  {
   "cell_type": "code",
   "execution_count": 97,
   "id": "ee77e7e4",
   "metadata": {},
   "outputs": [
    {
     "name": "stderr",
     "output_type": "stream",
     "text": [
      "/tmp/ipykernel_46196/131083262.py:1: IntegrationWarning: The maximum number of subdivisions (50) has been achieved.\n",
      "  If increasing the limit yields no improvement it is advised to analyze \n",
      "  the integrand in order to determine the difficulties.  If the position of a \n",
      "  local difficulty can be determined (singularity, discontinuity) one will \n",
      "  probably gain from splitting up the interval and calling the integrator \n",
      "  on the subranges.  Perhaps a special-purpose integrator should be used.\n",
      "  quad(lambda z: -2*2*z*ch2.iImG2(0, z), -5, 5)[0]/2/pi\n"
     ]
    },
    {
     "data": {
      "text/plain": [
       "2.3741222644172066"
      ]
     },
     "execution_count": 97,
     "metadata": {},
     "output_type": "execute_result"
    }
   ],
   "source": [
    "quad(lambda z: -2*2*z*ch2.iImG2(0, z), -5, 5)[0]/2/pi"
   ]
  },
  {
   "cell_type": "code",
   "execution_count": null,
   "id": "5f5c249b",
   "metadata": {},
   "outputs": [],
   "source": []
  }
 ],
 "metadata": {
  "hide_input": false,
  "kernelspec": {
   "display_name": "Python 3 (ipykernel)",
   "language": "python",
   "name": "python3"
  },
  "language_info": {
   "codemirror_mode": {
    "name": "ipython",
    "version": 3
   },
   "file_extension": ".py",
   "mimetype": "text/x-python",
   "name": "python",
   "nbconvert_exporter": "python",
   "pygments_lexer": "ipython3",
   "version": "3.11.3"
  },
  "toc": {
   "base_numbering": 1,
   "nav_menu": {},
   "number_sections": true,
   "sideBar": true,
   "skip_h1_title": false,
   "title_cell": "Table of Contents",
   "title_sidebar": "Contents",
   "toc_cell": false,
   "toc_position": {},
   "toc_section_display": true,
   "toc_window_display": false
  }
 },
 "nbformat": 4,
 "nbformat_minor": 5
}
