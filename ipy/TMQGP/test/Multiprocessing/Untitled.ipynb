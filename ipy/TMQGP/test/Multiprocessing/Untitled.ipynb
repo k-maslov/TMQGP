{
 "cells": [
  {
   "cell_type": "code",
   "execution_count": 1,
   "id": "db9777ef-13ef-4aac-a5e1-59525fa9e31f",
   "metadata": {},
   "outputs": [],
   "source": [
    "from numpy import *\n",
    "import TMQGP as tm"
   ]
  },
  {
   "cell_type": "code",
   "execution_count": 2,
   "id": "c201a64e-516f-42ab-9f36-2c021d6a5d89",
   "metadata": {},
   "outputs": [],
   "source": [
    "omrange = linspace(1e-3, 5, 10000000)"
   ]
  },
  {
   "cell_type": "code",
   "execution_count": null,
   "id": "3fdb7c40-7913-4e36-9708-c26796d069c1",
   "metadata": {},
   "outputs": [],
   "source": [
    "%%timeit\n",
    "out = tm.try_integration(omrange, 2, len(omrange))"
   ]
  },
  {
   "cell_type": "code",
   "execution_count": 10,
   "id": "93345a30-f39d-4871-9485-20f1f95ef62e",
   "metadata": {},
   "outputs": [
    {
     "name": "stdout",
     "output_type": "stream",
     "text": [
      "12.5 ms ± 68.1 µs per loop (mean ± std. dev. of 7 runs, 100 loops each)\n"
     ]
    }
   ],
   "source": [
    "%%timeit\n",
    "out = tm.try_integration(omrange, 4, len(omrange))"
   ]
  },
  {
   "cell_type": "code",
   "execution_count": 11,
   "id": "3d979480-0b35-4a64-9579-a9473d917f4f",
   "metadata": {},
   "outputs": [
    {
     "name": "stdout",
     "output_type": "stream",
     "text": [
      "22 ms ± 373 µs per loop (mean ± std. dev. of 7 runs, 10 loops each)\n"
     ]
    }
   ],
   "source": [
    "%%timeit\n",
    "out = tm.try_integration(omrange, 12, len(omrange))"
   ]
  },
  {
   "cell_type": "code",
   "execution_count": null,
   "id": "0dc3ca75-59ec-4e59-a3ed-4e28963cc207",
   "metadata": {},
   "outputs": [],
   "source": [
    "%%timeit\n",
    "out = tm.try_integration(omrange, 10, len(omrange))"
   ]
  },
  {
   "cell_type": "code",
   "execution_count": null,
   "id": "05b12d72-d003-4107-b24d-e1f358ae6cf9",
   "metadata": {},
   "outputs": [],
   "source": []
  }
 ],
 "metadata": {
  "kernelspec": {
   "display_name": "Python 3 (ipykernel)",
   "language": "python",
   "name": "python3"
  },
  "language_info": {
   "codemirror_mode": {
    "name": "ipython",
    "version": 3
   },
   "file_extension": ".py",
   "mimetype": "text/x-python",
   "name": "python",
   "nbconvert_exporter": "python",
   "pygments_lexer": "ipython3",
   "version": "3.11.3"
  }
 },
 "nbformat": 4,
 "nbformat_minor": 5
}
