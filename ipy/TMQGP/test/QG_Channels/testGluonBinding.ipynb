{
 "cells": [
  {
   "cell_type": "code",
   "execution_count": 6,
   "id": "46ff50ea",
   "metadata": {
    "hide_input": false
   },
   "outputs": [],
   "source": [
    "from numpy import *\n",
    "from scipy import signal\n",
    "from scipy.integrate import quad\n",
    "import TMQGP as tm\n",
    "import tqdm.notebook as tqdm\n",
    "from QuarkTM import Particle, Channel"
   ]
  },
  {
   "cell_type": "code",
   "execution_count": 7,
   "id": "244ea101",
   "metadata": {},
   "outputs": [],
   "source": [
    "from syntax_sugar import pipe, END\n",
    "from syntax_sugar import thread_syntax as t, process_syntax as p\n",
    "\n",
    "NTHR = 14"
   ]
  },
  {
   "cell_type": "code",
   "execution_count": 3,
   "id": "0733d525",
   "metadata": {},
   "outputs": [],
   "source": [
    "mQ = 0.6\n",
    "mG = 1.2"
   ]
  },
  {
   "cell_type": "code",
   "execution_count": 4,
   "id": "cfc70dba",
   "metadata": {},
   "outputs": [],
   "source": [
    "T = 0.15\n",
    "\n",
    "params = {'G' : 4.2, 'L' : 1, 'screen' : 1.5}"
   ]
  },
  {
   "cell_type": "code",
   "execution_count": 5,
   "id": "fccb8c06",
   "metadata": {},
   "outputs": [],
   "source": [
    "erange = linspace(-5, 5, 401)\n",
    "qrange = linspace(0, 5, 101)\n",
    "\n",
    "eps = 0.1\n",
    "quark_run = Particle(mQ, qrange, erange, eps=eps)\n",
    "gluon_run = Particle(mG, qrange, erange, eps=eps, stat='b', d=16)"
   ]
  },
  {
   "cell_type": "code",
   "execution_count": null,
   "id": "5046d88a",
   "metadata": {},
   "outputs": [],
   "source": []
  }
 ],
 "metadata": {
  "hide_input": false,
  "kernelspec": {
   "display_name": "Python 3 (ipykernel)",
   "language": "python",
   "name": "python3"
  },
  "language_info": {
   "codemirror_mode": {
    "name": "ipython",
    "version": 3
   },
   "file_extension": ".py",
   "mimetype": "text/x-python",
   "name": "python",
   "nbconvert_exporter": "python",
   "pygments_lexer": "ipython3",
   "version": "3.11.3"
  },
  "toc": {
   "base_numbering": 1,
   "nav_menu": {},
   "number_sections": true,
   "sideBar": true,
   "skip_h1_title": false,
   "title_cell": "Table of Contents",
   "title_sidebar": "Contents",
   "toc_cell": false,
   "toc_position": {},
   "toc_section_display": true,
   "toc_window_display": false
  }
 },
 "nbformat": 4,
 "nbformat_minor": 5
}
