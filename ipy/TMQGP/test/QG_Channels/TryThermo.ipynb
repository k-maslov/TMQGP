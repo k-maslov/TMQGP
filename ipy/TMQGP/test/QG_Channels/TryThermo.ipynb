{
 "cells": [
  {
   "cell_type": "code",
   "execution_count": 1,
   "id": "f2054974-b92f-4f7b-9f1c-631d557f3a6e",
   "metadata": {},
   "outputs": [],
   "source": [
    "from numpy import *\n",
    "from scipy import signal\n",
    "from scipy.integrate import quad\n",
    "import TMQGP as tm\n",
    "import tqdm.notebook as tqdm\n",
    "from QuarkTM import Particle, Channel\n",
    "import QuarkTM\n",
    "import pickle\n",
    "import matplotlib"
   ]
  },
  {
   "cell_type": "code",
   "execution_count": 2,
   "id": "77053460-601f-478d-9ce6-c0ee350d191a",
   "metadata": {},
   "outputs": [],
   "source": [
    "from syntax_sugar import pipe, END\n",
    "from syntax_sugar import thread_syntax as t, process_syntax as p\n",
    "\n",
    "NTHR = 14"
   ]
  },
  {
   "cell_type": "markdown",
   "id": "9cbc6405-492e-4082-a4a3-5d67d6f7abb3",
   "metadata": {},
   "source": [
    "# Import data"
   ]
  },
  {
   "cell_type": "code",
   "execution_count": 3,
   "id": "9354f1f9-cb34-4b6d-b889-3eefaf6f83ea",
   "metadata": {},
   "outputs": [],
   "source": [
    "folder = 'output/ThermoLowres_G=6.60L=0.400MG=1.60screen=4.00/'"
   ]
  },
  {
   "cell_type": "code",
   "execution_count": 4,
   "id": "037fa4c3-3fca-45c1-bf90-0a05d2de9ec9",
   "metadata": {},
   "outputs": [],
   "source": [
    "folder = 'output/ThermoLowres_G=7.60L=0.300MG=1.60screen=2.00/'"
   ]
  },
  {
   "cell_type": "code",
   "execution_count": 5,
   "id": "edaa4a0e-c390-438b-a12c-1a2168319033",
   "metadata": {},
   "outputs": [],
   "source": [
    "trange = array([0.2, 0.3, 0.4, 0.5])"
   ]
  },
  {
   "cell_type": "code",
   "execution_count": 6,
   "id": "26a7caab-05d4-4fd5-bbd6-a31500a8873e",
   "metadata": {},
   "outputs": [],
   "source": [
    "NFS = {\n",
    "    'qa1' : 3, 'qa8' : 3, 'qq3' : 3, 'qq6' : 3, 'qg3' : 1, 'qg6' : 1, 'qg15' : 1,\n",
    "    'gq3' : 3, 'gq6' : 3, 'gq15' : 3, 'gg1' : 1, 'gg16' : 1, 'gg27' : 1\n",
    "}"
   ]
  },
  {
   "cell_type": "code",
   "execution_count": 7,
   "id": "7dac234b-924a-4163-bd52-a0b01acef320",
   "metadata": {},
   "outputs": [],
   "source": [
    "pQs = []\n",
    "pGs = []\n",
    "\n",
    "ch_names_Q = ['qa1', 'qa8', 'qq3', 'qq6', 'qg3', 'qg6', 'qg15']\n",
    "ch_names_G = ['gq3', 'gq6', 'gq15', 'gg1', 'gg16', 'gg27']\n",
    "\n",
    "TMs_Q = []\n",
    "TMs_G = []\n",
    "Xs_Q = []\n",
    "Xs_G = []\n",
    "# Sigmas = []\n",
    "SQs = []\n",
    "SGs = []\n",
    "\n",
    "\n",
    "for T in trange:\n",
    "    qrange = np.loadtxt(folder + 'qrange_T=%.3f.dat'%T)\n",
    "    erange = np.loadtxt(folder + 'erange_T=%.3f.dat'%T)\n",
    "    Gtab_Q = np.loadtxt(folder + 'Q_G_T=%.3f.dat'%T, dtype=complex)\n",
    "    \n",
    "    Gtab_Q = 1/(1/Gtab_Q - 0*5e-2j)\n",
    "    \n",
    "    pQ = QuarkTM.Particle(0.5, qrange, erange, \n",
    "                         Gtab=Gtab_Q)\n",
    "    pQs += [pQ]\n",
    "\n",
    "    Gtab_G = np.loadtxt(folder + 'G_G_T=%.3f.dat'%T, dtype=complex)\n",
    "    \n",
    "    Gtab_G = 1/(1/Gtab_G - 0*5e-2j)\n",
    "    \n",
    "    pG = QuarkTM.Particle(1.4, qrange, erange, \n",
    "                         Gtab=Gtab_G, stat='b', d=16)\n",
    "    pGs += [pG]\n",
    "    \n",
    "    \n",
    "    SQ = np.loadtxt(folder + 'Q_S_T=%.3f.dat'%T, dtype=complex)\n",
    "    \n",
    "    SQs += [SQ]\n",
    "\n",
    "    SG = np.loadtxt(folder + 'G_S_T=%.3f.dat'%T, dtype=complex)\n",
    "    \n",
    "    SGs += [SG]\n",
    "    \n",
    "    tms_Q = dict()\n",
    "    sms_Q = dict()\n",
    "    xms_Q = dict()\n",
    "    for ch in ch_names_Q:\n",
    "#         print(ch)\n",
    "        _tm = np.loadtxt(folder + f'Q_TM_{ch}_T=%.3f.dat'%T,\n",
    "                       dtype=complex)\n",
    "        \n",
    "        _x = np.loadtxt(folder + f'Q_X_{ch}_T=%.3f.dat'%T,\n",
    "                       dtype=complex)\n",
    "        tms_Q[ch] = _tm\n",
    "        \n",
    "#         sigma = np.loadtxt(folder + f'Q_ReS_{ch}_T=%.3f.dat'%T)\n",
    "        # sigma = (1j*np.loadtxt(folder + f'Q_ImS_{ch}_T=%.3f.dat'%T)\n",
    "        #         + np.loadtxt(folder + f'Q_ReS_{ch}_T=%.3f.dat'%T))\n",
    "        \n",
    "        # sms[ch] = sigma\n",
    "        xms_Q[ch] = _x\n",
    "\n",
    "    tms_G = dict()\n",
    "    sms_G = dict()\n",
    "    xms_G = dict()\n",
    "\n",
    "    for ch in ch_names_G:\n",
    "#         print(ch)\n",
    "        _tm = np.loadtxt(folder + f'G_TM_{ch}_T=%.3f.dat'%T,\n",
    "                       dtype=complex)\n",
    "        \n",
    "        _x = np.loadtxt(folder + f'G_X_{ch}_T=%.3f.dat'%T,\n",
    "                       dtype=complex)\n",
    "        tms_G[ch] = _tm\n",
    "        \n",
    "#         sigma = np.loadtxt(folder + f'Q_ReS_{ch}_T=%.3f.dat'%T)\n",
    "        # sigma = (1j*np.loadtxt(folder + f'Q_ImS_{ch}_T=%.3f.dat'%T)\n",
    "        #         + np.loadtxt(folder + f'Q_ReS_{ch}_T=%.3f.dat'%T))\n",
    "        \n",
    "        # sms[ch] = sigma\n",
    "        xms_G[ch] = _x\n",
    "        \n",
    "    Xs_Q += [xms_Q]\n",
    "    TMs_Q += [tms_Q]\n",
    "    Xs_G += [xms_G]\n",
    "    TMs_G += [tms_G]\n",
    "    # Sigmas += [sms]"
   ]
  },
  {
   "cell_type": "markdown",
   "id": "a4a84012-e183-40b8-980f-ca19c88185e6",
   "metadata": {},
   "source": [
    "# Quasiparticle pressure"
   ]
  },
  {
   "cell_type": "code",
   "execution_count": 8,
   "id": "62785294-28ee-41dd-913a-cd2e3f91fb1d",
   "metadata": {},
   "outputs": [],
   "source": [
    "ps_Q = array([tm.OmQ_F(T, pt.iImG, pt.iReG) \n",
    "            for T, pt in zip(trange, pQs)])"
   ]
  },
  {
   "cell_type": "code",
   "execution_count": 9,
   "id": "3fd3f2a3-0767-425d-9b40-4ddd6fc6e555",
   "metadata": {},
   "outputs": [],
   "source": [
    "ps_G = array([tm.OmQ_B(T, pt.iImG, pt.iReG) \n",
    "            for T, pt in zip(trange, pGs)])"
   ]
  },
  {
   "cell_type": "code",
   "execution_count": 10,
   "id": "abe1cf27-7827-401d-a3cc-96403ee95d89",
   "metadata": {},
   "outputs": [
    {
     "data": {
      "text/plain": [
       "[<matplotlib.lines.Line2D at 0x7f87b5e52410>]"
      ]
     },
     "execution_count": 10,
     "metadata": {},
     "output_type": "execute_result"
    },
    {
     "data": {
      "image/png": "[encoded data removed]",
      "text/plain": [
       "<Figure size 700x700 with 1 Axes>"
      ]
     },
     "metadata": {},
     "output_type": "display_data"
    }
   ],
   "source": [
    "plt.plot(trange, 3*3*2*ps_Q/trange**4)\n",
    "plt.plot(trange, 8*2*ps_G/trange**4, ls=':')"
   ]
  },
  {
   "cell_type": "markdown",
   "id": "dd112762-e2e5-41da-a934-2d401ce5fec1",
   "metadata": {},
   "source": [
    "# Self-energy pressure "
   ]
  },
  {
   "cell_type": "code",
   "execution_count": 11,
   "id": "44764664-4a32-4447-8ff2-b5f69b191291",
   "metadata": {},
   "outputs": [],
   "source": [
    "ps_S_Q = []\n",
    "ps_S_G = []\n",
    "\n",
    "# ps_S2 = []\n",
    "\n",
    "for T, pt, sig_tot in zip(trange, pQs, SQs):\n",
    "#     sigma = np.sum(list(sms.values()), axis=0) - 1e-3j\n",
    "    sigma = sig_tot\n",
    "#     plt.plot(erange, real(sigma[:, 0]))\n",
    "    iReS = tm.Interpolator2D(qrange, erange, np.ascontiguousarray(real(sigma)))\n",
    "    iImS = tm.Interpolator2D(qrange, erange, np.ascontiguousarray(imag(sigma)))\n",
    "    \n",
    "    iImG = tm.Interpolator2D(qrange, erange, np.ascontiguousarray(imag(pt.Gtab)))\n",
    "    iReG = tm.Interpolator2D(qrange, erange, np.ascontiguousarray(real(pt.Gtab)))\n",
    "    \n",
    "#     break\n",
    "#     print(T)\n",
    "    ps_S_Q += [tm.OmS_F(T, iImG, iReG, iImS, iReS)]\n",
    "\n",
    "for T, pt, sig_tot in zip(trange, pGs, SGs):\n",
    "#     sigma = np.sum(list(sms.values()), axis=0) - 1e-3j\n",
    "    sigma = sig_tot\n",
    "#     plt.plot(erange, real(sigma[:, 0]))\n",
    "    iReS = tm.Interpolator2D(qrange, erange, np.ascontiguousarray(real(sigma)))\n",
    "    iImS = tm.Interpolator2D(qrange, erange, np.ascontiguousarray(imag(sigma)))\n",
    "    \n",
    "    iImG = tm.Interpolator2D(qrange, erange, np.ascontiguousarray(imag(pt.Gtab)))\n",
    "    iReG = tm.Interpolator2D(qrange, erange, np.ascontiguousarray(real(pt.Gtab)))\n",
    "    \n",
    "#     break\n",
    "#     print(T)\n",
    "    ps_S_G += [tm.OmS_B(T, iImG, iReG, iImS, iReS)]\n",
    "#     ps_S2 += [tm.OmS2_F(T, iImG, iReG, iImS, iReS)]\n",
    "ps_S_Q = array(ps_S_Q)\n",
    "ps_S_G = array(ps_S_G)"
   ]
  },
  {
   "cell_type": "code",
   "execution_count": 12,
   "id": "0a4ea51f-d770-4daf-af61-5afaf954162d",
   "metadata": {},
   "outputs": [
    {
     "data": {
      "text/plain": [
       "[<matplotlib.lines.Line2D at 0x7f87b5d06350>]"
      ]
     },
     "execution_count": 12,
     "metadata": {},
     "output_type": "execute_result"
    },
    {
     "data": {
      "image/png": "[encoded data removed]",
      "text/plain": [
       "<Figure size 700x700 with 1 Axes>"
      ]
     },
     "metadata": {},
     "output_type": "display_data"
    }
   ],
   "source": [
    "plt.plot(trange, 3*3*2*ps_S_Q/trange**4)\n",
    "plt.plot(trange, 8*2*ps_S_G/trange**4)"
   ]
  },
  {
   "cell_type": "code",
   "execution_count": 13,
   "id": "a2804303-ae69-4bf8-bc03-a6de17622bf5",
   "metadata": {},
   "outputs": [],
   "source": [
    "from scipy.integrate import quad\n",
    "\n",
    "Pfree_Q = array([quad(lambda z: z*z*T*log(1 + exp(-sqrt(0.5**2 + z**2)/T)) / 2/pi**2, 0, 5)[0] for T in trange])\n",
    "Pfree_G = array([quad(lambda z: -z*z*T*log(1 - exp(-sqrt(1.4**2 + z**2)/T)) / 2/pi**2, 0, 5)[0] for T in trange])"
   ]
  },
  {
   "cell_type": "code",
   "execution_count": 14,
   "id": "53a7bf1e-9714-40cc-b4d7-9e8dd37280b0",
   "metadata": {},
   "outputs": [
    {
     "data": {
      "text/plain": [
       "[<matplotlib.lines.Line2D at 0x7f87b5b95250>]"
      ]
     },
     "execution_count": 14,
     "metadata": {},
     "output_type": "execute_result"
    },
    {
     "data": {
      "image/png": "[encoded data removed]",
      "text/plain": [
       "<Figure size 700x700 with 1 Axes>"
      ]
     },
     "metadata": {},
     "output_type": "display_data"
    }
   ],
   "source": [
    "plt.plot(trange, 3*3*2*(ps_Q - ps_S_Q)/trange**4)\n",
    "plt.plot(trange, 3*3*2*Pfree_Q/trange**4, ls=':')\n",
    "plt.plot(trange, 8*2*(ps_G - ps_S_G)/trange**4)\n",
    "plt.plot(trange, 8*2*Pfree_G/trange**4, ls=':')"
   ]
  },
  {
   "cell_type": "markdown",
   "id": "407a900c-45d0-40a0-adc6-89302aa170ba",
   "metadata": {},
   "source": [
    "# $\\Phi$ pressure"
   ]
  },
  {
   "cell_type": "markdown",
   "id": "6246807e-380c-40bf-b5ed-8118cb099e2c",
   "metadata": {},
   "source": [
    "## Quarks"
   ]
  },
  {
   "cell_type": "code",
   "execution_count": 15,
   "id": "450afc3f-734d-4b5c-b3b5-9b79b0f88edb",
   "metadata": {},
   "outputs": [],
   "source": [
    "keys_QQ = ['qa1', 'qa8', 'qq3', 'qq6']\n",
    "\n",
    "keys_QG = ['qg3', 'qg6', 'qg15']"
   ]
  },
  {
   "cell_type": "code",
   "execution_count": 18,
   "id": "093df30d-9595-48fd-bfa1-48ea24b783e7",
   "metadata": {},
   "outputs": [
    {
     "name": "stdout",
     "output_type": "stream",
     "text": [
      "qa1 4.0 1.0 1.0\n",
      "qa8 4.0 8.0 0.125\n",
      "qq3 4.0 3.0 0.5\n",
      "qq6 4.0 6.0 0.25\n",
      "qg3 4.0 3.0 1.125\n",
      "qg6 4.0 6.0 0.375\n",
      "qg15 4.0 15.0 0.375\n"
     ]
    },
    {
     "data": {
      "application/vnd.jupyter.widget-view+json": {
       "model_id": "0330093ec29f469abaa8ffeab05b2024",
       "version_major": 2,
       "version_minor": 0
      },
      "text/plain": [
       "  0%|          | 0/21 [00:00<?, ?it/s]"
      ]
     },
     "metadata": {},
     "output_type": "display_data"
    },
    {
     "data": {
      "application/vnd.jupyter.widget-view+json": {
       "model_id": "9b7daea3aa644a32bdb6c41241d2efb2",
       "version_major": 2,
       "version_minor": 0
      },
      "text/plain": [
       "  0%|          | 0/21 [00:00<?, ?it/s]"
      ]
     },
     "metadata": {},
     "output_type": "display_data"
    },
    {
     "data": {
      "application/vnd.jupyter.widget-view+json": {
       "model_id": "1db75a3322e642d5942d2fdfddd86a19",
       "version_major": 2,
       "version_minor": 0
      },
      "text/plain": [
       "  0%|          | 0/21 [00:00<?, ?it/s]"
      ]
     },
     "metadata": {},
     "output_type": "display_data"
    },
    {
     "data": {
      "application/vnd.jupyter.widget-view+json": {
       "model_id": "6416c75d5a6640288cbb79d62be03ee2",
       "version_major": 2,
       "version_minor": 0
      },
      "text/plain": [
       "  0%|          | 0/21 [00:00<?, ?it/s]"
      ]
     },
     "metadata": {},
     "output_type": "display_data"
    },
    {
     "name": "stdout",
     "output_type": "stream",
     "text": [
      "qa1 4.0 1.0 1.0\n",
      "qa8 4.0 8.0 0.125\n",
      "qq3 4.0 3.0 0.5\n",
      "qq6 4.0 6.0 0.25\n",
      "qg3 4.0 3.0 1.125\n",
      "qg6 4.0 6.0 0.375\n",
      "qg15 4.0 15.0 0.375\n"
     ]
    },
    {
     "data": {
      "application/vnd.jupyter.widget-view+json": {
       "model_id": "92ea8b37603e477280bf9af39a84f09e",
       "version_major": 2,
       "version_minor": 0
      },
      "text/plain": [
       "  0%|          | 0/21 [00:00<?, ?it/s]"
      ]
     },
     "metadata": {},
     "output_type": "display_data"
    },
    {
     "data": {
      "application/vnd.jupyter.widget-view+json": {
       "model_id": "bf0ec2d80e8a4f788a020fa4755c84fd",
       "version_major": 2,
       "version_minor": 0
      },
      "text/plain": [
       "  0%|          | 0/21 [00:00<?, ?it/s]"
      ]
     },
     "metadata": {},
     "output_type": "display_data"
    },
    {
     "data": {
      "application/vnd.jupyter.widget-view+json": {
       "model_id": "cc198d43db1e43bbbf87a61a308961b3",
       "version_major": 2,
       "version_minor": 0
      },
      "text/plain": [
       "  0%|          | 0/21 [00:00<?, ?it/s]"
      ]
     },
     "metadata": {},
     "output_type": "display_data"
    },
    {
     "data": {
      "application/vnd.jupyter.widget-view+json": {
       "model_id": "0c4408b5808548a48783c264675d993e",
       "version_major": 2,
       "version_minor": 0
      },
      "text/plain": [
       "  0%|          | 0/21 [00:00<?, ?it/s]"
      ]
     },
     "metadata": {},
     "output_type": "display_data"
    },
    {
     "name": "stdout",
     "output_type": "stream",
     "text": [
      "qa1 4.0 1.0 1.0\n",
      "qa8 4.0 8.0 0.125\n",
      "qq3 4.0 3.0 0.5\n",
      "qq6 4.0 6.0 0.25\n",
      "qg3 4.0 3.0 1.125\n",
      "qg6 4.0 6.0 0.375\n",
      "qg15 4.0 15.0 0.375\n"
     ]
    },
    {
     "data": {
      "application/vnd.jupyter.widget-view+json": {
       "model_id": "216c9e276a2740c4b10680aa835b8a07",
       "version_major": 2,
       "version_minor": 0
      },
      "text/plain": [
       "  0%|          | 0/21 [00:00<?, ?it/s]"
      ]
     },
     "metadata": {},
     "output_type": "display_data"
    },
    {
     "data": {
      "application/vnd.jupyter.widget-view+json": {
       "model_id": "4eb9930311404781a1caee2a191a80cf",
       "version_major": 2,
       "version_minor": 0
      },
      "text/plain": [
       "  0%|          | 0/21 [00:00<?, ?it/s]"
      ]
     },
     "metadata": {},
     "output_type": "display_data"
    },
    {
     "data": {
      "application/vnd.jupyter.widget-view+json": {
       "model_id": "2ff0eda1b73d42f4a887f13067b05967",
       "version_major": 2,
       "version_minor": 0
      },
      "text/plain": [
       "  0%|          | 0/21 [00:00<?, ?it/s]"
      ]
     },
     "metadata": {},
     "output_type": "display_data"
    },
    {
     "data": {
      "application/vnd.jupyter.widget-view+json": {
       "model_id": "b7de23147a0f46d3a3382980a7433488",
       "version_major": 2,
       "version_minor": 0
      },
      "text/plain": [
       "  0%|          | 0/21 [00:00<?, ?it/s]"
      ]
     },
     "metadata": {},
     "output_type": "display_data"
    },
    {
     "name": "stdout",
     "output_type": "stream",
     "text": [
      "qa1 4.0 1.0 1.0\n",
      "qa8 4.0 8.0 0.125\n",
      "qq3 4.0 3.0 0.5\n",
      "qq6 4.0 6.0 0.25\n",
      "qg3 4.0 3.0 1.125\n",
      "qg6 4.0 6.0 0.375\n",
      "qg15 4.0 15.0 0.375\n"
     ]
    },
    {
     "data": {
      "application/vnd.jupyter.widget-view+json": {
       "model_id": "446c0b8e710942268d29cce746e2b701",
       "version_major": 2,
       "version_minor": 0
      },
      "text/plain": [
       "  0%|          | 0/21 [00:00<?, ?it/s]"
      ]
     },
     "metadata": {},
     "output_type": "display_data"
    },
    {
     "data": {
      "application/vnd.jupyter.widget-view+json": {
       "model_id": "7b64515ae7c043f3a542ac1e170f0c25",
       "version_major": 2,
       "version_minor": 0
      },
      "text/plain": [
       "  0%|          | 0/21 [00:00<?, ?it/s]"
      ]
     },
     "metadata": {},
     "output_type": "display_data"
    },
    {
     "data": {
      "application/vnd.jupyter.widget-view+json": {
       "model_id": "40c75b7808e34693971d4c24b297053f",
       "version_major": 2,
       "version_minor": 0
      },
      "text/plain": [
       "  0%|          | 0/21 [00:00<?, ?it/s]"
      ]
     },
     "metadata": {},
     "output_type": "display_data"
    },
    {
     "data": {
      "application/vnd.jupyter.widget-view+json": {
       "model_id": "450900c98a034261b0b6623aaae625d7",
       "version_major": 2,
       "version_minor": 0
      },
      "text/plain": [
       "  0%|          | 0/21 [00:00<?, ?it/s]"
      ]
     },
     "metadata": {},
     "output_type": "display_data"
    }
   ],
   "source": [
    "Phis_Q = []\n",
    "\n",
    "LTs_QQ = dict()\n",
    "LTs_QG = dict()\n",
    "Vs = dict()\n",
    "\n",
    "LSs_QQ = []\n",
    "LSs_QG = []\n",
    "\n",
    "for i, T in enumerate(trange[:]):\n",
    "    xms = Xs_Q[i]\n",
    "    tms = TMs_Q[i]\n",
    "\n",
    "    LT_QQ = 0\n",
    "    LT_QG = 0\n",
    "    \n",
    "\n",
    "    for k, x in xms.items():\n",
    "        # x = xms[k]\n",
    "        # if k == 'qq3':\n",
    "        # print(NFS[k])\n",
    "        ds, da, Fa = np.loadtxt(folder + f'{k}_weights')\n",
    "        v = np.loadtxt(folder + f'{k}_vq.dat')\n",
    "        Vs[k] = v\n",
    "        print(k, ds, da, Fa)\n",
    "        lt = sign(v[0])*4*pi*NFS[k]*ds * da / 6 * v**2 / x * log(1 - x)\n",
    "        if k in keys_QQ:\n",
    "            LT_QQ += lt\n",
    "            LTs_QQ[k] = lt \n",
    "        elif k in keys_QG:\n",
    "            LT_QG += lt\n",
    "            LTs_QG[k] = lt \n",
    "        else:\n",
    "            pass\n",
    "\n",
    "    # break\n",
    "    ImSTs = []\n",
    "    ReSTs = []\n",
    "    for LT, func, p2 in zip([LT_QQ, LT_QG], [tm.sigma_ff_onshell, tm.sigma_fb_onshell], [pQs[i], pGs[i]]):\n",
    "        iImLT = tm.Interpolator2D(qrange, erange, ascontiguousarray(imag(LT)))\n",
    "        #pipe(ch.erange) | p[lambda z: ch.func(z, q, ch.T, ch.iImT, ch.p_j.R)]*(NTHR//1) | END\n",
    "\n",
    "        iEps1 = tm.Interpolator(qrange, pQs[i].om0(qrange), 'linear')\n",
    "        iEps2 = tm.Interpolator(qrange, p2.om0(qrange), 'linear')\n",
    "        \n",
    "        ST = array([\n",
    "            pipe(erange) | p[lambda z: func(z, q, trange[i], iImLT, p2.R, \n",
    "                                           iEps1, iEps2)] * NTHR | END\n",
    "                    for q in tqdm.tqdm(qrange)])\n",
    "    \n",
    "        ST = ST.transpose()\n",
    "    \n",
    "        ReST = []\n",
    "    \n",
    "        for res in tqdm.tqdm(ST.transpose()):\n",
    "            iImSigma = tm.Interpolator(erange, np.ascontiguousarray(res), 'cubic')\n",
    "            ReSigma = [tm.ReSigmaKK(e, iImSigma) for e in erange]\n",
    "            ReST += [ReSigma]\n",
    "\n",
    "        ReST = np.array(ReST).transpose()\n",
    "\n",
    "        ImSTs += [ST]\n",
    "        ReSTs += [ReST]\n",
    "\n",
    "    iImST = tm.Interpolator2D(qrange, erange, ascontiguousarray(sum(ImSTs, axis=0)))\n",
    "    iReST = tm.Interpolator2D(qrange, erange, ascontiguousarray(sum(ReSTs, axis=0)))\n",
    "\n",
    "    LSs_QQ += [1j*ST + ReST]\n",
    "    \n",
    "    pt = pQs[i]\n",
    "\n",
    "    Phi = 0.5 * tm.OmS_B(trange[i], pt.iImG, pt.iReG, iImST, iReST)\n",
    "    Phis_Q += [Phi]"
   ]
  },
  {
   "cell_type": "code",
   "execution_count": 174,
   "id": "b10d75aa-7657-4f91-932b-7f7926cc37d3",
   "metadata": {},
   "outputs": [],
   "source": [
    "keys_GG = ['gg1', 'gg16', 'gg27']\n",
    "keys_GQ = ['gq3', 'gq6', 'gq15']"
   ]
  },
  {
   "cell_type": "code",
   "execution_count": 175,
   "id": "515ea927-ff4b-495b-be64-71afc3a5d8f4",
   "metadata": {},
   "outputs": [
    {
     "name": "stdout",
     "output_type": "stream",
     "text": [
      "gq3 4.0 3.0 1.125\n",
      "gq6 4.0 6.0 0.375\n",
      "gq15 4.0 15.0 0.375\n",
      "gg1 4.0 1.0 2.25\n",
      "gg16 4.0 16.0 1.125\n",
      "gg27 4.0 27.0 0.75\n"
     ]
    },
    {
     "data": {
      "application/vnd.jupyter.widget-view+json": {
       "model_id": "c0671d8ed2af45409cf83479ab380f23",
       "version_major": 2,
       "version_minor": 0
      },
      "text/plain": [
       "  0%|          | 0/21 [00:00<?, ?it/s]"
      ]
     },
     "metadata": {},
     "output_type": "display_data"
    },
    {
     "data": {
      "application/vnd.jupyter.widget-view+json": {
       "model_id": "f1d61ac50a3b494187b4ced23538f685",
       "version_major": 2,
       "version_minor": 0
      },
      "text/plain": [
       "  0%|          | 0/21 [00:00<?, ?it/s]"
      ]
     },
     "metadata": {},
     "output_type": "display_data"
    },
    {
     "data": {
      "application/vnd.jupyter.widget-view+json": {
       "model_id": "9acd66bc932c4882ae189503ccbef1f2",
       "version_major": 2,
       "version_minor": 0
      },
      "text/plain": [
       "  0%|          | 0/21 [00:00<?, ?it/s]"
      ]
     },
     "metadata": {},
     "output_type": "display_data"
    },
    {
     "data": {
      "application/vnd.jupyter.widget-view+json": {
       "model_id": "1fd1548a5d474973af535f229f43f577",
       "version_major": 2,
       "version_minor": 0
      },
      "text/plain": [
       "  0%|          | 0/21 [00:00<?, ?it/s]"
      ]
     },
     "metadata": {},
     "output_type": "display_data"
    },
    {
     "name": "stdout",
     "output_type": "stream",
     "text": [
      "gq3 4.0 3.0 1.125\n",
      "gq6 4.0 6.0 0.375\n",
      "gq15 4.0 15.0 0.375\n",
      "gg1 4.0 1.0 2.25\n",
      "gg16 4.0 16.0 1.125\n",
      "gg27 4.0 27.0 0.75\n"
     ]
    },
    {
     "data": {
      "application/vnd.jupyter.widget-view+json": {
       "model_id": "497ce47bed0d428e9f090c4bebe1cac9",
       "version_major": 2,
       "version_minor": 0
      },
      "text/plain": [
       "  0%|          | 0/21 [00:00<?, ?it/s]"
      ]
     },
     "metadata": {},
     "output_type": "display_data"
    },
    {
     "data": {
      "application/vnd.jupyter.widget-view+json": {
       "model_id": "69f4f3f44f444c0285d6858611d7a03c",
       "version_major": 2,
       "version_minor": 0
      },
      "text/plain": [
       "  0%|          | 0/21 [00:00<?, ?it/s]"
      ]
     },
     "metadata": {},
     "output_type": "display_data"
    },
    {
     "data": {
      "application/vnd.jupyter.widget-view+json": {
       "model_id": "4d3e8a12dd824607b49f310fe1b61d54",
       "version_major": 2,
       "version_minor": 0
      },
      "text/plain": [
       "  0%|          | 0/21 [00:00<?, ?it/s]"
      ]
     },
     "metadata": {},
     "output_type": "display_data"
    },
    {
     "data": {
      "application/vnd.jupyter.widget-view+json": {
       "model_id": "c742d86df0fe4a51b564a1bb2bd6da07",
       "version_major": 2,
       "version_minor": 0
      },
      "text/plain": [
       "  0%|          | 0/21 [00:00<?, ?it/s]"
      ]
     },
     "metadata": {},
     "output_type": "display_data"
    },
    {
     "name": "stdout",
     "output_type": "stream",
     "text": [
      "gq3 4.0 3.0 1.125\n",
      "gq6 4.0 6.0 0.375\n",
      "gq15 4.0 15.0 0.375\n",
      "gg1 4.0 1.0 2.25\n",
      "gg16 4.0 16.0 1.125\n",
      "gg27 4.0 27.0 0.75\n"
     ]
    },
    {
     "data": {
      "application/vnd.jupyter.widget-view+json": {
       "model_id": "ffdaf2ec1aed4bf899b841e6530e24fd",
       "version_major": 2,
       "version_minor": 0
      },
      "text/plain": [
       "  0%|          | 0/21 [00:00<?, ?it/s]"
      ]
     },
     "metadata": {},
     "output_type": "display_data"
    },
    {
     "data": {
      "application/vnd.jupyter.widget-view+json": {
       "model_id": "b62123ff2a28439a9e9c60410b08a69f",
       "version_major": 2,
       "version_minor": 0
      },
      "text/plain": [
       "  0%|          | 0/21 [00:00<?, ?it/s]"
      ]
     },
     "metadata": {},
     "output_type": "display_data"
    },
    {
     "data": {
      "application/vnd.jupyter.widget-view+json": {
       "model_id": "ed8c87ad393d4a0482fdccf9c749f3d1",
       "version_major": 2,
       "version_minor": 0
      },
      "text/plain": [
       "  0%|          | 0/21 [00:00<?, ?it/s]"
      ]
     },
     "metadata": {},
     "output_type": "display_data"
    },
    {
     "data": {
      "application/vnd.jupyter.widget-view+json": {
       "model_id": "fa3fc8e102cf4643ace2773c9da3ff74",
       "version_major": 2,
       "version_minor": 0
      },
      "text/plain": [
       "  0%|          | 0/21 [00:00<?, ?it/s]"
      ]
     },
     "metadata": {},
     "output_type": "display_data"
    },
    {
     "name": "stdout",
     "output_type": "stream",
     "text": [
      "gq3 4.0 3.0 1.125\n",
      "gq6 4.0 6.0 0.375\n",
      "gq15 4.0 15.0 0.375\n",
      "gg1 4.0 1.0 2.25\n",
      "gg16 4.0 16.0 1.125\n",
      "gg27 4.0 27.0 0.75\n"
     ]
    },
    {
     "data": {
      "application/vnd.jupyter.widget-view+json": {
       "model_id": "eafcf8c6309748d0af00bad8f439c2bc",
       "version_major": 2,
       "version_minor": 0
      },
      "text/plain": [
       "  0%|          | 0/21 [00:00<?, ?it/s]"
      ]
     },
     "metadata": {},
     "output_type": "display_data"
    },
    {
     "data": {
      "application/vnd.jupyter.widget-view+json": {
       "model_id": "6cdded561fba4c4bb41f241cc9ed4d0e",
       "version_major": 2,
       "version_minor": 0
      },
      "text/plain": [
       "  0%|          | 0/21 [00:00<?, ?it/s]"
      ]
     },
     "metadata": {},
     "output_type": "display_data"
    },
    {
     "data": {
      "application/vnd.jupyter.widget-view+json": {
       "model_id": "65b74653e2774e87aacce24a72ab45e6",
       "version_major": 2,
       "version_minor": 0
      },
      "text/plain": [
       "  0%|          | 0/21 [00:00<?, ?it/s]"
      ]
     },
     "metadata": {},
     "output_type": "display_data"
    },
    {
     "data": {
      "application/vnd.jupyter.widget-view+json": {
       "model_id": "27c7944596884e97a6b5130cd8fd7bb4",
       "version_major": 2,
       "version_minor": 0
      },
      "text/plain": [
       "  0%|          | 0/21 [00:00<?, ?it/s]"
      ]
     },
     "metadata": {},
     "output_type": "display_data"
    }
   ],
   "source": [
    "Phis_G = []\n",
    "\n",
    "LTs_GG = dict()\n",
    "LTs_GQ = dict()\n",
    "Vs = dict()\n",
    "\n",
    "LSs_GG = []\n",
    "LSs_GQ = []\n",
    "\n",
    "for i, T in enumerate(trange[:]):\n",
    "    xms = Xs_G[i]\n",
    "    tms = TMs_G[i]\n",
    "\n",
    "    LT_GG = 0\n",
    "    LT_GQ = 0\n",
    "    \n",
    "\n",
    "    for k, x in xms.items():\n",
    "        # x = xms[k]\n",
    "        # if k == 'qq3':\n",
    "        # print(NFS[k])\n",
    "        ds, da, Fa = np.loadtxt(folder + f'{k}_weights')\n",
    "        v = np.loadtxt(folder + f'{k}_vq.dat')\n",
    "        Vs[k] = v\n",
    "        print(k, ds, da, Fa)\n",
    "        lt = sign(v[0])*4*pi*NFS[k]*ds * da / 6 * v**2 / x * log(1 - x)\n",
    "        if k in keys_GG:\n",
    "            LT_GG += lt\n",
    "            LTs_GG[k] = lt \n",
    "        elif k in keys_GQ:\n",
    "            LT_GQ += lt\n",
    "            LTs_GQ[k] = lt \n",
    "        else:\n",
    "            pass\n",
    "\n",
    "    # break\n",
    "    ImSTs = []\n",
    "    ReSTs = []\n",
    "    for LT, func, p2 in zip([LT_GG, LT_GQ], [tm.sigma_bb, tm.sigma_bf], [pGs[i], pQs[i]]):\n",
    "        iImLT = tm.Interpolator2D(qrange, erange, ascontiguousarray(imag(LT)))\n",
    "        #pipe(ch.erange) | p[lambda z: ch.func(z, q, ch.T, ch.iImT, ch.p_j.R)]*(NTHR//1) | END\n",
    "        \n",
    "        ST = array([\n",
    "            pipe(erange) | p[lambda z: func(z, q, trange[i], iImLT, p2.R)] * NTHR | END\n",
    "                    for q in tqdm.tqdm(qrange)])\n",
    "    \n",
    "        ST = ST.transpose()\n",
    "    \n",
    "        ReST = []\n",
    "    \n",
    "        for res in tqdm.tqdm(ST.transpose()):\n",
    "            iImSigma = tm.Interpolator(erange, np.ascontiguousarray(res), 'cubic')\n",
    "            ReSigma = [tm.ReSigmaKK(e, iImSigma) for e in erange]\n",
    "            ReST += [ReSigma]\n",
    "\n",
    "        ReST = np.array(ReST).transpose()\n",
    "\n",
    "        ImSTs += [ST]\n",
    "        ReSTs += [ReST]\n",
    "\n",
    "    iImST = tm.Interpolator2D(qrange, erange, ascontiguousarray(sum(ImSTs, axis=0)))\n",
    "    iReST = tm.Interpolator2D(qrange, erange, ascontiguousarray(sum(ReSTs, axis=0)))\n",
    "\n",
    "    LSs += [1j*ST + ReST]\n",
    "    \n",
    "    pt = pGs[i]\n",
    "\n",
    "    Phi = 0.5 * tm.OmS_B(trange[i], pt.iImG, pt.iReG, iImST, iReST)\n",
    "    Phis_G += [Phi]"
   ]
  },
  {
   "cell_type": "code",
   "execution_count": 176,
   "id": "a2087f06-f341-4e72-ab65-7d51005bc778",
   "metadata": {},
   "outputs": [
    {
     "data": {
      "text/plain": [
       "[9.986229818649325e-07,\n",
       " 3.577324313704278e-05,\n",
       " 0.00021919238585793924,\n",
       " 0.0006507860676730106]"
      ]
     },
     "execution_count": 176,
     "metadata": {},
     "output_type": "execute_result"
    }
   ],
   "source": [
    "Phis_G"
   ]
  },
  {
   "cell_type": "code",
   "execution_count": 177,
   "id": "e39203ca-edb3-4dd0-a9c7-12a130514dda",
   "metadata": {},
   "outputs": [
    {
     "data": {
      "text/plain": [
       "[7.451065220268236e-06,\n",
       " 3.9959258218432125e-05,\n",
       " 8.289705226004537e-05,\n",
       " 0.0001368358010135099]"
      ]
     },
     "execution_count": 177,
     "metadata": {},
     "output_type": "execute_result"
    }
   ],
   "source": [
    "Phis_Q"
   ]
  },
  {
   "cell_type": "code",
   "execution_count": 178,
   "id": "b9af4d75-1cc0-4c95-a940-0ac00d0b26c4",
   "metadata": {},
   "outputs": [],
   "source": [
    "i = 0"
   ]
  },
  {
   "cell_type": "code",
   "execution_count": 19,
   "id": "a0405d5d-aa3c-431f-a13c-a5a68065b9b7",
   "metadata": {},
   "outputs": [],
   "source": [
    "Phis_Q = array(Phis_Q)"
   ]
  },
  {
   "cell_type": "code",
   "execution_count": 180,
   "id": "d9b068a3-d686-4a0b-892d-cbb34e3ddafb",
   "metadata": {},
   "outputs": [],
   "source": [
    "Phis_G = array(Phis_G)"
   ]
  },
  {
   "cell_type": "code",
   "execution_count": 181,
   "id": "3744cf6f-9af2-4fa1-982c-788608b4f69c",
   "metadata": {},
   "outputs": [
    {
     "data": {
      "text/plain": [
       "array([7.45106522e-06, 3.99592582e-05, 8.28970523e-05, 1.36835801e-04])"
      ]
     },
     "execution_count": 181,
     "metadata": {},
     "output_type": "execute_result"
    }
   ],
   "source": [
    "Phis_Q"
   ]
  },
  {
   "cell_type": "code",
   "execution_count": 20,
   "id": "eac4e6c5-7e7b-4433-ba75-4890ea1f3b13",
   "metadata": {},
   "outputs": [
    {
     "data": {
      "text/plain": [
       "[<matplotlib.lines.Line2D at 0x7f87b56c3b10>]"
      ]
     },
     "execution_count": 20,
     "metadata": {},
     "output_type": "execute_result"
    },
    {
     "data": {
      "image/png": "[encoded data removed]",
      "text/plain": [
       "<Figure size 700x700 with 1 Axes>"
      ]
     },
     "metadata": {},
     "output_type": "display_data"
    }
   ],
   "source": [
    "plt.plot(trange, (3*3*2*Phis_Q )/trange**4 / 2)\n",
    "# plt.plot(trange, 8*2*Phis_G/trange**4 / 2)\n",
    "plt.plot(trange, 3*3*2*(ps_Q - ps_S_Q)/trange**4)\n",
    "plt.plot(trange, 3*3*2*Pfree_Q/trange**4, ls=':')\n",
    "plt.plot(trange, 8*2*(ps_G - ps_S_G)/trange**4)\n",
    "plt.plot(trange, 8*2*Pfree_G/trange**4, ls=':')"
   ]
  },
  {
   "cell_type": "code",
   "execution_count": 34,
   "id": "b17a842f-cdec-4de6-afb9-9190495e31b1",
   "metadata": {},
   "outputs": [
    {
     "data": {
      "text/plain": [
       "[<matplotlib.lines.Line2D at 0x7f4520288ad0>]"
      ]
     },
     "execution_count": 34,
     "metadata": {},
     "output_type": "execute_result"
    },
    {
     "data": {
      "image/png": "[encoded data removed]",
      "text/plain": [
       "<Figure size 700x700 with 1 Axes>"
      ]
     },
     "metadata": {},
     "output_type": "display_data"
    }
   ],
   "source": [
    "plt.plot(erange, imag(LSs[0][:, 0]))"
   ]
  },
  {
   "cell_type": "code",
   "execution_count": null,
   "id": "3eb0d6a5-4b8c-43af-8e43-13573a6e0ce0",
   "metadata": {},
   "outputs": [],
   "source": []
  },
  {
   "cell_type": "code",
   "execution_count": null,
   "id": "e3c82ddc-8107-4c1d-80e4-7a88696905b6",
   "metadata": {},
   "outputs": [],
   "source": []
  }
 ],
 "metadata": {
  "kernelspec": {
   "display_name": "Python 3 (ipykernel)",
   "language": "python",
   "name": "python3"
  },
  "language_info": {
   "codemirror_mode": {
    "name": "ipython",
    "version": 3
   },
   "file_extension": ".py",
   "mimetype": "text/x-python",
   "name": "python",
   "nbconvert_exporter": "python",
   "pygments_lexer": "ipython3",
   "version": "3.11.3"
  }
 },
 "nbformat": 4,
 "nbformat_minor": 5
}
