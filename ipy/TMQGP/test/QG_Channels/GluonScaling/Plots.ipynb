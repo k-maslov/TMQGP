{
 "cells": [
  {
   "cell_type": "code",
   "execution_count": 1,
   "id": "bb62fa86-b758-45fc-9a54-97f3a811ed7e",
   "metadata": {},
   "outputs": [],
   "source": [
    "from numpy import *\n",
    "from scipy import signal\n",
    "from scipy.integrate import quad\n",
    "import TMQGP as tm\n",
    "import tqdm.notebook as tqdm\n",
    "from QuarkTM import Particle, Channel\n",
    "import QuarkTM\n",
    "import pickle\n",
    "import matplotlib"
   ]
  },
  {
   "cell_type": "code",
   "execution_count": 3,
   "id": "d6bb1d95-e298-4451-a5c2-5ced41f487aa",
   "metadata": {},
   "outputs": [],
   "source": [
    "matplotlib.style.use('publication')"
   ]
  },
  {
   "cell_type": "code",
   "execution_count": null,
   "id": "5fe78272-2970-4094-b939-4696e2dc6952",
   "metadata": {},
   "outputs": [],
   "source": []
  }
 ],
 "metadata": {
  "kernelspec": {
   "display_name": "Python 3 (ipykernel)",
   "language": "python",
   "name": "python3"
  },
  "language_info": {
   "codemirror_mode": {
    "name": "ipython",
    "version": 3
   },
   "file_extension": ".py",
   "mimetype": "text/x-python",
   "name": "python",
   "nbconvert_exporter": "python",
   "pygments_lexer": "ipython3",
   "version": "3.11.3"
  }
 },
 "nbformat": 4,
 "nbformat_minor": 5
}
