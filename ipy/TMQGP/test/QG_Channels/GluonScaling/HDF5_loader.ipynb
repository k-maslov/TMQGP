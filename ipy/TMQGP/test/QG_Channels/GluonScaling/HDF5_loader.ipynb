{
 "cells": [
  {
   "cell_type": "code",
   "execution_count": 6,
   "id": "681bd049-6966-4484-a285-778442b49b1c",
   "metadata": {},
   "outputs": [],
   "source": [
    "from numpy import *\n",
    "from scipy import signal\n",
    "from scipy.integrate import quad\n",
    "import TMQGP as tm\n",
    "import tqdm.notebook as tqdm\n",
    "from QuarkTM import Particle, Channel\n",
    "import QuarkTM\n",
    "import pickle\n",
    "import matplotlib\n",
    "\n",
    "from syntax_sugar import pipe, END\n",
    "from syntax_sugar import thread_syntax as t, process_syntax as p\n",
    "\n",
    "NTHR = 14\n",
    "\n",
    "import h5py"
   ]
  },
  {
   "cell_type": "code",
   "execution_count": 7,
   "id": "c66bb9c8-2a16-4349-98a5-3a18970190f0",
   "metadata": {},
   "outputs": [],
   "source": [
    "filename = '/home/const/Numerics/TMQGP/ipy/TMQGP/test/QG_Channels/GluonScaling/output/SuppressGL1LO_G=(14.50,15.50)L=0.200MQ=0.60MG=1.80screen=0.030/data.hdf5'"
   ]
  },
  {
   "cell_type": "code",
   "execution_count": 8,
   "id": "bdf717d2-93d1-4cbc-bb19-540869086418",
   "metadata": {},
   "outputs": [],
   "source": [
    "f = h5py.File(filename, 'r')"
   ]
  },
  {
   "cell_type": "code",
   "execution_count": 9,
   "id": "a4f1a923-d7af-4a6a-83cb-a4c48ce7366c",
   "metadata": {},
   "outputs": [
    {
     "data": {
      "text/plain": [
       "<KeysViewHDF5 ['160', '200']>"
      ]
     },
     "execution_count": 9,
     "metadata": {},
     "output_type": "execute_result"
    }
   ],
   "source": [
    "f.keys()"
   ]
  },
  {
   "cell_type": "code",
   "execution_count": 20,
   "id": "a8e5a383-cbc0-44b5-aaf9-ff8cbd12e9b0",
   "metadata": {},
   "outputs": [],
   "source": [
    "data = f['160']['X']['qa1']['0']"
   ]
  },
  {
   "cell_type": "code",
   "execution_count": 24,
   "id": "2712f349-01a8-4995-91cd-992abba8b9c3",
   "metadata": {},
   "outputs": [
    {
     "data": {
      "text/plain": [
       "{'G': 14.5,\n",
       " 'G1': 15.5,\n",
       " 'L': 0.2,\n",
       " 'Trange': array([0.16, 0.2 ]),\n",
       " 'erange': array([-5. , -4.9, -4.8, -4.7, -4.6, -4.5, -4.4, -4.3, -4.2, -4.1, -4. ,\n",
       "        -3.9, -3.8, -3.7, -3.6, -3.5, -3.4, -3.3, -3.2, -3.1, -3. , -2.9,\n",
       "        -2.8, -2.7, -2.6, -2.5, -2.4, -2.3, -2.2, -2.1, -2. , -1.9, -1.8,\n",
       "        -1.7, -1.6, -1.5, -1.4, -1.3, -1.2, -1.1, -1. , -0.9, -0.8, -0.7,\n",
       "        -0.6, -0.5, -0.4, -0.3, -0.2, -0.1,  0. ,  0.1,  0.2,  0.3,  0.4,\n",
       "         0.5,  0.6,  0.7,  0.8,  0.9,  1. ,  1.1,  1.2,  1.3,  1.4,  1.5,\n",
       "         1.6,  1.7,  1.8,  1.9,  2. ,  2.1,  2.2,  2.3,  2.4,  2.5,  2.6,\n",
       "         2.7,  2.8,  2.9,  3. ,  3.1,  3.2,  3.3,  3.4,  3.5,  3.6,  3.7,\n",
       "         3.8,  3.9,  4. ,  4.1,  4.2,  4.3,  4.4,  4.5,  4.6,  4.7,  4.8,\n",
       "         4.9,  5. ]),\n",
       " 'mG': 1.8,\n",
       " 'mQ': 0.6,\n",
       " 'qrange': array([0.  , 0.25, 0.5 , 0.75, 1.  , 1.25, 1.5 , 1.75, 2.  , 2.25, 2.5 ,\n",
       "        2.75, 3.  , 3.25, 3.5 , 3.75, 4.  , 4.25, 4.5 , 4.75, 5.  ]),\n",
       " 'screen': 0.03}"
      ]
     },
     "execution_count": 24,
     "metadata": {},
     "output_type": "execute_result"
    }
   ],
   "source": [
    "dict(f.attrs)"
   ]
  },
  {
   "cell_type": "code",
   "execution_count": 26,
   "id": "6956166d-7e7e-48fd-aba4-eced0d037d7a",
   "metadata": {},
   "outputs": [],
   "source": [
    "trange = f.attrs['Trange']\n",
    "t_keys = f.keys()"
   ]
  },
  {
   "cell_type": "code",
   "execution_count": 28,
   "id": "28d8a43e-ed4b-47de-91e1-5cc3258ba7fd",
   "metadata": {},
   "outputs": [
    {
     "data": {
      "text/plain": [
       "<KeysViewHDF5 ['160', '200']>"
      ]
     },
     "execution_count": 28,
     "metadata": {},
     "output_type": "execute_result"
    }
   ],
   "source": [
    "t_keys"
   ]
  },
  {
   "cell_type": "code",
   "execution_count": 35,
   "id": "58aa9b11-10a1-4096-b30c-7ac0392add42",
   "metadata": {},
   "outputs": [],
   "source": [
    "Model = []\n",
    "\n",
    "for t in trange:\n",
    "    out = dict()\n",
    "    k_t =z '%i'%(t*1e3)\n",
    "    ps = dict(f.attrs)\n",
    "    erange = ps['erange']\n",
    "    qrange = ps['qrange']\n",
    "    out['pQ'] = Particle(ps['mQ'], qrange, erange, stat='f', Gtab=f[k_t]['Q']['G'])\n",
    "    out['pG'] = Particle(ps['mG'], qrange, erange, stat='b', d=16, Gtab=f[k_t]['G']['G'])\n",
    "\n",
    "    "
   ]
  },
  {
   "cell_type": "code",
   "execution_count": 31,
   "id": "e1980b8c-61f9-4edc-b4c9-57ec9033e584",
   "metadata": {},
   "outputs": [
    {
     "data": {
      "text/plain": [
       "'200'"
      ]
     },
     "execution_count": 31,
     "metadata": {},
     "output_type": "execute_result"
    }
   ],
   "source": [
    "key"
   ]
  },
  {
   "cell_type": "code",
   "execution_count": 33,
   "id": "f409f1fa-2f98-43a1-9ca3-fb4ba0b8ace6",
   "metadata": {},
   "outputs": [
    {
     "data": {
      "text/plain": [
       "<KeysViewHDF5 ['G', 'Q', 'S', 'TM', 'V', 'X']>"
      ]
     },
     "execution_count": 33,
     "metadata": {},
     "output_type": "execute_result"
    }
   ],
   "source": [
    "f['160'].keys()"
   ]
  },
  {
   "cell_type": "code",
   "execution_count": 42,
   "id": "36023ab4-7d08-4587-8672-a5240597b10f",
   "metadata": {},
   "outputs": [
    {
     "data": {
      "text/plain": [
       "['Fa', 'da', 'ds']"
      ]
     },
     "execution_count": 42,
     "metadata": {},
     "output_type": "execute_result"
    }
   ],
   "source": [
    "list(f['160']['V']['qa1']['0'].attrs)"
   ]
  },
  {
   "cell_type": "code",
   "execution_count": null,
   "id": "55dcb957-ed77-4301-b385-a7a9d35c7ada",
   "metadata": {},
   "outputs": [],
   "source": []
  }
 ],
 "metadata": {
  "kernelspec": {
   "display_name": "Python 3 (ipykernel)",
   "language": "python",
   "name": "python3"
  },
  "language_info": {
   "codemirror_mode": {
    "name": "ipython",
    "version": 3
   },
   "file_extension": ".py",
   "mimetype": "text/x-python",
   "name": "python",
   "nbconvert_exporter": "python",
   "pygments_lexer": "ipython3",
   "version": "3.11.3"
  }
 },
 "nbformat": 4,
 "nbformat_minor": 5
}
