{
 "cells": [
  {
   "cell_type": "code",
   "execution_count": 1,
   "id": "8692f8a1-5b30-4297-8187-373f7d7d216a",
   "metadata": {},
   "outputs": [],
   "source": [
    "from numpy import *\n",
    "from scipy import signal\n",
    "from scipy.integrate import quad\n",
    "import TMQGP as tm\n",
    "import tqdm.notebook as tqdm\n",
    "from QuarkTM import Particle, Channel\n",
    "import pickle"
   ]
  },
  {
   "cell_type": "code",
   "execution_count": null,
   "id": "8574823a-04e4-4db9-a4a1-87cb7bf2bdab",
   "metadata": {},
   "outputs": [],
   "source": []
  }
 ],
 "metadata": {
  "kernelspec": {
   "display_name": "Python 3 (ipykernel)",
   "language": "python",
   "name": "python3"
  },
  "language_info": {
   "codemirror_mode": {
    "name": "ipython",
    "version": 3
   },
   "file_extension": ".py",
   "mimetype": "text/x-python",
   "name": "python",
   "nbconvert_exporter": "python",
   "pygments_lexer": "ipython3",
   "version": "3.11.3"
  }
 },
 "nbformat": 4,
 "nbformat_minor": 5
}
