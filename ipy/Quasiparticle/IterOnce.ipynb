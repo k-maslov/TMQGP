{
 "cells": [
  {
   "cell_type": "code",
   "execution_count": 1,
   "id": "2eda8bc3-1ab5-4438-8f32-437eaae3f115",
   "metadata": {},
   "outputs": [],
   "source": [
    "import os\n",
    "\n",
    "from syntax_sugar import END, pipe\n",
    "from syntax_sugar import process_syntax as p\n",
    "from syntax_sugar import thread_syntax as t\n",
    "NTHR = 16\n",
    "import os\n",
    "from os.path import join"
   ]
  },
  {
   "cell_type": "code",
   "execution_count": 2,
   "id": "cf88ffa1-4ace-4be7-86de-b68a26692b77",
   "metadata": {},
   "outputs": [],
   "source": [
    "import h5py"
   ]
  },
  {
   "cell_type": "code",
   "execution_count": 3,
   "id": "25db6ffe-9325-42c3-bfe5-fb7ee2656548",
   "metadata": {},
   "outputs": [],
   "source": [
    "from scipy.integrate import quad\n",
    "\n",
    "import TMQGP as tm\n",
    "from numpy import *\n",
    "\n",
    "import QuarkTM\n",
    "from QuarkTM import Channel, ChannelGroup, ChannelL, Particle\n",
    "\n",
    "import matplotlib\n",
    "matplotlib.style.use('publication23')\n",
    "\n",
    "mQ = 0.6\n",
    "\n",
    "qrange = linspace(0, 5, 101)\n",
    "erange = linspace(-5, 5, 401)\n",
    "eps = 10e-2\n",
    "# pt = QuarkTM.Particle(mQ, qrange, erange, eps=5e-2)\n",
    "\n",
    "G = 6\n",
    "L = 0.5\n",
    "screen = 0.04\n",
    "G1 = 3\n",
    "\n",
    "# ch = QuarkTM.Channel(pt, pt, T, G=8, screen=0, ds=4, da=1, Fa=1)\n",
    "\n",
    "import tqdm\n",
    "\n",
    "from scipy.optimize import minimize\n",
    "\n",
    "params = {'G' : G, 'L' : L, 'screen' : screen}\n",
    "params_rep = {'G' : -G, 'L' : L, 'screen' : screen}\n",
    "params1 = {'G' : G1, 'L' : L, 'screen' : screen}\n",
    "params_rep1 = {'G' : -G1, 'L' : L, 'screen' : screen}\n",
    "\n",
    "\n",
    "pss = [params, params1]\n",
    "pss_rep = [params_rep, params_rep1]\n",
    "mu = 0\n",
    "lmax = 1"
   ]
  },
  {
   "cell_type": "code",
   "execution_count": 4,
   "id": "d1ad656e-ee22-4635-82b6-b0784ef96e35",
   "metadata": {},
   "outputs": [],
   "source": [
    "T = 0.25"
   ]
  },
  {
   "cell_type": "code",
   "execution_count": 5,
   "id": "98815a23-7b01-4340-9ce8-b8781df5ba63",
   "metadata": {},
   "outputs": [],
   "source": [
    "import warnings\n",
    "warnings.filterwarnings('ignore')"
   ]
  },
  {
   "cell_type": "code",
   "execution_count": 6,
   "id": "ab45c708-849c-4a2a-a17b-ad062180154b",
   "metadata": {},
   "outputs": [],
   "source": [
    "def f(x, T):\n",
    "    return 1/(exp(x/T) + 1)"
   ]
  },
  {
   "cell_type": "markdown",
   "id": "6642982b-3e7a-42e8-ae7a-a9e9da09aa0c",
   "metadata": {},
   "source": [
    "Start of iterations"
   ]
  },
  {
   "cell_type": "code",
   "execution_count": 7,
   "id": "ff4f3fa8-3c1f-473d-8b54-ee911fff03e4",
   "metadata": {},
   "outputs": [],
   "source": [
    "subtr = 1"
   ]
  },
  {
   "cell_type": "code",
   "execution_count": 8,
   "id": "68ef9f27-12d5-4e03-a160-5f3a42c61375",
   "metadata": {},
   "outputs": [],
   "source": [
    "folder = '8ch_trange_strong'\n",
    "if subtr:\n",
    "    folder += '_subtr'\n",
    "\n",
    "if not os.path.exists(folder):\n",
    "    os.mkdir(folder)"
   ]
  },
  {
   "cell_type": "code",
   "execution_count": 9,
   "id": "32f653d0-e956-458b-9d9d-9659d4c1c61e",
   "metadata": {},
   "outputs": [],
   "source": [
    "quark_run = Particle(mQ, qrange, erange, eps=eps, mu=mu)\n",
    "aquark_run = Particle(mQ, qrange, erange, eps=eps, mu=mu)"
   ]
  },
  {
   "cell_type": "code",
   "execution_count": 10,
   "id": "1d144444-3255-4bd9-95c9-a2b0cba1c38e",
   "metadata": {},
   "outputs": [],
   "source": [
    "imss = array([array([-eps for q in qrange])]*2).transpose()\n",
    "ress = array([array([0. for q in qrange])]*2).transpose()"
   ]
  },
  {
   "cell_type": "code",
   "execution_count": 11,
   "id": "b8501219-34ed-41c5-be0b-cc20c9b4cc7a",
   "metadata": {},
   "outputs": [],
   "source": [
    "eArr = array([erange for q in qrange]).transpose()"
   ]
  },
  {
   "cell_type": "code",
   "execution_count": 12,
   "id": "eed4a186-5158-4a84-8d1a-f062b301c26d",
   "metadata": {},
   "outputs": [],
   "source": [
    "omKs = array([sqrt(mQ**2 + qrange**2)]*2).transpose()"
   ]
  },
  {
   "cell_type": "code",
   "execution_count": 13,
   "id": "aae171c9-919d-470f-bccb-607b41f39c7a",
   "metadata": {},
   "outputs": [],
   "source": [
    "mu = 0*T"
   ]
  },
  {
   "cell_type": "code",
   "execution_count": 14,
   "id": "ed61f9e8-6096-434e-8a21-50c88deb9a26",
   "metadata": {},
   "outputs": [],
   "source": [
    "DELTA = 1"
   ]
  },
  {
   "cell_type": "code",
   "execution_count": 15,
   "id": "aa163ea1-6f63-4d3f-af69-b67521d8b63f",
   "metadata": {},
   "outputs": [],
   "source": [
    "Trange = linspace(0.15, 0.55, 21)"
   ]
  },
  {
   "cell_type": "code",
   "execution_count": 16,
   "id": "09779229-cab5-4a13-a0c3-921c26d249ac",
   "metadata": {},
   "outputs": [
    {
     "data": {
      "text/plain": [
       "array([0.15, 0.19, 0.23, 0.27, 0.31])"
      ]
     },
     "execution_count": 16,
     "metadata": {},
     "output_type": "execute_result"
    }
   ],
   "source": [
    "Trange[:10:2]"
   ]
  },
  {
   "cell_type": "code",
   "execution_count": 17,
   "id": "a0d72fea-265c-4795-b54c-ad7497438b65",
   "metadata": {},
   "outputs": [
    {
     "data": {
      "text/plain": [
       "array([0.15, 0.17, 0.19, 0.21, 0.23, 0.25, 0.27, 0.29, 0.31, 0.33, 0.35,\n",
       "       0.37, 0.39, 0.41, 0.43, 0.45, 0.47, 0.49, 0.51, 0.53, 0.55])"
      ]
     },
     "execution_count": 17,
     "metadata": {},
     "output_type": "execute_result"
    }
   ],
   "source": [
    "Trange"
   ]
  },
  {
   "cell_type": "code",
   "execution_count": 18,
   "id": "87bde5ee-befc-418d-be64-1e805f6ae8f3",
   "metadata": {},
   "outputs": [],
   "source": [
    "# Trange = array([0.4])"
   ]
  },
  {
   "cell_type": "code",
   "execution_count": 19,
   "id": "5fad7325-eb3d-424c-b2bf-2b5046a61dd1",
   "metadata": {},
   "outputs": [],
   "source": [
    "omArrs = [array([omk for e in erange]) for omk in omKs.transpose()]\n",
    "ImS_K_Arrs = [array([ims for e in erange]) for ims in imss.transpose()]\n",
    "ReS_K_Arrs = [array([res for e in erange]) for res in ress.transpose()]"
   ]
  },
  {
   "cell_type": "code",
   "execution_count": 20,
   "id": "5e266d13-e0aa-4ccf-8684-091f8724eb25",
   "metadata": {},
   "outputs": [],
   "source": [
    "G2_QA = (1) / (eArr - omArrs[0] - omArrs[1] - 1j*(ImS_K_Arrs[0] + ImS_K_Arrs[1]))"
   ]
  },
  {
   "cell_type": "code",
   "execution_count": 21,
   "id": "088858f8-3c47-4ca3-ac91-778349751364",
   "metadata": {},
   "outputs": [],
   "source": [
    "ch = QuarkTM.ChannelL('qa1', lmax, quark_run, aquark_run, 0.01, pss, ds=4, da=1, Fa=1, mu=mu, G2=G2_QA)"
   ]
  },
  {
   "cell_type": "code",
   "execution_count": 22,
   "id": "3b2d8351-ddd4-48f3-946d-6d6c557e0145",
   "metadata": {},
   "outputs": [],
   "source": [
    "ch.populate_T()"
   ]
  },
  {
   "cell_type": "code",
   "execution_count": 23,
   "id": "ff033d64-835d-4403-bb59-336adb6da544",
   "metadata": {},
   "outputs": [
    {
     "data": {
      "text/plain": [
       "[<matplotlib.lines.Line2D at 0x7f15476c9250>]"
      ]
     },
     "execution_count": 23,
     "metadata": {},
     "output_type": "execute_result"
    },
    {
     "data": {
      "image/png": "[encoded data removed]",
      "text/plain": [
       "<Figure size 600x400 with 1 Axes>"
      ]
     },
     "metadata": {},
     "output_type": "display_data"
    }
   ],
   "source": [
    "plt.plot(erange, imag(ch.chs[1].TM[:, 10]))\n",
    "plt.plot(erange, imag(ch.chs[0].TM[:, 10]))"
   ]
  },
  {
   "cell_type": "code",
   "execution_count": 61,
   "id": "02107488-3bdb-4866-8bf0-28be00d37e09",
   "metadata": {},
   "outputs": [
    {
     "name": "stdout",
     "output_type": "stream",
     "text": [
      "Processing T =  0.15\n"
     ]
    },
    {
     "data": {
      "application/vnd.jupyter.widget-view+json": {
       "model_id": "a831f42f07474b0b9b0191b7730943c8",
       "version_major": 2,
       "version_minor": 0
      },
      "text/plain": [
       "  0%|          | 0/101 [00:00<?, ?it/s]"
      ]
     },
     "metadata": {},
     "output_type": "display_data"
    },
    {
     "name": "stdout",
     "output_type": "stream",
     "text": [
      "0.01328215547819056 0.6132821554781905\n"
     ]
    },
    {
     "data": {
      "application/vnd.jupyter.widget-view+json": {
       "model_id": "f6f5c8e7d31843b4ba9709b962aef07c",
       "version_major": 2,
       "version_minor": 0
      },
      "text/plain": [
       "  0%|          | 0/101 [00:00<?, ?it/s]"
      ]
     },
     "metadata": {},
     "output_type": "display_data"
    },
    {
     "name": "stdout",
     "output_type": "stream",
     "text": [
      "0.010420652446556433 0.623702807924747\n"
     ]
    },
    {
     "data": {
      "application/vnd.jupyter.widget-view+json": {
       "model_id": "350bd6e9ee0c46acbdcd0cd03375875d",
       "version_major": 2,
       "version_minor": 0
      },
      "text/plain": [
       "  0%|          | 0/101 [00:00<?, ?it/s]"
      ]
     },
     "metadata": {},
     "output_type": "display_data"
    },
    {
     "name": "stdout",
     "output_type": "stream",
     "text": [
      "0.0008851084370963269 0.6228176994876506\n",
      "Processing T =  0.16999999999999998\n"
     ]
    },
    {
     "data": {
      "application/vnd.jupyter.widget-view+json": {
       "model_id": "512ebf4f915c4a5db19b81e688768cfb",
       "version_major": 2,
       "version_minor": 0
      },
      "text/plain": [
       "  0%|          | 0/101 [00:00<?, ?it/s]"
      ]
     },
     "metadata": {},
     "output_type": "display_data"
    },
    {
     "name": "stdout",
     "output_type": "stream",
     "text": [
      "0.0152922896073302 0.6381099890949808\n"
     ]
    },
    {
     "data": {
      "application/vnd.jupyter.widget-view+json": {
       "model_id": "7861b71dd7c94e4cb53ea58544fb7b9b",
       "version_major": 2,
       "version_minor": 0
      },
      "text/plain": [
       "  0%|          | 0/101 [00:00<?, ?it/s]"
      ]
     },
     "metadata": {},
     "output_type": "display_data"
    },
    {
     "name": "stdout",
     "output_type": "stream",
     "text": [
      "0.013106745074990322 0.6250032440199905\n"
     ]
    },
    {
     "data": {
      "application/vnd.jupyter.widget-view+json": {
       "model_id": "815789493ea84ec691d70362b3b5bab2",
       "version_major": 2,
       "version_minor": 0
      },
      "text/plain": [
       "  0%|          | 0/101 [00:00<?, ?it/s]"
      ]
     },
     "metadata": {},
     "output_type": "display_data"
    },
    {
     "name": "stdout",
     "output_type": "stream",
     "text": [
      "0.002036558699300084 0.6270398027192906\n"
     ]
    },
    {
     "data": {
      "application/vnd.jupyter.widget-view+json": {
       "model_id": "1942218fb9634e6393c6e652cb298cf2",
       "version_major": 2,
       "version_minor": 0
      },
      "text/plain": [
       "  0%|          | 0/101 [00:00<?, ?it/s]"
      ]
     },
     "metadata": {},
     "output_type": "display_data"
    },
    {
     "name": "stdout",
     "output_type": "stream",
     "text": [
      "0.0009000532144027851 0.6261397495048878\n",
      "Processing T =  0.19\n"
     ]
    },
    {
     "data": {
      "application/vnd.jupyter.widget-view+json": {
       "model_id": "f3e065f6f2ec42a0a7b8a4698bc8a1f6",
       "version_major": 2,
       "version_minor": 0
      },
      "text/plain": [
       "  0%|          | 0/101 [00:00<?, ?it/s]"
      ]
     },
     "metadata": {},
     "output_type": "display_data"
    },
    {
     "name": "stdout",
     "output_type": "stream",
     "text": [
      "0.010980854216779301 0.6371206037216671\n"
     ]
    },
    {
     "data": {
      "application/vnd.jupyter.widget-view+json": {
       "model_id": "3f26feb28b4d4c9296fe0d452410124d",
       "version_major": 2,
       "version_minor": 0
      },
      "text/plain": [
       "  0%|          | 0/101 [00:00<?, ?it/s]"
      ]
     },
     "metadata": {},
     "output_type": "display_data"
    },
    {
     "name": "stdout",
     "output_type": "stream",
     "text": [
      "0.014976791374643472 0.6221438123470237\n"
     ]
    },
    {
     "data": {
      "application/vnd.jupyter.widget-view+json": {
       "model_id": "d556eda7c5004135bcd99172e3ff611b",
       "version_major": 2,
       "version_minor": 0
      },
      "text/plain": [
       "  0%|          | 0/101 [00:00<?, ?it/s]"
      ]
     },
     "metadata": {},
     "output_type": "display_data"
    },
    {
     "name": "stdout",
     "output_type": "stream",
     "text": [
      "0.00349949355472845 0.6256433059017521\n"
     ]
    },
    {
     "data": {
      "application/vnd.jupyter.widget-view+json": {
       "model_id": "9fd7664ce68e48759ae5d014b23c27e7",
       "version_major": 2,
       "version_minor": 0
      },
      "text/plain": [
       "  0%|          | 0/101 [00:00<?, ?it/s]"
      ]
     },
     "metadata": {},
     "output_type": "display_data"
    },
    {
     "name": "stdout",
     "output_type": "stream",
     "text": [
      "0.0018918480646986646 0.6237514578370534\n"
     ]
    },
    {
     "data": {
      "application/vnd.jupyter.widget-view+json": {
       "model_id": "1d29235600c14e49961ccfa133c6ca51",
       "version_major": 2,
       "version_minor": 0
      },
      "text/plain": [
       "  0%|          | 0/101 [00:00<?, ?it/s]"
      ]
     },
     "metadata": {},
     "output_type": "display_data"
    },
    {
     "name": "stdout",
     "output_type": "stream",
     "text": [
      "0.0005594008582329169 0.6243108586952864\n",
      "Processing T =  0.21\n"
     ]
    },
    {
     "data": {
      "application/vnd.jupyter.widget-view+json": {
       "model_id": "7ce423d2744f470da1d2c538bdddf9bb",
       "version_major": 2,
       "version_minor": 0
      },
      "text/plain": [
       "  0%|          | 0/101 [00:00<?, ?it/s]"
      ]
     },
     "metadata": {},
     "output_type": "display_data"
    },
    {
     "name": "stdout",
     "output_type": "stream",
     "text": [
      "0.004259219687463567 0.6282284941942431\n"
     ]
    },
    {
     "data": {
      "application/vnd.jupyter.widget-view+json": {
       "model_id": "587994b06024467f96aae069332b7b42",
       "version_major": 2,
       "version_minor": 0
      },
      "text/plain": [
       "  0%|          | 0/101 [00:00<?, ?it/s]"
      ]
     },
     "metadata": {},
     "output_type": "display_data"
    },
    {
     "name": "stdout",
     "output_type": "stream",
     "text": [
      "0.014503110065265723 0.6137253841289774\n"
     ]
    },
    {
     "data": {
      "application/vnd.jupyter.widget-view+json": {
       "model_id": "20e412a7a1cf4363bfeb8bf717719ea8",
       "version_major": 2,
       "version_minor": 0
      },
      "text/plain": [
       "  0%|          | 0/101 [00:00<?, ?it/s]"
      ]
     },
     "metadata": {},
     "output_type": "display_data"
    },
    {
     "name": "stdout",
     "output_type": "stream",
     "text": [
      "0.0038612812234918303 0.6175866653524692\n"
     ]
    },
    {
     "data": {
      "application/vnd.jupyter.widget-view+json": {
       "model_id": "f8b36b4278bb4fd893cf9564651a0d8a",
       "version_major": 2,
       "version_minor": 0
      },
      "text/plain": [
       "  0%|          | 0/101 [00:00<?, ?it/s]"
      ]
     },
     "metadata": {},
     "output_type": "display_data"
    },
    {
     "name": "stdout",
     "output_type": "stream",
     "text": [
      "0.0028916057559621455 0.614695059596507\n"
     ]
    },
    {
     "data": {
      "application/vnd.jupyter.widget-view+json": {
       "model_id": "5ff7a867be91468188aae9ed0d3cf3e6",
       "version_major": 2,
       "version_minor": 0
      },
      "text/plain": [
       "  0%|          | 0/101 [00:00<?, ?it/s]"
      ]
     },
     "metadata": {},
     "output_type": "display_data"
    },
    {
     "name": "stdout",
     "output_type": "stream",
     "text": [
      "0.0011029693815249875 0.615798028978032\n"
     ]
    },
    {
     "data": {
      "application/vnd.jupyter.widget-view+json": {
       "model_id": "a5271dfea86f4ccdb66146fc1085b761",
       "version_major": 2,
       "version_minor": 0
      },
      "text/plain": [
       "  0%|          | 0/101 [00:00<?, ?it/s]"
      ]
     },
     "metadata": {},
     "output_type": "display_data"
    },
    {
     "name": "stdout",
     "output_type": "stream",
     "text": [
      "0.0006279739800554296 0.6151700549979766\n",
      "Processing T =  0.22999999999999998\n"
     ]
    },
    {
     "data": {
      "application/vnd.jupyter.widget-view+json": {
       "model_id": "13909edbfc534c54807a6b41980a3a07",
       "version_major": 2,
       "version_minor": 0
      },
      "text/plain": [
       "  0%|          | 0/101 [00:00<?, ?it/s]"
      ]
     },
     "metadata": {},
     "output_type": "display_data"
    },
    {
     "name": "stdout",
     "output_type": "stream",
     "text": [
      "0.00272780238982695 0.6124422526081497\n"
     ]
    },
    {
     "data": {
      "application/vnd.jupyter.widget-view+json": {
       "model_id": "37c9019388674a3a98eee427785d6f8b",
       "version_major": 2,
       "version_minor": 0
      },
      "text/plain": [
       "  0%|          | 0/101 [00:00<?, ?it/s]"
      ]
     },
     "metadata": {},
     "output_type": "display_data"
    },
    {
     "name": "stdout",
     "output_type": "stream",
     "text": [
      "0.011579619308905276 0.6008626332992444\n"
     ]
    },
    {
     "data": {
      "application/vnd.jupyter.widget-view+json": {
       "model_id": "5d6a3f96e4eb42c5a59821ebc3c47bad",
       "version_major": 2,
       "version_minor": 0
      },
      "text/plain": [
       "  0%|          | 0/101 [00:00<?, ?it/s]"
      ]
     },
     "metadata": {},
     "output_type": "display_data"
    },
    {
     "name": "stdout",
     "output_type": "stream",
     "text": [
      "0.002959458809177362 0.6037001294335298\n"
     ]
    },
    {
     "data": {
      "application/vnd.jupyter.widget-view+json": {
       "model_id": "f38d645b9a1548cc8da8a49669bc51cc",
       "version_major": 2,
       "version_minor": 0
      },
      "text/plain": [
       "  0%|          | 0/101 [00:00<?, ?it/s]"
      ]
     },
     "metadata": {},
     "output_type": "display_data"
    },
    {
     "name": "stdout",
     "output_type": "stream",
     "text": [
      "0.0029113383781520508 0.6007887910553777\n"
     ]
    },
    {
     "data": {
      "application/vnd.jupyter.widget-view+json": {
       "model_id": "5c2bf45ae941483984a38817306ac929",
       "version_major": 2,
       "version_minor": 0
      },
      "text/plain": [
       "  0%|          | 0/101 [00:00<?, ?it/s]"
      ]
     },
     "metadata": {},
     "output_type": "display_data"
    },
    {
     "name": "stdout",
     "output_type": "stream",
     "text": [
      "0.0011939082443047644 0.6019822613707241\n"
     ]
    },
    {
     "data": {
      "application/vnd.jupyter.widget-view+json": {
       "model_id": "71315ca00943407891288af868b89069",
       "version_major": 2,
       "version_minor": 0
      },
      "text/plain": [
       "  0%|          | 0/101 [00:00<?, ?it/s]"
      ]
     },
     "metadata": {},
     "output_type": "display_data"
    },
    {
     "name": "stdout",
     "output_type": "stream",
     "text": [
      "0.0008392236943198794 0.6011430376764042\n",
      "Processing T =  0.25\n"
     ]
    },
    {
     "data": {
      "application/vnd.jupyter.widget-view+json": {
       "model_id": "26a1b98d84da485aa881fd3b9bbaf79c",
       "version_major": 2,
       "version_minor": 0
      },
      "text/plain": [
       "  0%|          | 0/101 [00:00<?, ?it/s]"
      ]
     },
     "metadata": {},
     "output_type": "display_data"
    },
    {
     "name": "stdout",
     "output_type": "stream",
     "text": [
      "0.008032233426132573 0.5931108042502716\n"
     ]
    },
    {
     "data": {
      "application/vnd.jupyter.widget-view+json": {
       "model_id": "92301ab43bff4d979b1ff75a24b41054",
       "version_major": 2,
       "version_minor": 0
      },
      "text/plain": [
       "  0%|          | 0/101 [00:00<?, ?it/s]"
      ]
     },
     "metadata": {},
     "output_type": "display_data"
    },
    {
     "name": "stdout",
     "output_type": "stream",
     "text": [
      "0.007692942060783969 0.5854178621894877\n"
     ]
    },
    {
     "data": {
      "application/vnd.jupyter.widget-view+json": {
       "model_id": "1c4982f82a5642b6a78724140574499b",
       "version_major": 2,
       "version_minor": 0
      },
      "text/plain": [
       "  0%|          | 0/101 [00:00<?, ?it/s]"
      ]
     },
     "metadata": {},
     "output_type": "display_data"
    },
    {
     "name": "stdout",
     "output_type": "stream",
     "text": [
      "0.0018876435789665358 0.586425796979858\n"
     ]
    },
    {
     "data": {
      "application/vnd.jupyter.widget-view+json": {
       "model_id": "0020a3856c0e4540ad2ad23a17e7ed4a",
       "version_major": 2,
       "version_minor": 0
      },
      "text/plain": [
       "  0%|          | 0/101 [00:00<?, ?it/s]"
      ]
     },
     "metadata": {},
     "output_type": "display_data"
    },
    {
     "name": "stdout",
     "output_type": "stream",
     "text": [
      "0.0020539778371184703 0.5843718191427395\n"
     ]
    },
    {
     "data": {
      "application/vnd.jupyter.widget-view+json": {
       "model_id": "cfa81f73c4384c139852ea2f78e24a6f",
       "version_major": 2,
       "version_minor": 0
      },
      "text/plain": [
       "  0%|          | 0/101 [00:00<?, ?it/s]"
      ]
     },
     "metadata": {},
     "output_type": "display_data"
    },
    {
     "name": "stdout",
     "output_type": "stream",
     "text": [
      "0.0008589909842241505 0.585061251766877\n",
      "Processing T =  0.27\n"
     ]
    },
    {
     "data": {
      "application/vnd.jupyter.widget-view+json": {
       "model_id": "a11322043bce4f23a645bdd0863ab213",
       "version_major": 2,
       "version_minor": 0
      },
      "text/plain": [
       "  0%|          | 0/101 [00:00<?, ?it/s]"
      ]
     },
     "metadata": {},
     "output_type": "display_data"
    },
    {
     "name": "stdout",
     "output_type": "stream",
     "text": [
      "0.01208418891490437 0.5729770628519726\n"
     ]
    },
    {
     "data": {
      "application/vnd.jupyter.widget-view+json": {
       "model_id": "fa9ab694a5a6450296ecb4878f233b0e",
       "version_major": 2,
       "version_minor": 0
      },
      "text/plain": [
       "  0%|          | 0/101 [00:00<?, ?it/s]"
      ]
     },
     "metadata": {},
     "output_type": "display_data"
    },
    {
     "name": "stdout",
     "output_type": "stream",
     "text": [
      "0.004218960824057705 0.5687581020279149\n"
     ]
    },
    {
     "data": {
      "application/vnd.jupyter.widget-view+json": {
       "model_id": "c6241b736a81494c8ed0d224c3f9651a",
       "version_major": 2,
       "version_minor": 0
      },
      "text/plain": [
       "  0%|          | 0/101 [00:00<?, ?it/s]"
      ]
     },
     "metadata": {},
     "output_type": "display_data"
    },
    {
     "name": "stdout",
     "output_type": "stream",
     "text": [
      "0.0008541025556900728 0.5679672007115399\n",
      "Processing T =  0.29000000000000004\n"
     ]
    },
    {
     "data": {
      "application/vnd.jupyter.widget-view+json": {
       "model_id": "90db374bd6134f2c96f16de6dba90aea",
       "version_major": 2,
       "version_minor": 0
      },
      "text/plain": [
       "  0%|          | 0/101 [00:00<?, ?it/s]"
      ]
     },
     "metadata": {},
     "output_type": "display_data"
    },
    {
     "name": "stdout",
     "output_type": "stream",
     "text": [
      "0.013308508646896922 0.554658692064643\n"
     ]
    },
    {
     "data": {
      "application/vnd.jupyter.widget-view+json": {
       "model_id": "1a8745a6a34846978a8fed4b16eca800",
       "version_major": 2,
       "version_minor": 0
      },
      "text/plain": [
       "  0%|          | 0/101 [00:00<?, ?it/s]"
      ]
     },
     "metadata": {},
     "output_type": "display_data"
    },
    {
     "name": "stdout",
     "output_type": "stream",
     "text": [
      "0.0028496539579947466 0.5518090381066483\n"
     ]
    },
    {
     "data": {
      "application/vnd.jupyter.widget-view+json": {
       "model_id": "b45f3523383c4d95815b3ee955813722",
       "version_major": 2,
       "version_minor": 0
      },
      "text/plain": [
       "  0%|          | 0/101 [00:00<?, ?it/s]"
      ]
     },
     "metadata": {},
     "output_type": "display_data"
    },
    {
     "name": "stdout",
     "output_type": "stream",
     "text": [
      "0.0016361726586323622 0.5501728654480159\n"
     ]
    },
    {
     "data": {
      "application/vnd.jupyter.widget-view+json": {
       "model_id": "9f7d62f96d8141f2839a9fdfdc6c2edd",
       "version_major": 2,
       "version_minor": 0
      },
      "text/plain": [
       "  0%|          | 0/101 [00:00<?, ?it/s]"
      ]
     },
     "metadata": {},
     "output_type": "display_data"
    },
    {
     "name": "stdout",
     "output_type": "stream",
     "text": [
      "0.0005496395580647517 0.5496232258899512\n",
      "Processing T =  0.31\n"
     ]
    },
    {
     "data": {
      "application/vnd.jupyter.widget-view+json": {
       "model_id": "4dbbd301f1294e8da8e4834b0f47f429",
       "version_major": 2,
       "version_minor": 0
      },
      "text/plain": [
       "  0%|          | 0/101 [00:00<?, ?it/s]"
      ]
     },
     "metadata": {},
     "output_type": "display_data"
    },
    {
     "name": "stdout",
     "output_type": "stream",
     "text": [
      "0.012648460836305109 0.536974765053646\n"
     ]
    },
    {
     "data": {
      "application/vnd.jupyter.widget-view+json": {
       "model_id": "c3b7a4f38177411ba57a6711438be60f",
       "version_major": 2,
       "version_minor": 0
      },
      "text/plain": [
       "  0%|          | 0/101 [00:00<?, ?it/s]"
      ]
     },
     "metadata": {},
     "output_type": "display_data"
    },
    {
     "name": "stdout",
     "output_type": "stream",
     "text": [
      "0.0015946056891004146 0.5353801593645456\n"
     ]
    },
    {
     "data": {
      "application/vnd.jupyter.widget-view+json": {
       "model_id": "70f44571548b426eb0c50bab844ceab1",
       "version_major": 2,
       "version_minor": 0
      },
      "text/plain": [
       "  0%|          | 0/101 [00:00<?, ?it/s]"
      ]
     },
     "metadata": {},
     "output_type": "display_data"
    },
    {
     "name": "stdout",
     "output_type": "stream",
     "text": [
      "0.0020550894819132415 0.5333250698826324\n"
     ]
    },
    {
     "data": {
      "application/vnd.jupyter.widget-view+json": {
       "model_id": "b31f1e33b5274c2fb9b19879c6286d54",
       "version_major": 2,
       "version_minor": 0
      },
      "text/plain": [
       "  0%|          | 0/101 [00:00<?, ?it/s]"
      ]
     },
     "metadata": {},
     "output_type": "display_data"
    },
    {
     "name": "stdout",
     "output_type": "stream",
     "text": [
      "0.00027135519414500653 0.5331407730414057\n",
      "Processing T =  0.32999999999999996\n"
     ]
    },
    {
     "data": {
      "application/vnd.jupyter.widget-view+json": {
       "model_id": "ce9fb27c2cf8456e8890b0319bf5790d",
       "version_major": 2,
       "version_minor": 0
      },
      "text/plain": [
       "  0%|          | 0/101 [00:00<?, ?it/s]"
      ]
     },
     "metadata": {},
     "output_type": "display_data"
    },
    {
     "name": "stdout",
     "output_type": "stream",
     "text": [
      "0.01163888246719691 0.5215018905742088\n"
     ]
    },
    {
     "data": {
      "application/vnd.jupyter.widget-view+json": {
       "model_id": "1cc387a9c3114d318666641cebc4c87c",
       "version_major": 2,
       "version_minor": 0
      },
      "text/plain": [
       "  0%|          | 0/101 [00:00<?, ?it/s]"
      ]
     },
     "metadata": {},
     "output_type": "display_data"
    },
    {
     "name": "stdout",
     "output_type": "stream",
     "text": [
      "0.0012441720793286981 0.5202577184948801\n"
     ]
    },
    {
     "data": {
      "application/vnd.jupyter.widget-view+json": {
       "model_id": "f284bdefccee47a682e9fb844b9b1e50",
       "version_major": 2,
       "version_minor": 0
      },
      "text/plain": [
       "  0%|          | 0/101 [00:00<?, ?it/s]"
      ]
     },
     "metadata": {},
     "output_type": "display_data"
    },
    {
     "name": "stdout",
     "output_type": "stream",
     "text": [
      "0.0019544972895800816 0.5183032212053\n"
     ]
    },
    {
     "data": {
      "application/vnd.jupyter.widget-view+json": {
       "model_id": "9e72a91c420c4607bd7ae89f75146006",
       "version_major": 2,
       "version_minor": 0
      },
      "text/plain": [
       "  0%|          | 0/101 [00:00<?, ?it/s]"
      ]
     },
     "metadata": {},
     "output_type": "display_data"
    },
    {
     "name": "stdout",
     "output_type": "stream",
     "text": [
      "0.00038824897698452876 0.5181138520710837\n",
      "Processing T =  0.35\n"
     ]
    },
    {
     "data": {
      "application/vnd.jupyter.widget-view+json": {
       "model_id": "4295ff528f754bfab9603fdf7a75fa08",
       "version_major": 2,
       "version_minor": 0
      },
      "text/plain": [
       "  0%|          | 0/101 [00:00<?, ?it/s]"
      ]
     },
     "metadata": {},
     "output_type": "display_data"
    },
    {
     "name": "stdout",
     "output_type": "stream",
     "text": [
      "0.00982001735969884 0.5082938347113849\n"
     ]
    },
    {
     "data": {
      "application/vnd.jupyter.widget-view+json": {
       "model_id": "e5e325ebcd704919b323f1020cd7142d",
       "version_major": 2,
       "version_minor": 0
      },
      "text/plain": [
       "  0%|          | 0/101 [00:00<?, ?it/s]"
      ]
     },
     "metadata": {},
     "output_type": "display_data"
    },
    {
     "name": "stdout",
     "output_type": "stream",
     "text": [
      "0.0014498008769850967 0.5068440338343998\n"
     ]
    },
    {
     "data": {
      "application/vnd.jupyter.widget-view+json": {
       "model_id": "0e42616554194ac7a4f433323c2884d3",
       "version_major": 2,
       "version_minor": 0
      },
      "text/plain": [
       "  0%|          | 0/101 [00:00<?, ?it/s]"
      ]
     },
     "metadata": {},
     "output_type": "display_data"
    },
    {
     "name": "stdout",
     "output_type": "stream",
     "text": [
      "0.0014616860706161416 0.5053823477637837\n"
     ]
    },
    {
     "data": {
      "application/vnd.jupyter.widget-view+json": {
       "model_id": "49caa22ca39c421dad5964d63524ed35",
       "version_major": 2,
       "version_minor": 0
      },
      "text/plain": [
       "  0%|          | 0/101 [00:00<?, ?it/s]"
      ]
     },
     "metadata": {},
     "output_type": "display_data"
    },
    {
     "name": "stdout",
     "output_type": "stream",
     "text": [
      "0.000385514735286141 0.5049968330284975\n",
      "Processing T =  0.37\n"
     ]
    },
    {
     "data": {
      "application/vnd.jupyter.widget-view+json": {
       "model_id": "59bc0a5d31964eacaf5195dd16ce9d40",
       "version_major": 2,
       "version_minor": 0
      },
      "text/plain": [
       "  0%|          | 0/101 [00:00<?, ?it/s]"
      ]
     },
     "metadata": {},
     "output_type": "display_data"
    },
    {
     "name": "stdout",
     "output_type": "stream",
     "text": [
      "0.007597389877511518 0.497399443150986\n"
     ]
    },
    {
     "data": {
      "application/vnd.jupyter.widget-view+json": {
       "model_id": "95cda47118694b58b0760eb360cbe2f2",
       "version_major": 2,
       "version_minor": 0
      },
      "text/plain": [
       "  0%|          | 0/101 [00:00<?, ?it/s]"
      ]
     },
     "metadata": {},
     "output_type": "display_data"
    },
    {
     "name": "stdout",
     "output_type": "stream",
     "text": [
      "0.0018338493194015038 0.4955655938315845\n"
     ]
    },
    {
     "data": {
      "application/vnd.jupyter.widget-view+json": {
       "model_id": "e1bcbd8596c34628a78e1cff49e8003d",
       "version_major": 2,
       "version_minor": 0
      },
      "text/plain": [
       "  0%|          | 0/101 [00:00<?, ?it/s]"
      ]
     },
     "metadata": {},
     "output_type": "display_data"
    },
    {
     "name": "stdout",
     "output_type": "stream",
     "text": [
      "0.0008299284188296729 0.4947356654127548\n",
      "Processing T =  0.39\n"
     ]
    },
    {
     "data": {
      "application/vnd.jupyter.widget-view+json": {
       "model_id": "8b6e9e4095344c82a3019c46682cfea5",
       "version_major": 2,
       "version_minor": 0
      },
      "text/plain": [
       "  0%|          | 0/101 [00:00<?, ?it/s]"
      ]
     },
     "metadata": {},
     "output_type": "display_data"
    },
    {
     "name": "stdout",
     "output_type": "stream",
     "text": [
      "0.005596307851495064 0.48913935756125976\n"
     ]
    },
    {
     "data": {
      "application/vnd.jupyter.widget-view+json": {
       "model_id": "f3ac96df66c548d9825214af40a7fff7",
       "version_major": 2,
       "version_minor": 0
      },
      "text/plain": [
       "  0%|          | 0/101 [00:00<?, ?it/s]"
      ]
     },
     "metadata": {},
     "output_type": "display_data"
    },
    {
     "name": "stdout",
     "output_type": "stream",
     "text": [
      "0.0022272804098924515 0.4869120771513673\n"
     ]
    },
    {
     "data": {
      "application/vnd.jupyter.widget-view+json": {
       "model_id": "cc16b976393843928b623a854c46613a",
       "version_major": 2,
       "version_minor": 0
      },
      "text/plain": [
       "  0%|          | 0/101 [00:00<?, ?it/s]"
      ]
     },
     "metadata": {},
     "output_type": "display_data"
    },
    {
     "name": "stdout",
     "output_type": "stream",
     "text": [
      "0.0003471676920029365 0.4865893757742801\n",
      "Processing T =  0.41000000000000003\n"
     ]
    },
    {
     "data": {
      "application/vnd.jupyter.widget-view+json": {
       "model_id": "19109c7498d74ea9a552ee401afef7af",
       "version_major": 2,
       "version_minor": 0
      },
      "text/plain": [
       "  0%|          | 0/101 [00:00<?, ?it/s]"
      ]
     },
     "metadata": {},
     "output_type": "display_data"
    },
    {
     "name": "stdout",
     "output_type": "stream",
     "text": [
      "0.003724615771966089 0.482864760002314\n"
     ]
    },
    {
     "data": {
      "application/vnd.jupyter.widget-view+json": {
       "model_id": "41d8a2f9d904456aa20afebab27e53a7",
       "version_major": 2,
       "version_minor": 0
      },
      "text/plain": [
       "  0%|          | 0/101 [00:00<?, ?it/s]"
      ]
     },
     "metadata": {},
     "output_type": "display_data"
    },
    {
     "name": "stdout",
     "output_type": "stream",
     "text": [
      "0.0022417252626734108 0.4806230347396406\n"
     ]
    },
    {
     "data": {
      "application/vnd.jupyter.widget-view+json": {
       "model_id": "98d9a9cb069c460493570a4c97e73713",
       "version_major": 2,
       "version_minor": 0
      },
      "text/plain": [
       "  0%|          | 0/101 [00:00<?, ?it/s]"
      ]
     },
     "metadata": {},
     "output_type": "display_data"
    },
    {
     "name": "stdout",
     "output_type": "stream",
     "text": [
      "0.00047522342609762624 0.480731995688404\n",
      "Processing T =  0.43000000000000005\n"
     ]
    },
    {
     "data": {
      "application/vnd.jupyter.widget-view+json": {
       "model_id": "17c3f099d5ee4446ad9eb882f2422817",
       "version_major": 2,
       "version_minor": 0
      },
      "text/plain": [
       "  0%|          | 0/101 [00:00<?, ?it/s]"
      ]
     },
     "metadata": {},
     "output_type": "display_data"
    },
    {
     "name": "stdout",
     "output_type": "stream",
     "text": [
      "0.0021240348470981107 0.4789004714871873\n"
     ]
    },
    {
     "data": {
      "application/vnd.jupyter.widget-view+json": {
       "model_id": "ca328f7258e64698b1d97f9e783ab07a",
       "version_major": 2,
       "version_minor": 0
      },
      "text/plain": [
       "  0%|          | 0/101 [00:00<?, ?it/s]"
      ]
     },
     "metadata": {},
     "output_type": "display_data"
    },
    {
     "name": "stdout",
     "output_type": "stream",
     "text": [
      "0.002196737356024492 0.4767037341311628\n"
     ]
    },
    {
     "data": {
      "application/vnd.jupyter.widget-view+json": {
       "model_id": "2cc4ce643c0c4a2db509d7b98bfb1fa5",
       "version_major": 2,
       "version_minor": 0
      },
      "text/plain": [
       "  0%|          | 0/101 [00:00<?, ?it/s]"
      ]
     },
     "metadata": {},
     "output_type": "display_data"
    },
    {
     "name": "stdout",
     "output_type": "stream",
     "text": [
      "0.0006076455346994969 0.4772214632208001\n",
      "Processing T =  0.44999999999999996\n"
     ]
    },
    {
     "data": {
      "application/vnd.jupyter.widget-view+json": {
       "model_id": "af94cafce99c4427b2e3cf0f193a4fe6",
       "version_major": 2,
       "version_minor": 0
      },
      "text/plain": [
       "  0%|          | 0/101 [00:00<?, ?it/s]"
      ]
     },
     "metadata": {},
     "output_type": "display_data"
    },
    {
     "name": "stdout",
     "output_type": "stream",
     "text": [
      "0.0014911568798543495 0.47711516207655835\n"
     ]
    },
    {
     "data": {
      "application/vnd.jupyter.widget-view+json": {
       "model_id": "e663f6b5febc4368a03c4a8a85ca81f6",
       "version_major": 2,
       "version_minor": 0
      },
      "text/plain": [
       "  0%|          | 0/101 [00:00<?, ?it/s]"
      ]
     },
     "metadata": {},
     "output_type": "display_data"
    },
    {
     "name": "stdout",
     "output_type": "stream",
     "text": [
      "0.002077042898490311 0.47503811917806804\n"
     ]
    },
    {
     "data": {
      "application/vnd.jupyter.widget-view+json": {
       "model_id": "b2fbe162471549238243293a30c150fd",
       "version_major": 2,
       "version_minor": 0
      },
      "text/plain": [
       "  0%|          | 0/101 [00:00<?, ?it/s]"
      ]
     },
     "metadata": {},
     "output_type": "display_data"
    },
    {
     "name": "stdout",
     "output_type": "stream",
     "text": [
      "0.0008383055849756071 0.47587642476304365\n",
      "Processing T =  0.47\n"
     ]
    },
    {
     "data": {
      "application/vnd.jupyter.widget-view+json": {
       "model_id": "f9c0281c4ab2481b851991ee59e32728",
       "version_major": 2,
       "version_minor": 0
      },
      "text/plain": [
       "  0%|          | 0/101 [00:00<?, ?it/s]"
      ]
     },
     "metadata": {},
     "output_type": "display_data"
    },
    {
     "name": "stdout",
     "output_type": "stream",
     "text": [
      "0.0014007005805570794 0.4772771253436007\n"
     ]
    },
    {
     "data": {
      "application/vnd.jupyter.widget-view+json": {
       "model_id": "389dfa15a3904497926fd633870e9766",
       "version_major": 2,
       "version_minor": 0
      },
      "text/plain": [
       "  0%|          | 0/101 [00:00<?, ?it/s]"
      ]
     },
     "metadata": {},
     "output_type": "display_data"
    },
    {
     "name": "stdout",
     "output_type": "stream",
     "text": [
      "0.0020128309271917333 0.47535545027586323\n"
     ]
    },
    {
     "data": {
      "application/vnd.jupyter.widget-view+json": {
       "model_id": "d2972b48d6e3431e82a70b8de659712d",
       "version_major": 2,
       "version_minor": 0
      },
      "text/plain": [
       "  0%|          | 0/101 [00:00<?, ?it/s]"
      ]
     },
     "metadata": {},
     "output_type": "display_data"
    },
    {
     "name": "stdout",
     "output_type": "stream",
     "text": [
      "0.0010581952269441697 0.4764136455028074\n"
     ]
    },
    {
     "data": {
      "application/vnd.jupyter.widget-view+json": {
       "model_id": "621c87464c2944f696158123e50acebf",
       "version_major": 2,
       "version_minor": 0
      },
      "text/plain": [
       "  0%|          | 0/101 [00:00<?, ?it/s]"
      ]
     },
     "metadata": {},
     "output_type": "display_data"
    },
    {
     "name": "stdout",
     "output_type": "stream",
     "text": [
      "0.0004945704165683074 0.4760840042030693\n",
      "Processing T =  0.49\n"
     ]
    },
    {
     "data": {
      "application/vnd.jupyter.widget-view+json": {
       "model_id": "cc076a2a140943f8b61bc0e922dd0668",
       "version_major": 2,
       "version_minor": 0
      },
      "text/plain": [
       "  0%|          | 0/101 [00:00<?, ?it/s]"
      ]
     },
     "metadata": {},
     "output_type": "display_data"
    },
    {
     "name": "stdout",
     "output_type": "stream",
     "text": [
      "0.0032351529352441233 0.4793191571383134\n"
     ]
    },
    {
     "data": {
      "application/vnd.jupyter.widget-view+json": {
       "model_id": "57b3d754a45241b5a88b7381d31e0cf8",
       "version_major": 2,
       "version_minor": 0
      },
      "text/plain": [
       "  0%|          | 0/101 [00:00<?, ?it/s]"
      ]
     },
     "metadata": {},
     "output_type": "display_data"
    },
    {
     "name": "stdout",
     "output_type": "stream",
     "text": [
      "0.0022650767521649184 0.47727149947682973\n"
     ]
    },
    {
     "data": {
      "application/vnd.jupyter.widget-view+json": {
       "model_id": "69c539843c224e5a827086f39df6c6f4",
       "version_major": 2,
       "version_minor": 0
      },
      "text/plain": [
       "  0%|          | 0/101 [00:00<?, ?it/s]"
      ]
     },
     "metadata": {},
     "output_type": "display_data"
    },
    {
     "name": "stdout",
     "output_type": "stream",
     "text": [
      "0.0012737926606300465 0.4785452921374598\n"
     ]
    },
    {
     "data": {
      "application/vnd.jupyter.widget-view+json": {
       "model_id": "c7ec7f22c7744ea0a7d9a4d6cefc70b1",
       "version_major": 2,
       "version_minor": 0
      },
      "text/plain": [
       "  0%|          | 0/101 [00:00<?, ?it/s]"
      ]
     },
     "metadata": {},
     "output_type": "display_data"
    },
    {
     "name": "stdout",
     "output_type": "stream",
     "text": [
      "0.0005305266862125624 0.4782706400475282\n",
      "Processing T =  0.51\n"
     ]
    },
    {
     "data": {
      "application/vnd.jupyter.widget-view+json": {
       "model_id": "0f5c24d1024540aa92a03a18e701a6e7",
       "version_major": 2,
       "version_minor": 0
      },
      "text/plain": [
       "  0%|          | 0/101 [00:00<?, ?it/s]"
      ]
     },
     "metadata": {},
     "output_type": "display_data"
    },
    {
     "name": "stdout",
     "output_type": "stream",
     "text": [
      "0.004139086294944971 0.48240972634247314\n"
     ]
    },
    {
     "data": {
      "application/vnd.jupyter.widget-view+json": {
       "model_id": "3791d485636e4b98a7490406b09645c3",
       "version_major": 2,
       "version_minor": 0
      },
      "text/plain": [
       "  0%|          | 0/101 [00:00<?, ?it/s]"
      ]
     },
     "metadata": {},
     "output_type": "display_data"
    },
    {
     "name": "stdout",
     "output_type": "stream",
     "text": [
      "0.0021979464586711073 0.48053605750945905\n"
     ]
    },
    {
     "data": {
      "application/vnd.jupyter.widget-view+json": {
       "model_id": "de5258b108b541299bc93f6c25c51d53",
       "version_major": 2,
       "version_minor": 0
      },
      "text/plain": [
       "  0%|          | 0/101 [00:00<?, ?it/s]"
      ]
     },
     "metadata": {},
     "output_type": "display_data"
    },
    {
     "name": "stdout",
     "output_type": "stream",
     "text": [
      "0.0012700028624035298 0.4818060603718626\n"
     ]
    },
    {
     "data": {
      "application/vnd.jupyter.widget-view+json": {
       "model_id": "5d7b9aa373984f2b92d00f4c660befb3",
       "version_major": 2,
       "version_minor": 0
      },
      "text/plain": [
       "  0%|          | 0/101 [00:00<?, ?it/s]"
      ]
     },
     "metadata": {},
     "output_type": "display_data"
    },
    {
     "name": "stdout",
     "output_type": "stream",
     "text": [
      "0.00048178485835881357 0.48162243307042746\n",
      "Processing T =  0.53\n"
     ]
    },
    {
     "data": {
      "application/vnd.jupyter.widget-view+json": {
       "model_id": "cc22da59a507417886bd825acaf157d0",
       "version_major": 2,
       "version_minor": 0
      },
      "text/plain": [
       "  0%|          | 0/101 [00:00<?, ?it/s]"
      ]
     },
     "metadata": {},
     "output_type": "display_data"
    },
    {
     "name": "stdout",
     "output_type": "stream",
     "text": [
      "0.004772856734745645 0.4863952898051731\n"
     ]
    },
    {
     "data": {
      "application/vnd.jupyter.widget-view+json": {
       "model_id": "4168d017916f4a6989bd03e7bbc97155",
       "version_major": 2,
       "version_minor": 0
      },
      "text/plain": [
       "  0%|          | 0/101 [00:00<?, ?it/s]"
      ]
     },
     "metadata": {},
     "output_type": "display_data"
    },
    {
     "name": "stdout",
     "output_type": "stream",
     "text": [
      "0.0020660204167586294 0.4847050175604328\n"
     ]
    },
    {
     "data": {
      "application/vnd.jupyter.widget-view+json": {
       "model_id": "42533880e98c4b88819928876e8058f3",
       "version_major": 2,
       "version_minor": 0
      },
      "text/plain": [
       "  0%|          | 0/101 [00:00<?, ?it/s]"
      ]
     },
     "metadata": {},
     "output_type": "display_data"
    },
    {
     "name": "stdout",
     "output_type": "stream",
     "text": [
      "0.0012029599527422774 0.4859079775131751\n"
     ]
    },
    {
     "data": {
      "application/vnd.jupyter.widget-view+json": {
       "model_id": "07e79703723243dfbc4107e5d5dc4e6f",
       "version_major": 2,
       "version_minor": 0
      },
      "text/plain": [
       "  0%|          | 0/101 [00:00<?, ?it/s]"
      ]
     },
     "metadata": {},
     "output_type": "display_data"
    },
    {
     "name": "stdout",
     "output_type": "stream",
     "text": [
      "0.0004147763331655563 0.4857932219366373\n",
      "Processing T =  0.55\n"
     ]
    },
    {
     "data": {
      "application/vnd.jupyter.widget-view+json": {
       "model_id": "db3e454710be43098c713a930b766bce",
       "version_major": 2,
       "version_minor": 0
      },
      "text/plain": [
       "  0%|          | 0/101 [00:00<?, ?it/s]"
      ]
     },
     "metadata": {},
     "output_type": "display_data"
    },
    {
     "name": "stdout",
     "output_type": "stream",
     "text": [
      "0.005202595890120065 0.4909958178267574\n"
     ]
    },
    {
     "data": {
      "application/vnd.jupyter.widget-view+json": {
       "model_id": "b2520c6ecc31481ea102cbefe7833b43",
       "version_major": 2,
       "version_minor": 0
      },
      "text/plain": [
       "  0%|          | 0/101 [00:00<?, ?it/s]"
      ]
     },
     "metadata": {},
     "output_type": "display_data"
    },
    {
     "name": "stdout",
     "output_type": "stream",
     "text": [
      "0.0019073051650786432 0.489481804065759\n"
     ]
    },
    {
     "data": {
      "application/vnd.jupyter.widget-view+json": {
       "model_id": "ad8e9b59f4294d3087db6bc30d96c94c",
       "version_major": 2,
       "version_minor": 0
      },
      "text/plain": [
       "  0%|          | 0/101 [00:00<?, ?it/s]"
      ]
     },
     "metadata": {},
     "output_type": "display_data"
    },
    {
     "name": "stdout",
     "output_type": "stream",
     "text": [
      "0.0010996450953841275 0.4905814491611431\n"
     ]
    },
    {
     "data": {
      "application/vnd.jupyter.widget-view+json": {
       "model_id": "f25e266351b64f87a2aa4d3525afcaf2",
       "version_major": 2,
       "version_minor": 0
      },
      "text/plain": [
       "  0%|          | 0/101 [00:00<?, ?it/s]"
      ]
     },
     "metadata": {},
     "output_type": "display_data"
    },
    {
     "name": "stdout",
     "output_type": "stream",
     "text": [
      "0.0003465035528975591 0.49051482861949747\n"
     ]
    }
   ],
   "source": [
    "for T in Trange:\n",
    "    DELTA = 1\n",
    "    print('Processing T = ', T)\n",
    "    iter = 0\n",
    "    omKs_iter = []\n",
    "    ress_iter = []\n",
    "    imss_iter = []\n",
    "    G2ss_iter = []\n",
    "    chs_iter = []\n",
    "    TMss_iter = []\n",
    "    \n",
    "    while DELTA > 1e-3:\n",
    "        \n",
    "        # if len(ims) == 0 or len(res) == 0:\n",
    "        channels_QQ = QuarkTM.ChannelGroup(mu0=False)\n",
    "        channels_QA = QuarkTM.ChannelGroup(mu0=False)\n",
    "        channels_AA = QuarkTM.ChannelGroup(mu0=False)\n",
    "        channels_AQ = QuarkTM.ChannelGroup(mu0=False)\n",
    "        \n",
    "        # ImS_K_Arr = array([ims for e in er|ange])\n",
    "        # ReS_K_Arr = array([res for e in erange])\n",
    "        \n",
    "        ImS_K_Arrs = [array([ims for e in erange]) for ims in imss.transpose()]\n",
    "        ReS_K_Arrs = [array([res for e in erange]) for res in ress.transpose()]\n",
    "        \n",
    "        \n",
    "        omArrs = [array([omk for e in erange]) for omk in omKs.transpose()]\n",
    "        \n",
    "        G2_QQ = (1 - 2*f(omArrs[0], T)) / (eArr - 2*omArrs[0] - 1j*2*ImS_K_Arrs[0] + 2*mu)\n",
    "        G2_QA = (1 - f(omArrs[0], T) - f(omArrs[1], T)) / (eArr - omArrs[0] - omArrs[1] - 1j*(ImS_K_Arrs[0] + ImS_K_Arrs[1]))\n",
    "        G2_AA = (1 - 2*f(omArrs[1], T)) / (eArr - 2*omArrs[1] - 1j*2*ImS_K_Arrs[1] - 2*mu)\n",
    "        \n",
    "        \n",
    "        channels_QQ.addChannel(\n",
    "            QuarkTM.ChannelL('qq3', lmax, quark_run, quark_run, T, pss, ds=4, da=3, Fa=1/2, mu=mu, G2=G2_QQ)\n",
    "        )\n",
    "    \n",
    "        channels_QQ.addChannel(\n",
    "            QuarkTM.ChannelL('qq6', lmax, quark_run, quark_run, T, pss_rep, ds=4, da=6, Fa=1/4, mu=mu, G2=G2_QQ)\n",
    "        )\n",
    "    \n",
    "        channels_QA.addChannel(\n",
    "            QuarkTM.ChannelL('qa8', lmax, quark_run, aquark_run, T, pss_rep, ds=4, da=8, Fa=1/8, mu=mu, G2=G2_QA)\n",
    "        )\n",
    "        \n",
    "        channels_QA.addChannel(\n",
    "            QuarkTM.ChannelL('qa1', lmax, quark_run, aquark_run, T, pss, ds=4, da=1, Fa=1, mu=mu, G2=G2_QA)\n",
    "        )\n",
    "        \n",
    "        channels_AA.addChannel(\n",
    "            QuarkTM.ChannelL('aa3', lmax, aquark_run, aquark_run, T, pss, ds=4, da=3, Fa=1/2, mu=mu, G2=G2_AA)\n",
    "        )\n",
    "        \n",
    "        channels_AQ.addChannel(\n",
    "            QuarkTM.ChannelL('aq1', lmax, aquark_run, quark_run, T, pss, ds=4, da=1, Fa=1, mu=mu, G2=G2_QA)\n",
    "        )\n",
    "    \n",
    "        channels_AA.addChannel(\n",
    "            QuarkTM.ChannelL('aa6', lmax, aquark_run, aquark_run, T, pss_rep, ds=4, da=6, Fa=1/4, mu=mu, G2=G2_AA)\n",
    "        )\n",
    "    \n",
    "        channels_AQ.addChannel(\n",
    "            QuarkTM.ChannelL('aq8', lmax, aquark_run, quark_run, T, pss_rep, ds=4, da=8, Fa=1/8, mu=mu, G2=G2_QA)\n",
    "        )\n",
    "    \n",
    "        chs_Q = [channels_QQ, channels_QA]\n",
    "        chs_A = [channels_AQ, channels_AA]\n",
    "        \n",
    "        Gs_Q = [G2_QQ, G2_QA]\n",
    "        Gs_A = [G2_QA, G2_AA]\n",
    "    \n",
    "        omKs_old = omKs.copy()\n",
    "\n",
    "        \n",
    "        \n",
    "        ################# Build the T-matrix array #########################\n",
    "\n",
    "        TMss = []\n",
    "        for i, chs, Gs, lbl in zip(range(2), [chs_Q, chs_A], [Gs_Q, Gs_A], ['Q', 'A']):\n",
    "            TMs = []\n",
    "            for j, ch in enumerate(chs):\n",
    "                TM = ch.get_T()\n",
    "                TM[erange < 0] = real(TM[erange < 0])\n",
    "                if subtr:\n",
    "                    TM -= (TM[0, :] + TM[1, :])/2\n",
    "                TMs += [TM]\n",
    "            TMss += [TMs]\n",
    "        \n",
    "        omKs = []\n",
    "        ress = []\n",
    "        imss = []\n",
    "\n",
    "        TMss_iter += [TMss]\n",
    "        for q in tqdm.notebook.tqdm(qrange):\n",
    "            oms = []\n",
    "            res = []\n",
    "            ims = []\n",
    "            for i, chs, Gs, lbl, TMs in zip(range(2), [chs_Q, chs_A], [Gs_Q, Gs_A], ['Q', 'A'], TMss):\n",
    "                re = 0\n",
    "                im = 0\n",
    "                for j, ch, TM in zip(range(2), chs, TMs):\n",
    "                    iReTM = tm.Interpolator2D(qrange, erange, ascontiguousarray(real(TM)))\n",
    "                    iImTM = tm.Interpolator2D(qrange, erange, ascontiguousarray(imag(TM)))\n",
    "                    iEps_i = tm.Interpolator(qrange, ascontiguousarray(omArrs[i][0, :]), 'cubic')\n",
    "                    iEps_j = tm.Interpolator(qrange, ascontiguousarray(omArrs[j][0, :]), 'cubic')\n",
    "                    _re = tm.SigmaQP(iEps_i(q), q, T, iReTM, quark_run.R, iEps_i, iEps_j, 0, 0)\n",
    "                    _im = tm.SigmaQP(iEps_i(q), q, T, iImTM, quark_run.R, iEps_i, iEps_j, 0, 0)\n",
    "                    re += _re\n",
    "                    im += _im\n",
    "                # x0 = x\n",
    "                om = sqrt(mQ**2 + q**2) + re\n",
    "                # delta = abs(x - x0)\n",
    "                # print('k = ', k, 'delta = ', delta)\n",
    "                # print(om, re, im)\n",
    "                oms += [om]\n",
    "                ims += [im]\n",
    "                res += [re]\n",
    "            # print(oms)\n",
    "            omKs += [oms]\n",
    "            imss += [ims]\n",
    "            ress += [res]\n",
    "\n",
    "    \n",
    "        \n",
    "        # for k in tqdm.notebook.tqdm(qrange):\n",
    "        #     xs\n",
    "            \n",
    "        #     omKs += [xs]\n",
    "        #     ress += [res]\n",
    "        #     imss += [ims]\n",
    "\n",
    "        # omKs = OUT[:, 0]\n",
    "        # imss = OUT[:, 0]\n",
    "        # ress = OUT[:, 0]\n",
    "\n",
    "        # omKs = [o[0] for o in OUT]\n",
    "        # imss = [o[1] for o in OUT]\n",
    "        # ress = [o[2] for o in OUT]\n",
    "        \n",
    "        omKs = array(omKs)\n",
    "        omKs_old = array(omKs_old)\n",
    "        imss = array(imss)\n",
    "        ress = array(ress)\n",
    "    \n",
    "        DELTA = np.max(abs(omKs_old - omKs))\n",
    "        print(DELTA, omKs[0, 0])\n",
    "\n",
    "        omKs_iter += [omKs]\n",
    "        ress_iter += [ress]\n",
    "        imss_iter += [imss]\n",
    "\n",
    "        G2ss_iter += [[G2_QQ, G2_AA, G2_QA]]\n",
    "        chs_iter += [[channels_QQ, channels_QA, channels_AQ, channels_AA]]\n",
    "        \n",
    "        \n",
    "    \n",
    "    df = h5py.File(os.path.join(folder, 'data_T=%.3f.hdf5'%T), 'w')\n",
    "    kk = ['Q', 'Q', 'A', 'A']\n",
    "    for _k, gr in zip(kk, [channels_QQ, channels_QA, channels_AA, channels_AQ]):\n",
    "        gr.get_T()\n",
    "        for k, chl in gr.channels.items():\n",
    "            for l in range(chl.lmax + 1):\n",
    "                c = chl.chs[l]\n",
    "                df.create_dataset(f'TM/{k}/{l}', data=c.TM)\n",
    "                df[f'TM/{k}/{l}'].attrs.update({'v' : c.v(qrange), 'ds' : c.ds, 'da' : c.da, 'Fa' : c.Fa})\n",
    "                df.create_dataset(f'X/{k}/{l}', data=c.XS[0])\n",
    "                df[f'X/{k}/{l}'].attrs.update({'v' : c.v(qrange), 'ds' : c.ds, 'da' : c.da, 'Fa' : c.Fa})\n",
    "    \n",
    "    \n",
    "    df.attrs.update({'qrange' : qrange})\n",
    "    df.create_dataset(f'S/Q', data=ress[:,0] + 1j*imss[:, 0])\n",
    "    df.create_dataset(f'S/A', data=ress[:,1] + 1j*imss[:, 1])\n",
    "    df.create_dataset(f'/Eps/Q', data=omKs[:, 0])\n",
    "    df.create_dataset(f'/Eps/A', data=omKs[:, 1])\n",
    "    df.create_dataset(f'/G2/QA', data=G2_QA)\n",
    "    df.create_dataset(f'/G2/QQ', data=G2_QQ)\n",
    "    df.create_dataset(f'/G2/AA', data=G2_AA)\n",
    "    \n",
    "    df.close()"
   ]
  },
  {
   "cell_type": "markdown",
   "id": "9bed4ad4-df2b-460c-bbe2-116752bdb2ca",
   "metadata": {},
   "source": [
    "## Inspect iterations"
   ]
  },
  {
   "cell_type": "code",
   "execution_count": 25,
   "id": "8bf56b96-e7b2-41d2-bd8d-270f10371d7d",
   "metadata": {},
   "outputs": [],
   "source": [
    "# iters = [10, 11, 12, 13, 14, 15, 16, 17, 18, 19, 20][::2]\n",
    "iters = [0, 1,2,3,4]"
   ]
  },
  {
   "cell_type": "code",
   "execution_count": 26,
   "id": "0e3b1537-b99d-4234-bcd9-34b9b7bf417f",
   "metadata": {},
   "outputs": [],
   "source": [
    "lss = ['-', '--', '-.', ':']*3"
   ]
  },
  {
   "cell_type": "code",
   "execution_count": 27,
   "id": "a04b73d6-5882-4b8b-aced-1ab76ed375f8",
   "metadata": {},
   "outputs": [
    {
     "data": {
      "text/plain": [
       "<matplotlib.legend.Legend at 0x7fc276eccf50>"
      ]
     },
     "execution_count": 27,
     "metadata": {},
     "output_type": "execute_result"
    },
    {
     "data": {
      "image/png": "[encoded data removed]",
      "text/plain": [
       "<Figure size 600x400 with 1 Axes>"
      ]
     },
     "metadata": {},
     "output_type": "display_data"
    }
   ],
   "source": [
    "for i, ls in zip(iters, lss):\n",
    "    l_r, = plt.plot(erange, imag(G2ss_iter[i][2][:, 0]), label='%i'%i, ls=ls)\n",
    "    # l_i = plt.plot(qrange, imss_iter[i][:, 0], ls=':', c=l_r.get_c())\n",
    "\n",
    "plt.legend(fontsize=14)"
   ]
  },
  {
   "cell_type": "code",
   "execution_count": 28,
   "id": "f2cbd64c-69e4-4dba-8b5f-659054677988",
   "metadata": {},
   "outputs": [
    {
     "data": {
      "text/plain": [
       "<matplotlib.legend.Legend at 0x7fc276f80690>"
      ]
     },
     "execution_count": 28,
     "metadata": {},
     "output_type": "execute_result"
    },
    {
     "data": {
      "image/png": "[encoded data removed]",
      "text/plain": [
       "<Figure size 600x400 with 1 Axes>"
      ]
     },
     "metadata": {},
     "output_type": "display_data"
    }
   ],
   "source": [
    "for i, ls in zip(iters, lss):\n",
    "    li, = plt.plot(erange, imag(TMss_iter[i][0][0][:, 0]), ls=ls, label='%i'%i)\n",
    "    plt.plot(erange, real(TMss_iter[i][0][0][:, 0]), ls=ls, c=li.get_c(), lw=1.5)\n",
    "\n",
    "\n",
    "plt.xlim(0, 3)\n",
    "plt.legend(fontsize=14)"
   ]
  },
  {
   "cell_type": "code",
   "execution_count": 29,
   "id": "bde0fbf2-eb75-43f1-86ab-59eb4d53fddd",
   "metadata": {},
   "outputs": [
    {
     "data": {
      "text/plain": [
       "(0.0, 2.0)"
      ]
     },
     "execution_count": 29,
     "metadata": {},
     "output_type": "execute_result"
    },
    {
     "data": {
      "image/png": "[encoded data removed]",
      "text/plain": [
       "<Figure size 600x400 with 1 Axes>"
      ]
     },
     "metadata": {},
     "output_type": "display_data"
    }
   ],
   "source": [
    "for i, ls in zip(iters, lss):\n",
    "    l_r, = plt.plot(qrange, imss_iter[i][:, 0], label='%i'%i, ls=ls)\n",
    "    # l_i = plt.plot(qrange, imss_iter[i][:, 0], ls=':', c=l_r.get_c())\n",
    "\n",
    "plt.legend()\n",
    "plt.xlim(0, 2)"
   ]
  },
  {
   "cell_type": "code",
   "execution_count": 30,
   "id": "0f692b6b-3136-4298-927e-90b8aac2525b",
   "metadata": {},
   "outputs": [
    {
     "data": {
      "text/plain": [
       "(0.0, 2.0)"
      ]
     },
     "execution_count": 30,
     "metadata": {},
     "output_type": "execute_result"
    },
    {
     "data": {
      "image/png": "[encoded data removed]",
      "text/plain": [
       "<Figure size 600x400 with 1 Axes>"
      ]
     },
     "metadata": {},
     "output_type": "display_data"
    }
   ],
   "source": [
    "for i, ls in zip(iters, lss):\n",
    "    l_r, = plt.plot(qrange, ress_iter[i][:, 0], label='%i'%i, ls=ls)\n",
    "    # l_i = plt.plot(qrange, imss_iter[i][:, 0], ls=':', c=l_r.get_c())\n",
    "\n",
    "plt.legend()\n",
    "plt.xlim(0, 2)"
   ]
  },
  {
   "cell_type": "markdown",
   "id": "ca8853b6-26cd-4690-838b-5db1f0c8451c",
   "metadata": {},
   "source": [
    "### Aux plot with summed T-matrix"
   ]
  },
  {
   "cell_type": "code",
   "execution_count": 75,
   "id": "c0cd9368-7940-49d3-8ffd-fe855d4f371b",
   "metadata": {},
   "outputs": [
    {
     "data": {
      "text/plain": [
       "<matplotlib.legend.Legend at 0x7fe2a0817d50>"
      ]
     },
     "execution_count": 75,
     "metadata": {},
     "output_type": "execute_result"
    },
    {
     "data": {
      "image/png": "[encoded data removed]",
      "text/plain": [
       "<Figure size 600x400 with 1 Axes>"
      ]
     },
     "metadata": {},
     "output_type": "display_data"
    }
   ],
   "source": [
    "for i, ls in zip(iters, lss):\n",
    "    li, = plt.plot(erange, imag(TMss_iter[i][0][0][:, 0] + TMss_iter[i][0][1][:, 0]), ls=ls, label='%i'%i)\n",
    "    # plt.plot(erange, real(TMss_iter[i][0][0][:, 0]), ls=ls, c=li.get_c(), lw=1.5)\n",
    "\n",
    "\n",
    "plt.xlim(0, 3)\n",
    "plt.legend(fontsize=14)"
   ]
  },
  {
   "cell_type": "markdown",
   "id": "776964a7-74e5-4c98-9a32-9cb14a189b87",
   "metadata": {},
   "source": [
    "## Compare values"
   ]
  },
  {
   "cell_type": "code",
   "execution_count": 104,
   "id": "152a8e7e-997a-4531-ad0f-9b37f0a5d8bc",
   "metadata": {},
   "outputs": [
    {
     "data": {
      "text/plain": [
       "array([-0.00330119, -0.00332795, -0.00335503, -0.00338244, -0.0034102 ,\n",
       "       -0.00343829, -0.00346673, -0.00349553, -0.00352469, -0.00355421,\n",
       "       -0.00358411, -0.00361438, -0.00364504, -0.0036761 , -0.00370755,\n",
       "       -0.0037394 , -0.00377167, -0.00380435, -0.00383747, -0.00387102,\n",
       "       -0.003905  , -0.00393944, -0.00397434, -0.0040097 , -0.00404553,\n",
       "       -0.00408185, -0.00411866, -0.00415597, -0.00419379, -0.00423212,\n",
       "       -0.00427099, -0.00431039, -0.00435034, -0.00439084, -0.00443192,\n",
       "       -0.00447357, -0.00451581, -0.00455866, -0.00460211, -0.00464619,\n",
       "       -0.00469091, -0.00473627, -0.0047823 , -0.004829  , -0.00487638,\n",
       "       -0.00492447, -0.00497327, -0.0050228 , -0.00507307, -0.00512411,\n",
       "       -0.00517591, -0.0052285 , -0.0052819 , -0.00533612, -0.00539118,\n",
       "       -0.0054471 , -0.00550389, -0.00556157, -0.00562017, -0.00567969,\n",
       "       -0.00574016, -0.00580161, -0.00586404, -0.00592749, -0.00599197,\n",
       "       -0.00605751, -0.00612413, -0.00619186, -0.00626071, -0.00633072,\n",
       "       -0.0064019 , -0.0064743 , -0.00654793, -0.00662282, -0.006699  ,\n",
       "       -0.0067765 , -0.00685536, -0.0069356 , -0.00701725, -0.00710036,\n",
       "       -0.00718494, -0.00727105, -0.00735871, -0.00744797, -0.00753886,\n",
       "       -0.00763142, -0.0077257 , -0.00782173, -0.00791956, -0.00801924,\n",
       "       -0.00812081, -0.00822432, -0.00832982, -0.00843736, -0.008547  ,\n",
       "       -0.00865879, -0.00877278, -0.00888903, -0.00900761, -0.00912857,\n",
       "       -0.00925199, -0.00937792, -0.00950644, -0.00963762, -0.00977152,\n",
       "       -0.00990824, -0.01004784, -0.01019041, -0.01033603, -0.01048479,\n",
       "       -0.01063678, -0.0107921 , -0.01095084, -0.01111311, -0.011279  ,\n",
       "       -0.01144864, -0.01162212, -0.01179957, -0.01198112, -0.01216688,\n",
       "       -0.01235698, -0.01255158, -0.01275079, -0.01295479, -0.01316371,\n",
       "       -0.01337772, -0.01359698, -0.01382167, -0.01405197, -0.01428806,\n",
       "       -0.01453014, -0.01477842, -0.01503311, -0.01529443, -0.01556261,\n",
       "       -0.01583789, -0.01612053, -0.01641079, -0.01670895, -0.01701529,\n",
       "       -0.01733012, -0.01765375, -0.01798652, -0.01832876, -0.01868085,\n",
       "       -0.01904316, -0.01941609, -0.01980006, -0.02019552, -0.02060291,\n",
       "       -0.02102272, -0.02145547, -0.02190169, -0.02236194, -0.02283682,\n",
       "       -0.02332694, -0.02383298, -0.02435562, -0.0248956 , -0.02545368,\n",
       "       -0.02603069, -0.02662749, -0.027245  , -0.02788416, -0.02854602,\n",
       "       -0.02923165, -0.0299422 , -0.03067889, -0.03144302, -0.03223595,\n",
       "       -0.03305915, -0.03391418, -0.03480268, -0.03572643, -0.0366873 ,\n",
       "       -0.03768731, -0.03872859, -0.03981345, -0.04094433, -0.04212387,\n",
       "       -0.04335488, -0.04464038, -0.04598363, -0.04738812, -0.04885761,\n",
       "       -0.05039615, -0.0520081 , -0.05369819, -0.05547152, -0.05733361,\n",
       "       -0.05929045, -0.06134853, -0.0635149 , -0.06579724, -0.06820391,\n",
       "       -0.07074405, -0.07342762, -0.07626554, -0.07926976, -0.08245341,\n",
       "       -0.08583094, -0.08941824, -0.09323287, -0.09729424, -0.10162383,\n",
       "       -0.10624551, -0.11118581, -0.11647431, -0.12214403, -0.12823197,\n",
       "       -0.13477962, -0.14183368, -0.14944681, -0.15767856, -0.16659645,\n",
       "       -0.17627725, -0.18680852, -0.1982904 , -0.21083783, -0.22458305,\n",
       "       -0.23967885, -0.25630223, -0.27465901, -0.29498935, -0.31757448,\n",
       "       -0.3427448 , -0.3708899 , -0.40247062, -0.43803376, -0.4782298 ,\n",
       "       -0.52383419, -0.57577242, -0.63514895, -0.70327912, -0.78172179,\n",
       "       -0.87230757, -0.97715223, -1.09863603, -1.23931503, -1.40170803,\n",
       "       -1.58787238, -1.7986519 , -2.03247665, -2.28368163, -2.54059581,\n",
       "       -2.78421459, -2.98893625, -3.12688715, -3.17574476, -3.12688715,\n",
       "       -2.98893625, -2.78421459, -2.54059581, -2.28368163, -2.03247665,\n",
       "       -1.7986519 , -1.58787238, -1.40170803, -1.23931503, -1.09863603,\n",
       "       -0.97715223, -0.87230757, -0.78172179, -0.70327912, -0.63514895,\n",
       "       -0.57577242, -0.52383419, -0.4782298 , -0.43803376, -0.40247062,\n",
       "       -0.3708899 , -0.3427448 , -0.31757448, -0.29498935, -0.27465901,\n",
       "       -0.25630223, -0.23967885, -0.22458305, -0.21083783, -0.1982904 ,\n",
       "       -0.18680852, -0.17627725, -0.16659645, -0.15767856, -0.14944681,\n",
       "       -0.14183368, -0.13477962, -0.12823197, -0.12214403, -0.11647431,\n",
       "       -0.11118581, -0.10624551, -0.10162383, -0.09729424, -0.09323287,\n",
       "       -0.08941824, -0.08583094, -0.08245341, -0.07926976, -0.07626554,\n",
       "       -0.07342762, -0.07074405, -0.06820391, -0.06579724, -0.0635149 ,\n",
       "       -0.06134853, -0.05929045, -0.05733361, -0.05547152, -0.05369819,\n",
       "       -0.0520081 , -0.05039615, -0.04885761, -0.04738812, -0.04598363,\n",
       "       -0.04464038, -0.04335488, -0.04212387, -0.04094433, -0.03981345,\n",
       "       -0.03872859, -0.03768731, -0.0366873 , -0.03572643, -0.03480268,\n",
       "       -0.03391418, -0.03305915, -0.03223595, -0.03144302, -0.03067889,\n",
       "       -0.0299422 , -0.02923165, -0.02854602, -0.02788416, -0.027245  ,\n",
       "       -0.02662749, -0.02603069, -0.02545368, -0.0248956 , -0.02435562,\n",
       "       -0.02383298, -0.02332694, -0.02283682, -0.02236194, -0.02190169,\n",
       "       -0.02145547, -0.02102272, -0.02060291, -0.02019552, -0.01980006,\n",
       "       -0.01941609, -0.01904316, -0.01868085, -0.01832876, -0.01798652,\n",
       "       -0.01765375, -0.01733012, -0.01701529, -0.01670895, -0.01641079,\n",
       "       -0.01612053, -0.01583789, -0.01556261, -0.01529443, -0.01503311,\n",
       "       -0.01477842, -0.01453014, -0.01428806, -0.01405197, -0.01382167,\n",
       "       -0.01359698, -0.01337772, -0.01316371, -0.01295479, -0.01275079,\n",
       "       -0.01255158, -0.01235698, -0.01216688, -0.01198112, -0.01179957,\n",
       "       -0.01162212, -0.01144864, -0.011279  , -0.01111311, -0.01095084,\n",
       "       -0.0107921 , -0.01063678, -0.01048479, -0.01033603, -0.01019041,\n",
       "       -0.01004784, -0.00990824, -0.00977152, -0.00963762, -0.00950644,\n",
       "       -0.00937792, -0.00925199, -0.00912857, -0.00900761, -0.00888903,\n",
       "       -0.00877278])"
      ]
     },
     "execution_count": 104,
     "metadata": {},
     "output_type": "execute_result"
    }
   ],
   "source": [
    "imag(G2ss_iter[0][0][:, 0])"
   ]
  },
  {
   "cell_type": "code",
   "execution_count": 105,
   "id": "1d5a84e1-0945-47a5-ad74-947c09d0b1be",
   "metadata": {},
   "outputs": [
    {
     "data": {
      "text/plain": [
       "array([ 7.16572305e-02  +0.j        , -7.16572305e-02  +0.j        ,\n",
       "       -2.16056692e-01  +0.j        , -3.61553602e-01  +0.j        ,\n",
       "       -5.08160602e-01  +0.j        , -6.55890529e-01  +0.j        ,\n",
       "       -8.04756419e-01  +0.j        , -9.54771513e-01  +0.j        ,\n",
       "       -1.10594926e+00  +0.j        , -1.25830331e+00  +0.j        ,\n",
       "       -1.41184755e+00  +0.j        , -1.56659608e+00  +0.j        ,\n",
       "       -1.72256320e+00  +0.j        , -1.87976348e+00  +0.j        ,\n",
       "       -2.03821169e+00  +0.j        , -2.19792286e+00  +0.j        ,\n",
       "       -2.35891225e+00  +0.j        , -2.52119538e+00  +0.j        ,\n",
       "       -2.68478801e+00  +0.j        , -2.84970616e+00  +0.j        ,\n",
       "       -3.01596614e+00  +0.j        , -3.18358449e+00  +0.j        ,\n",
       "       -3.35257805e+00  +0.j        , -3.52296394e+00  +0.j        ,\n",
       "       -3.69475956e+00  +0.j        , -3.86798260e+00  +0.j        ,\n",
       "       -4.04265106e+00  +0.j        , -4.21878323e+00  +0.j        ,\n",
       "       -4.39639773e+00  +0.j        , -4.57551349e+00  +0.j        ,\n",
       "       -4.75614975e+00  +0.j        , -4.93832612e+00  +0.j        ,\n",
       "       -5.12206252e+00  +0.j        , -5.30737921e+00  +0.j        ,\n",
       "       -5.49429684e+00  +0.j        , -5.68283640e+00  +0.j        ,\n",
       "       -5.87301924e+00  +0.j        , -6.06486711e+00  +0.j        ,\n",
       "       -6.25840215e+00  +0.j        , -6.45364687e+00  +0.j        ,\n",
       "       -6.65062421e+00  +0.j        , -6.84935752e+00  +0.j        ,\n",
       "       -7.04987056e+00  +0.j        , -7.25218754e+00  +0.j        ,\n",
       "       -7.45633310e+00  +0.j        , -7.66233235e+00  +0.j        ,\n",
       "       -7.87021084e+00  +0.j        , -8.07999463e+00  +0.j        ,\n",
       "       -8.29171023e+00  +0.j        , -8.50538467e+00  +0.j        ,\n",
       "       -8.72104549e+00  +0.j        , -8.93872073e+00  +0.j        ,\n",
       "       -9.15843899e+00  +0.j        , -9.38022941e+00  +0.j        ,\n",
       "       -9.60412167e+00  +0.j        , -9.83014606e+00  +0.j        ,\n",
       "       -1.00583336e+01  +0.j        , -1.02887154e+01  +0.j        ,\n",
       "       -1.05213237e+01  +0.j        , -1.07561912e+01  +0.j        ,\n",
       "       -1.09933514e+01  +0.j        , -1.12328381e+01  +0.j        ,\n",
       "       -1.14746861e+01  +0.j        , -1.17189309e+01  +0.j        ,\n",
       "       -1.19656085e+01  +0.j        , -1.22147557e+01  +0.j        ,\n",
       "       -1.24664102e+01  +0.j        , -1.27206104e+01  +0.j        ,\n",
       "       -1.29773954e+01  +0.j        , -1.32368052e+01  +0.j        ,\n",
       "       -1.34988806e+01  +0.j        , -1.37636634e+01  +0.j        ,\n",
       "       -1.40311959e+01  +0.j        , -1.43015218e+01  +0.j        ,\n",
       "       -1.45746853e+01  +0.j        , -1.48507318e+01  +0.j        ,\n",
       "       -1.51297077e+01  +0.j        , -1.54116601e+01  +0.j        ,\n",
       "       -1.56966376e+01  +0.j        , -1.59846894e+01  +0.j        ,\n",
       "       -1.62758661e+01  +0.j        , -1.65702193e+01  +0.j        ,\n",
       "       -1.68678018e+01  +0.j        , -1.71686674e+01  +0.j        ,\n",
       "       -1.74728714e+01  +0.j        , -1.77804702e+01  +0.j        ,\n",
       "       -1.80915214e+01  +0.j        , -1.84060842e+01  +0.j        ,\n",
       "       -1.87242189e+01  +0.j        , -1.90459873e+01  +0.j        ,\n",
       "       -1.93714526e+01  +0.j        , -1.97006796e+01  +0.j        ,\n",
       "       -2.00337345e+01  +0.j        , -2.03706851e+01  +0.j        ,\n",
       "       -2.07116010e+01  +0.j        , -2.10565532e+01  +0.j        ,\n",
       "       -2.14056146e+01  +0.j        , -2.17588598e+01  +0.j        ,\n",
       "       -2.21163653e+01  +0.j        , -2.24782095e+01  +0.j        ,\n",
       "       -2.28444726e+01  +0.j        , -2.32152369e+01  +0.j        ,\n",
       "       -2.35905869e+01  +0.j        , -2.39706090e+01  +0.j        ,\n",
       "       -2.43553921e+01  +0.j        , -2.47450270e+01  +0.j        ,\n",
       "       -2.51396071e+01  +0.j        , -2.55392283e+01  +0.j        ,\n",
       "       -2.59439888e+01  +0.j        , -2.63539895e+01  +0.j        ,\n",
       "       -2.67693340e+01  +0.j        , -2.71901286e+01  +0.j        ,\n",
       "       -2.76164825e+01  +0.j        , -2.80485079e+01  +0.j        ,\n",
       "       -2.84863200e+01  +0.j        , -2.89300371e+01  +0.j        ,\n",
       "       -2.93797810e+01  +0.j        , -2.98356767e+01  +0.j        ,\n",
       "       -3.02978528e+01  +0.j        , -3.07664414e+01  +0.j        ,\n",
       "       -3.12415816e+01  +0.j        , -3.17234072e+01  +0.j        ,\n",
       "       -3.22120652e+01  +0.j        , -3.27077035e+01  +0.j        ,\n",
       "       -3.32104749e+01  +0.j        , -3.37205360e+01  +0.j        ,\n",
       "       -3.42380487e+01  +0.j        , -3.47631794e+01  +0.j        ,\n",
       "       -3.52960996e+01  +0.j        , -3.58369862e+01  +0.j        ,\n",
       "       -3.63860213e+01  +0.j        , -3.69433927e+01  +0.j        ,\n",
       "       -3.75092943e+01  +0.j        , -3.80839257e+01  +0.j        ,\n",
       "       -3.86674931e+01  +0.j        , -3.92602094e+01  +0.j        ,\n",
       "       -3.98622940e+01  +0.j        , -4.04739738e+01  +0.j        ,\n",
       "       -4.10954830e+01  +0.j        , -4.17270634e+01  +0.j        ,\n",
       "       -4.23689652e+01  +0.j        , -4.30214468e+01  +0.j        ,\n",
       "       -4.36847752e+01  +0.j        , -4.43592270e+01  +0.j        ,\n",
       "       -4.50450880e+01  +0.j        , -4.57426541e+01  +0.j        ,\n",
       "       -4.64522314e+01  +0.j        , -4.71741373e+01  +0.j        ,\n",
       "       -4.79087000e+01  +0.j        , -4.86562601e+01  +0.j        ,\n",
       "       -4.94171703e+01  +0.j        , -5.01917963e+01  +0.j        ,\n",
       "       -5.09805175e+01  +0.j        , -5.17837275e+01  +0.j        ,\n",
       "       -5.26018348e+01  +0.j        , -5.34352635e+01  +0.j        ,\n",
       "       -5.42844542e+01  +0.j        , -5.51498644e+01  +0.j        ,\n",
       "       -5.60319700e+01  +0.j        , -5.69312656e+01  +0.j        ,\n",
       "       -5.78482657e+01  +0.j        , -5.87835059e+01  +0.j        ,\n",
       "       -5.97375434e+01  +0.j        , -6.07109590e+01  +0.j        ,\n",
       "       -6.17043574e+01  +0.j        , -6.27183691e+01  +0.j        ,\n",
       "       -6.37536516e+01  +0.j        , -6.48108910e+01  +0.j        ,\n",
       "       -6.58908033e+01  +0.j        , -6.69941358e+01  +0.j        ,\n",
       "       -6.81216699e+01  +0.j        , -6.92742220e+01  +0.j        ,\n",
       "       -7.04526459e+01  +0.j        , -7.16578351e+01  +0.j        ,\n",
       "       -7.28907246e+01  +0.j        , -7.41522942e+01  +0.j        ,\n",
       "       -7.54435703e+01  +0.j        , -7.67656293e+01  +0.j        ,\n",
       "       -7.81196005e+01  +0.j        , -7.95066693e+01  +0.j        ,\n",
       "       -8.09280807e+01  +0.j        , -8.23851435e+01  +0.j        ,\n",
       "       -8.38792337e+01  +0.j        , -8.54117996e+01  +0.j        ,\n",
       "       -8.69843658e+01  +0.j        , -8.85985410e+01  +0.j        ,\n",
       "       -9.02560155e+01  +0.j        , -9.19585782e+01  +0.j        ,\n",
       "       -9.37081164e+01  +0.j        , -9.55066238e+01  +0.j        ,\n",
       "       -9.73562085e+01  +0.j        , -9.92591012e+01  +0.j        ,\n",
       "       -1.01217664e+02  +0.j        , -1.03234400e+02  +0.j        ,\n",
       "       -1.05311964e+02  +0.j        , -1.07453174e+02  +0.j        ,\n",
       "       -1.09661023e+02  +0.j        , -1.11938694e+02  +0.j        ,\n",
       "       -1.14289573e+02  +0.j        , -1.16717267e+02  +0.j        ,\n",
       "       -1.19225619e+02 -21.28057087j, -1.21818731e+02 -22.04425968j,\n",
       "       -1.24500981e+02 -22.85103276j, -1.27277048e+02 -23.70425118j,\n",
       "       -1.30151937e+02 -24.60760276j, -1.33131007e+02 -25.56516249j,\n",
       "       -1.36220000e+02 -26.58142725j, -1.39425071e+02 -27.66137346j,\n",
       "       -1.42752830e+02 -28.81051985j, -1.46210374e+02 -30.03499915j,\n",
       "       -1.49805332e+02 -31.34164311j, -1.53545912e+02 -32.73807911j,\n",
       "       -1.57440944e+02 -34.23284374j, -1.61499941e+02 -35.83551587j,\n",
       "       -1.65733147e+02 -37.55687141j, -1.70151597e+02 -39.40906651j,\n",
       "       -1.74767180e+02 -41.40585307j, -1.79592696e+02 -43.56283626j,\n",
       "       -1.84641918e+02 -45.89776802j, -1.89929645e+02 -48.43092189j,\n",
       "       -1.95471749e+02 -51.18551535j, -2.01285199e+02 -54.18822796j,\n",
       "       -2.07388065e+02 -57.46982448j, -2.13799479e+02 -61.06590328j,\n",
       "       -2.20539526e+02 -65.0178023j , -2.27629051e+02 -69.37369568j,\n",
       "       -2.35089316e+02 -74.18992316j, -2.42941463e+02 -79.53260156j,\n",
       "       -2.51205669e+02 -85.47957548j, -2.59899885e+02 -92.12277011j,\n",
       "       -2.69037934e+02 -99.57100712j, -2.78626730e+02-107.95333635j,\n",
       "       -2.88662188e+02-117.42290044j, -2.99123304e+02-128.16124795j,\n",
       "       -3.09963614e+02-140.38287863j, -3.21099019e+02-154.33944556j,\n",
       "       -3.32390661e+02-170.3224917j , -3.43621331e+02-188.662584j  ,\n",
       "       -3.54464127e+02-209.72115887j, -3.64443015e+02-233.86896289j,\n",
       "       -3.72888159e+02-261.44206497j, -3.78895323e+02-292.66383642j,\n",
       "       -3.81310513e+02-327.52262455j, -3.78776759e+02-365.60644504j,\n",
       "       -3.69890943e+02-405.92648754j, -3.53501986e+02-446.81131028j,\n",
       "       -3.29110077e+02-485.99369823j, -2.97209794e+02-520.97636195j,\n",
       "       -2.59354521e+02-549.60574529j, -2.17831084e+02-570.5966504j ,\n",
       "       -1.75085652e+02-583.73567071j, -1.33198158e+02-589.70469233j,\n",
       "       -9.36137060e+01-589.69715524j, -5.71361519e+01-585.04665945j,\n",
       "       -2.40685104e+01-576.98413801j,  5.61369624e+00-566.52900345j,\n",
       "        3.21172483e+01-554.47023374j,  5.57308138e+01-541.39217613j,\n",
       "        7.67639747e+01-527.71515425j,  9.55143902e+01-513.73556953j,\n",
       "        1.12252540e+02-499.65959395j,  1.27216738e+02-485.62924052j,\n",
       "        1.40613458e+02-471.74150248j,  1.52620060e+02-458.06215151j,\n",
       "        1.63388598e+02-444.63541158j,  1.73049615e+02-431.49055328j,\n",
       "        1.81715456e+02-418.64659305j,  1.89483542e+02-406.11549923j,\n",
       "        1.96438785e+02-393.90411872j,  2.02655568e+02-382.01588974j,\n",
       "        2.08199787e+02-370.45182287j,  2.13130022e+02-359.21085425j,\n",
       "        2.17498488e+02-348.2907309j ,  2.21352446e+02-337.68828471j,\n",
       "        2.24734613e+02-327.39919531j,  2.27683471e+02-317.41871259j,\n",
       "        2.30234449e+02-307.74178438j,  2.32420014e+02-298.36248902j,\n",
       "        2.34269471e+02-289.27471357j,  2.35810090e+02-280.47247645j,\n",
       "        2.37067228e+02-271.94904918j,  2.38063673e+02-263.69748991j,\n",
       "        2.38820634e+02-255.71134127j,  2.39358205e+02-247.98363434j,\n",
       "        2.39694415e+02-240.50696377j,  2.39845742e+02-233.27462148j,\n",
       "        2.39828171e+02-226.27981799j,  2.39656189e+02-219.51506635j,\n",
       "        2.39342604e+02-212.97348636j,  2.38899940e+02-206.64868456j,\n",
       "        2.38340026e+02-200.53352454j,  2.37672936e+02-194.62101707j,\n",
       "        2.36908256e+02-188.90512886j,  2.36055579e+02-183.37946424j,\n",
       "        2.35123125e+02-178.03714449j,  2.34118074e+02-172.87225842j,\n",
       "        2.33047947e+02-167.87927763j,  2.31919682e+02-163.05185321j,\n",
       "        2.30739062e+02-158.38404639j,  2.29510801e+02-153.87099031j,\n",
       "        2.28241519e+02-149.50720174j,  2.26935555e+02-145.28692104j,\n",
       "        2.25596777e+02-141.2053844j ,  2.24229663e+02-137.25819001j,\n",
       "        2.22838355e+02-133.44011801j,  2.21425756e+02-129.74631745j,\n",
       "        2.19994883e+02-126.17297478j,  2.18549293e+02-122.71588028j,\n",
       "        2.17091621e+02-119.37028776j,  2.15623757e+02-116.13240784j,\n",
       "        2.14148257e+02-112.99896362j,  2.12668039e+02-109.96873256j,\n",
       "        2.11183602e+02-107.02921186j,  2.09697351e+02-104.18599008j,\n",
       "        2.08211122e+02-101.43317591j,  2.06726555e+02 -98.76699143j,\n",
       "        2.05244412e+02 -96.18434818j,  2.03765949e+02 -93.68283116j,\n",
       "        2.02292845e+02 -91.25950292j,  2.00825997e+02 -88.91107495j,\n",
       "        1.99365764e+02 -86.63518356j,  1.97913352e+02 -84.42975897j,\n",
       "        1.96469920e+02 -82.29193035j,  1.95035732e+02 -80.21904292j,\n",
       "        1.93611133e+02 -78.20923961j,  1.92197182e+02 -76.26069049j,\n",
       "        1.90794519e+02 -74.37064618j,  1.89403072e+02 -72.5370694j ,\n",
       "        1.88023235e+02 -70.75855539j,  1.86655874e+02 -69.03316637j,\n",
       "        1.85301177e+02 -67.35858438j,  1.83958939e+02 -65.73325531j,\n",
       "        1.82629623e+02 -64.15595338j,  1.81313835e+02 -62.62479839j,\n",
       "        1.80011431e+02 -61.1378802j ,  1.78722228e+02 -59.69405592j,\n",
       "        1.77446713e+02 -58.29216722j,  1.76185210e+02 -56.93043804j,\n",
       "        1.74937375e+02 -55.60734503j,  1.73703115e+02 -54.32203805j,\n",
       "        1.72482882e+02 -53.07336726j,  1.71276744e+02 -51.85971485j,\n",
       "        1.70084269e+02 -50.67992613j,  1.68905467e+02 -49.53331416j,\n",
       "        1.67740714e+02 -48.41874037j,  1.66589853e+02 -47.33478299j,\n",
       "        1.65452454e+02 -46.28059803j,  1.64328629e+02 -45.25558581j,\n",
       "        1.63218633e+02 -44.25861898j,  1.62122147e+02 -43.28850305j,\n",
       "        1.61038803e+02 -42.34463495j,  1.59968773e+02 -41.42644006j,\n",
       "        1.58912193e+02 -40.53283541j,  1.57868551e+02 -39.66285253j,\n",
       "        1.56837804e+02 -38.81606804j,  1.55819921e+02 -37.99188913j,\n",
       "        1.54814964e+02 -37.18931732j,  1.53822483e+02 -36.40759626j,\n",
       "        1.52842290e+02 -35.64640903j,  1.51874576e+02 -34.90516561j,\n",
       "        1.50919212e+02 -34.18293559j,  1.49975747e+02 -33.4791696j ,\n",
       "        1.49044087e+02 -32.79369527j,  1.48124384e+02 -32.1256541j ,\n",
       "        1.47216416e+02 -31.47448596j,  1.46319766e+02 -30.83970709j,\n",
       "        1.45434413e+02 -30.22109434j,  1.44560467e+02 -29.61803649j,\n",
       "        1.43697623e+02 -29.02984153j,  1.42845525e+02 -28.45623447j,\n",
       "        1.42004206e+02 -27.89699476j,  1.41173713e+02 -27.35152277j,\n",
       "        1.40353708e+02 -26.81924597j,  1.39543893e+02 -26.29998056j,\n",
       "        1.38744335e+02 -25.79349964j,  1.37955024e+02 -25.29922501j,\n",
       "        1.37175595e+02 -24.81669608j,  1.36405820e+02 -24.3457983j ,\n",
       "        1.35645786e+02 -23.88628441j,  1.34895420e+02 -23.43761299j,\n",
       "        1.34154370e+02 -22.99942915j,  1.33422443e+02 -22.57165703j,\n",
       "        1.32699756e+02 -22.15403463j,  1.31986173e+02 -21.74606227j,\n",
       "        1.31281353e+02 -21.34747246j,  1.30585183e+02 -20.95822595j,\n",
       "        1.29897740e+02 -20.57803292j,  1.29218867e+02 -20.20644871j,\n",
       "        1.28548238e+02 -19.84328776j,  1.27885783e+02 -19.4885073j ,\n",
       "        1.27231589e+02 -19.14181959j,  1.26585439e+02 -18.80283005j,\n",
       "        1.25947051e+02 -18.47141409j,  1.25316400e+02 -18.14753106j,\n",
       "        1.24693528e+02 -17.83088495j,  1.24078213e+02 -17.52114155j,\n",
       "        1.23470200e+02 -17.21822344j,  1.22869504e+02 -16.92208238j,\n",
       "        1.22276168e+02 -16.63242663j,  1.21689913e+02 -16.34896878j,\n",
       "        1.21110541e+02 -16.07167479j])"
      ]
     },
     "execution_count": 105,
     "metadata": {},
     "output_type": "execute_result"
    }
   ],
   "source": [
    "(TMss_iter[0][0][0] + TMss_iter[0][0][1])[:, 0]"
   ]
  },
  {
   "cell_type": "markdown",
   "id": "a29e4e7d-515b-4024-80a0-b82a147d3870",
   "metadata": {},
   "source": [
    "## Misc"
   ]
  },
  {
   "cell_type": "code",
   "execution_count": null,
   "id": "11701ed3-0b9e-43ee-af5f-e4e812085fda",
   "metadata": {},
   "outputs": [],
   "source": [
    "plt.plot(qrange, omKs[:, 0])\n",
    "plt.plot(qrange, sqrt(mQ**2 + qrange**2), ls='--')"
   ]
  },
  {
   "cell_type": "code",
   "execution_count": null,
   "id": "fa1991ca-7bab-4d1d-9bdb-ad85aea2d3ac",
   "metadata": {},
   "outputs": [],
   "source": [
    "plt.plot(qrange, ress[:, 0])\n",
    "plt.plot(qrange, imss[:, 0])"
   ]
  },
  {
   "cell_type": "code",
   "execution_count": 81,
   "id": "deb2be7e-1ca6-41e6-abb9-23d917105514",
   "metadata": {},
   "outputs": [
    {
     "ename": "NameError",
     "evalue": "name 'df' is not defined",
     "output_type": "error",
     "traceback": [
      "\u001b[0;31m---------------------------------------------------------------------------\u001b[0m",
      "\u001b[0;31mNameError\u001b[0m                                 Traceback (most recent call last)",
      "Cell \u001b[0;32mIn[81], line 1\u001b[0m\n\u001b[0;32m----> 1\u001b[0m \u001b[43mdf\u001b[49m\u001b[38;5;241m.\u001b[39mclose()\n",
      "\u001b[0;31mNameError\u001b[0m: name 'df' is not defined"
     ]
    }
   ],
   "source": [
    "df.close()"
   ]
  },
  {
   "cell_type": "code",
   "execution_count": 166,
   "id": "54526745-4ab4-46a6-8148-3b4c5b74b47a",
   "metadata": {},
   "outputs": [],
   "source": [
    "__ = channels_QQ.get_T()"
   ]
  },
  {
   "cell_type": "code",
   "execution_count": 198,
   "id": "aa4e32ad-79dd-4724-8b80-d610c3b5f8d2",
   "metadata": {},
   "outputs": [
    {
     "ename": "AttributeError",
     "evalue": "'Channel' object has no attribute 'TM'",
     "output_type": "error",
     "traceback": [
      "\u001b[0;31m---------------------------------------------------------------------------\u001b[0m",
      "\u001b[0;31mAttributeError\u001b[0m                            Traceback (most recent call last)",
      "Cell \u001b[0;32mIn[198], line 1\u001b[0m\n\u001b[0;32m----> 1\u001b[0m \u001b[43mchannels_QA\u001b[49m\u001b[43m[\u001b[49m\u001b[38;5;124;43m'\u001b[39;49m\u001b[38;5;124;43mqa1\u001b[39;49m\u001b[38;5;124;43m'\u001b[39;49m\u001b[43m]\u001b[49m\u001b[38;5;241;43m.\u001b[39;49m\u001b[43mchs\u001b[49m\u001b[43m[\u001b[49m\u001b[38;5;241;43m0\u001b[39;49m\u001b[43m]\u001b[49m\u001b[38;5;241;43m.\u001b[39;49m\u001b[43mTM\u001b[49m\n",
      "\u001b[0;31mAttributeError\u001b[0m: 'Channel' object has no attribute 'TM'"
     ]
    }
   ],
   "source": [
    "channels_QA['qa1'].chs[0].TM"
   ]
  },
  {
   "cell_type": "code",
   "execution_count": 171,
   "id": "82ec42c8-d5d8-4fe7-8cd4-f5853866fd06",
   "metadata": {},
   "outputs": [
    {
     "data": {
      "text/plain": [
       "[array([[ 0.01086167+7.38442635e-05j,  0.01086167+7.38442635e-05j,\n",
       "          0.01086167+7.38442635e-05j, ...,  0.01086167+7.38442635e-05j,\n",
       "          0.01086167+7.38442635e-05j,  0.01086167+7.38442635e-05j],\n",
       "        [ 0.01093981+7.49591713e-05j,  0.01093981+7.49591713e-05j,\n",
       "          0.01093981+7.49591713e-05j, ...,  0.01093981+7.49591713e-05j,\n",
       "          0.01093981+7.49591713e-05j,  0.01093981+7.49591713e-05j],\n",
       "        [ 0.01101909+7.60996023e-05j,  0.01101909+7.60996023e-05j,\n",
       "          0.01101909+7.60996023e-05j, ...,  0.01101909+7.60996023e-05j,\n",
       "          0.01101909+7.60996023e-05j,  0.01101909+7.60996023e-05j],\n",
       "        ...,\n",
       "        [-0.02388578+1.05375777e-03j, -0.02388578+1.05375777e-03j,\n",
       "         -0.02388578+1.05375777e-03j, ..., -0.02388578+1.05375777e-03j,\n",
       "         -0.02388578+1.05375777e-03j, -0.02388578+1.05375777e-03j],\n",
       "        [-0.02417729+6.12164352e-02j, -0.02417729+6.12164352e-02j,\n",
       "         -0.02417729+6.12164352e-02j, ..., -0.02417729+6.12164352e-02j,\n",
       "         -0.02417729+6.12164352e-02j, -0.02417729+6.12164352e-02j],\n",
       "        [-0.03173733+1.00602665e-03j, -0.03173733+1.00602665e-03j,\n",
       "         -0.03173733+1.00602665e-03j, ..., -0.03173733+1.00602665e-03j,\n",
       "         -0.03173733+1.00602665e-03j, -0.03173733+1.00602665e-03j]])]"
      ]
     },
     "execution_count": 171,
     "metadata": {},
     "output_type": "execute_result"
    }
   ],
   "source": [
    "channels_QQ['qq3'].chs[1].XS"
   ]
  },
  {
   "cell_type": "code",
   "execution_count": 145,
   "id": "18cabb42-bf0f-404a-b4b5-4afdd6a6e8ac",
   "metadata": {},
   "outputs": [
    {
     "data": {
      "text/plain": [
       "([0.7838913525076949, 0.7838913525076949],\n",
       " 0.0028663849170295352,\n",
       " -0.024985880074876093)"
      ]
     },
     "execution_count": 145,
     "metadata": {},
     "output_type": "execute_result"
    }
   ],
   "source": [
    "get_xs(0.5)"
   ]
  },
  {
   "cell_type": "code",
   "execution_count": 144,
   "id": "d0850434-5df0-42ae-a5dd-8f7ce149be4f",
   "metadata": {},
   "outputs": [
    {
     "data": {
      "text/plain": [
       "[([0.6025900959492952, 0.6025900959492952],\n",
       "  0.0025900959492953088,\n",
       "  -0.03864067667713826),\n",
       " ([0.6108928610053742, 0.6108928610053742],\n",
       "  0.002616607975552297,\n",
       "  -0.03787862660005953),\n",
       " ([0.6351390728942041, 0.6351390728942041],\n",
       "  0.002683540860528276,\n",
       "  -0.03577265477068179),\n",
       " ([0.6735828669580936, 0.6735828669580936],\n",
       "  0.002762473708156587,\n",
       "  -0.032748188023287945),\n",
       " ([0.7239348796933783, 0.7239348796933783],\n",
       "  0.002824624600580432,\n",
       "  -0.029288842354522292),\n",
       " ([0.7838767782282257, 0.7838767782282257],\n",
       "  0.002851810637560206,\n",
       "  -0.025779899050599978),\n",
       " ([0.8513662144254537, 0.8513662144254537],\n",
       "  0.002838077001596541,\n",
       "  -0.02246453320023873),\n",
       " ([0.9247406009668706, 0.9247406009668706],\n",
       "  0.0027861552375818177,\n",
       "  -0.01946486593947097),\n",
       " ([1.0027031348404065, 1.0027031348404065],\n",
       "  0.0027031348404064764,\n",
       "  -0.016822020951578424),\n",
       " ([1.084262707059762, 1.084262707059762],\n",
       "  0.0025973244205653523,\n",
       "  -0.014530762671229608),\n",
       " ([1.168666882698235, 1.168666882698235],\n",
       "  0.0024765037291749705,\n",
       "  -0.012562946181924411),\n",
       " ([1.2553435821815153, 1.2553435821815153],\n",
       "  0.0023471735673483564,\n",
       "  -0.010881454651167521),\n",
       " ([1.3438551788763475, 1.3438551788763475],\n",
       "  0.0022143923764737805,\n",
       "  -0.009447781485899337),\n",
       " ([1.4338640002662328, 1.4338640002662328],\n",
       "  0.0020818939385973457,\n",
       "  -0.008225757955614477),\n",
       " ([1.5251069300512912, 1.5251069300512912],\n",
       "  0.001952308878509351,\n",
       "  -0.007183115337627338),\n",
       " ([1.6173768425573112, 1.6173768425573112],\n",
       "  0.0018274004169601672,\n",
       "  -0.006291897744177918),\n",
       " ([1.710509024419548, 1.710509024419548],\n",
       "  0.0017082753560415322,\n",
       "  -0.005528303044756302),\n",
       " ([1.8043711972237555, 1.8043711972237555],\n",
       "  0.0015955594917607821,\n",
       "  -0.004872275091333724),\n",
       " ([1.8988561295432385, 1.8988561295432385],\n",
       "  0.001489533442211014,\n",
       "  -0.004307011504434945),\n",
       " ([1.99387612189486, 1.99387612189486],\n",
       "  0.001390237377732421,\n",
       "  -0.003818477351899652),\n",
       " ([2.0893588488242303, 2.0893588488242303],\n",
       "  0.0012975470421203307,\n",
       "  -0.0033949599858299866),\n",
       " ([2.1852441972618726, 2.1852441972618726],\n",
       "  0.0012112304777171616,\n",
       "  -0.0030266819002348075),\n",
       " ([2.2814818393262253, 2.2814818393262253],\n",
       "  0.001130989127949257,\n",
       "  -0.0027054705235957472),\n",
       " ([2.378029351798834, 2.378029351798834],\n",
       "  0.0010564869978909558,\n",
       "  -0.0024244815049330563),\n",
       " ([2.474847310073367, 2.474847310073367],\n",
       "  0.0009839347027702804,\n",
       "  -0.0021827285400380135),\n",
       " ([2.571912450405689, 2.571912450405689],\n",
       "  0.0009204239692007843,\n",
       "  -0.001965212353264599),\n",
       " ([2.669194301624865, 2.669194301624865],\n",
       "  0.0008614887995979906,\n",
       "  -0.0017733522417423533),\n",
       " ([2.766670146181595, 2.766670146181595],\n",
       "  0.0008068089937282312,\n",
       "  -0.0016036786334779197),\n",
       " ([2.8643202897713698, 2.8643202897713698],\n",
       "  0.0007560771160987006,\n",
       "  -0.0014532460449836145),\n",
       " ([2.9621275800415234, 2.9621275800415234],\n",
       "  0.0007090010493533578,\n",
       "  -0.0013195477578368533),\n",
       " ([3.0600770137583857, 3.0600770137583857],\n",
       "  0.0006653056027148543,\n",
       "  -0.0012004426867185567),\n",
       " ([3.158155414269024, 3.158155414269024],\n",
       "  0.0006247334996350581,\n",
       "  -0.001094097839719839),\n",
       " ([3.256351164557579, 3.256351164557579],\n",
       "  0.0005870453376377522,\n",
       "  -0.0009989390495561811),\n",
       " ([3.35465398464844, 3.35465398464844],\n",
       "  0.0005520183987551835,\n",
       "  -0.0009136105032220305),\n",
       " ([3.453054747701716, 3.453054747701716],\n",
       "  0.0005194473753018828,\n",
       "  -0.0008369416691593433),\n",
       " ([3.5515453231868723, 3.5515453231868723],\n",
       "  0.0004891422739318565,\n",
       "  -0.0007679189901482812),\n",
       " ([3.6501184465177263, 3.6501184465177263],\n",
       "  0.00046092833879479716,\n",
       "  -0.0007056629668037284),\n",
       " ([3.7487676072808362, 3.7487676072808362],\n",
       "  0.0004346444825736515,\n",
       "  -0.000649407785401209),\n",
       " ([3.847486954976997, 3.847486954976997],\n",
       "  0.00041014264272785185,\n",
       "  -0.0005984861030895457),\n",
       " ([3.9462712185311037, 3.9462712185311037],\n",
       "  0.0003872871413317928,\n",
       "  -0.0005523138518656239),\n",
       " ([4.045115635767959, 4.045115635767959],\n",
       "  0.0003659525366224933,\n",
       "  -0.0005103795190844851),\n",
       " ([4.14401589542114, 4.14401589542114],\n",
       "  0.000346024401007778,\n",
       "  -0.00047223375555356314),\n",
       " ([4.242968084099845, 4.242968084099845],\n",
       "  0.00032739698055968676,\n",
       "  -0.00043748113164013877),\n",
       " ([4.34196864705475, 4.34196864705475],\n",
       "  0.00030997783626868214,\n",
       "  -0.00040577281413647876),\n",
       " ([4.4410143275870695, 4.4410143275870695],\n",
       "  0.0002936653521656995,\n",
       "  -0.00037680055018593267),\n",
       " ([4.540102175713377, 4.540102175713377],\n",
       "  0.0002783905869098135,\n",
       "  -0.0003502915925038674),\n",
       " ([4.639229475608232, 4.639229475608232],\n",
       "  0.000264073710951158,\n",
       "  -0.00032600356697560893),\n",
       " ([4.738393742034163, 4.738393742034163],\n",
       "  0.0002506458413095027,\n",
       "  -0.0003037214783399012),\n",
       " ([4.837592692482636, 4.837592692482636],\n",
       "  0.00023804350350497766,\n",
       "  -0.00028325363872062567),\n",
       " ([4.936824226662532, 4.936824226662532],\n",
       "  0.00022620778353828465,\n",
       "  -0.00026442918786527694),\n",
       " ([5.036086409554903, 5.036086409554903],\n",
       "  0.00021508474923389133,\n",
       "  -0.00024709545872680596)]"
      ]
     },
     "execution_count": 144,
     "metadata": {},
     "output_type": "execute_result"
    }
   ],
   "source": [
    "OUT"
   ]
  },
  {
   "cell_type": "code",
   "execution_count": 143,
   "id": "78727143-43ab-4a35-b1a4-45998e11ee9c",
   "metadata": {},
   "outputs": [
    {
     "data": {
      "text/plain": [
       "(51,)"
      ]
     },
     "execution_count": 143,
     "metadata": {},
     "output_type": "execute_result"
    }
   ],
   "source": [
    "imss.shape"
   ]
  },
  {
   "cell_type": "code",
   "execution_count": 27,
   "id": "f4af04f7-26d3-4984-b5b2-bc9fb7389897",
   "metadata": {},
   "outputs": [
    {
     "data": {
      "text/plain": [
       "[<matplotlib.lines.Line2D at 0x7fc01f10a610>]"
      ]
     },
     "execution_count": 27,
     "metadata": {},
     "output_type": "execute_result"
    },
    {
     "data": {
      "image/png": "[encoded data removed]",
      "text/plain": [
       "<Figure size 600x400 with 1 Axes>"
      ]
     },
     "metadata": {},
     "output_type": "display_data"
    }
   ],
   "source": [
    "plt.plot(erange, imag(channels_QQ['qq6'].chs[0].TM)[:, 0])\n",
    "plt.plot(erange, real(channels_QQ['qq6'].chs[0].TM)[:, 0])"
   ]
  },
  {
   "cell_type": "code",
   "execution_count": 28,
   "id": "fcaa8982-57c8-4130-8804-e3cb77ba2625",
   "metadata": {},
   "outputs": [
    {
     "data": {
      "image/png": "[encoded data removed]",
      "text/plain": [
       "<Figure size 600x400 with 1 Axes>"
      ]
     },
     "metadata": {},
     "output_type": "display_data"
    }
   ],
   "source": [
    "lQ, = plt.plot(qrange, omKs[:, 0], ls='--', label='q')\n",
    "lA, = plt.plot(qrange, omKs[:, 1], ls=':', label=r'$\\bar q$')\n",
    "plt.plot(qrange, sqrt(mQ**2 + qrange**2), ls=':', lw=1.5, c='black', label='vac')\n",
    "\n",
    "plt.legend()\n",
    "\n",
    "plt.xlim(0, 2)\n",
    "plt.ylim(0, 2.5)\n",
    "plt.title(fr'$\\mu_q = {mu/T}$')\n",
    "\n",
    "suff = ''\n",
    "if subtr:\n",
    "    suff = '_subtr'\n",
    "\n",
    "# plt.savefig('omk_T=%.2f_mu=%.2f%s.pdf'%(T, mu/T, suff), bbox_inches='tight')"
   ]
  },
  {
   "cell_type": "code",
   "execution_count": 29,
   "id": "75724fbe-eae7-49af-a61f-69e50c830035",
   "metadata": {},
   "outputs": [
    {
     "data": {
      "text/plain": [
       "Text(0.5, 0, 'k [GeV]')"
      ]
     },
     "execution_count": 29,
     "metadata": {},
     "output_type": "execute_result"
    },
    {
     "data": {
      "image/png": "[encoded data removed]",
      "text/plain": [
       "<Figure size 600x400 with 1 Axes>"
      ]
     },
     "metadata": {},
     "output_type": "display_data"
    }
   ],
   "source": [
    "lQ, = plt.plot(qrange, imss[:, 0], ls='-')\n",
    "lQre, = plt.plot(qrange, ress[:, 0], ls=':', c=lQ.get_c())\n",
    "\n",
    "lA, = plt.plot(qrange, imss[:, 1], ls='-')\n",
    "plt.plot(qrange, ress[:, 1], ls=':', c=lA.get_c())\n",
    "\n",
    "leg = plt.legend([lQ, lQre], ['Im', 'Re'], loc='center right')\n",
    "\n",
    "leg2 = plt.legend([lQ, lA], ['q', r'$\\bar q$'])\n",
    "\n",
    "plt.gca().add_artist(leg)\n",
    "\n",
    "# plt.plot(qrange, sqrt(mQ**2 + qrange**2))\n",
    "\n",
    "# plt.xlim(0, 2)\n",
    "# plt.ylim(0, 2.5)\n",
    "plt.ylabel(r'$\\Sigma(k)$')\n",
    "plt.xlabel('k [GeV]')\n",
    "\n",
    "# plt.savefig('Sk_T=%.2f_mu=%.2f%s.pdf'%(T, mu/T, suff), bbox_inches='tight')\n"
   ]
  },
  {
   "cell_type": "code",
   "execution_count": 30,
   "id": "ad477815-4aef-4433-a6ff-17e6cdd28cb6",
   "metadata": {},
   "outputs": [
    {
     "data": {
      "text/plain": [
       "(0.0, 3.0)"
      ]
     },
     "execution_count": 30,
     "metadata": {},
     "output_type": "execute_result"
    },
    {
     "data": {
      "image/png": "[encoded data removed]",
      "text/plain": [
       "<Figure size 600x400 with 1 Axes>"
      ]
     },
     "metadata": {},
     "output_type": "display_data"
    }
   ],
   "source": [
    "lq, = plt.plot(erange, imag(channels_QQ.get_T())[:, 0], label='qq')\n",
    "la, = plt.plot(erange, imag(channels_AA.get_T())[:, 0], label='\\bar q q')\n",
    "\n",
    "lqre, = plt.plot(erange, real(channels_QQ.get_T())[:, 0], c=lq.get_c(), ls='--')\n",
    "plt.plot(erange, real(channels_AA.get_T())[:, 0], c=la.get_c(), ls='--')\n",
    "\n",
    "plt.ylabel(r'$T_{qq}$ [GeV$^{-2}$]')\n",
    "plt.xlabel(r'E [GeV]')\n",
    "\n",
    "leg = plt.legend([lq, lqre], ['Im', 'Re'], loc='center right')\n",
    "\n",
    "leg2 = plt.legend([lq, la], ['qq', r'$\\bar q \\bar q$'], loc='center left')\n",
    "plt.gca().add_artist(leg)\n",
    "\n",
    "plt.xlim(0, 3)\n",
    "\n",
    "# plt.savefig('T_qq_T=%.2f_mu=%.2f%s.pdf'%(T, mu/T, suff), bbox_inches='tight')\n"
   ]
  },
  {
   "cell_type": "code",
   "execution_count": 32,
   "id": "5a60ac3a-5028-4570-bc47-c70f5bdcdd92",
   "metadata": {},
   "outputs": [
    {
     "data": {
      "text/plain": [
       "(0.0, 3.0)"
      ]
     },
     "execution_count": 32,
     "metadata": {},
     "output_type": "execute_result"
    },
    {
     "data": {
      "image/png": "[encoded data removed]",
      "text/plain": [
       "<Figure size 600x400 with 1 Axes>"
      ]
     },
     "metadata": {},
     "output_type": "display_data"
    }
   ],
   "source": [
    "plt.plot(erange, imag(channels_QA.get_T())[:, 0], label=r'$\\bar qq$')\n",
    "# la, = plt.plot(erange, imag(channels_AA.get_T())[:, 0], label='\\bar q q')\n",
    "\n",
    "plt.plot(erange, real(channels_QA.get_T())[:, 0], c=lq.get_c(), ls='--')\n",
    "# plt.plot(erange, real(channels_AA.get_T())[:, 0], c=la.get_c(), ls='--')\n",
    "\n",
    "plt.ylabel(r'$T_{\\bar qq}$ [GeV$^{-2}$]')\n",
    "plt.xlabel(r'E [GeV]')\n",
    "\n",
    "# leg = plt.legend([lq, lqre], ['Im', 'Re'], loc='center right')\n",
    "\n",
    "# leg2 = plt.legend([lq, la], ['qq', r'$\\bar q \\bar q$'], loc='center left')\n",
    "plt.legend()\n",
    "# plt.gca().add_artist(leg)\n",
    "\n",
    "plt.xlim(0, 3)\n",
    "# plt.savefig('T_qa_T=%.2f_mu=%.2f%s.pdf'%(T, mu/T, suff), bbox_inches='tight')\n"
   ]
  },
  {
   "cell_type": "code",
   "execution_count": 33,
   "id": "4b6aca25-191b-45c1-ac9b-3875cb738d9e",
   "metadata": {},
   "outputs": [
    {
     "data": {
      "text/plain": [
       "(0.0, 3.0)"
      ]
     },
     "execution_count": 33,
     "metadata": {},
     "output_type": "execute_result"
    },
    {
     "data": {
      "image/png": "[encoded data removed]",
      "text/plain": [
       "<Figure size 600x400 with 1 Axes>"
      ]
     },
     "metadata": {},
     "output_type": "display_data"
    }
   ],
   "source": [
    "lq, = plt.plot(erange, imag(G2_QQ)[:, 0], label='qq')\n",
    "la, = plt.plot(erange, imag(G2_AA)[:, 0], label='\\bar q q')\n",
    "\n",
    "lqre, = plt.plot(erange, real(G2_QQ)[:, 0], c=lq.get_c(), ls='--')\n",
    "plt.plot(erange, real(G2_AA)[:, 0], c=la.get_c(), ls='--')\n",
    "\n",
    "plt.ylabel(r'$G_{2}$ [GeV$^{-1}$]')\n",
    "plt.xlabel(r'E [GeV]')\n",
    "\n",
    "leg = plt.legend([lq, lqre], ['Im', 'Re'], loc='center right')\n",
    "\n",
    "leg2 = plt.legend([lq, la], ['qq', r'$\\bar q \\bar q$'], loc='lower right')\n",
    "plt.gca().add_artist(leg)\n",
    "\n",
    "plt.xlim(0, 3)\n",
    "\n",
    "# plt.savefig('G2_qq_T=%.2f_mu=%.2f%s.pdf'%(T, mu/T, suff), bbox_inches='tight')\n"
   ]
  },
  {
   "cell_type": "code",
   "execution_count": null,
   "id": "dc5c5eef-8a5f-429a-83c5-80acd2987000",
   "metadata": {},
   "outputs": [],
   "source": []
  },
  {
   "cell_type": "code",
   "execution_count": null,
   "id": "79e70d50-6b10-4d8d-b7ec-307d2e74e541",
   "metadata": {},
   "outputs": [],
   "source": []
  }
 ],
 "metadata": {
  "kernelspec": {
   "display_name": "Python 3 (ipykernel)",
   "language": "python",
   "name": "python3"
  },
  "language_info": {
   "codemirror_mode": {
    "name": "ipython",
    "version": 3
   },
   "file_extension": ".py",
   "mimetype": "text/x-python",
   "name": "python",
   "nbconvert_exporter": "python",
   "pygments_lexer": "ipython3",
   "version": "3.11.7"
  }
 },
 "nbformat": 4,
 "nbformat_minor": 5
}
