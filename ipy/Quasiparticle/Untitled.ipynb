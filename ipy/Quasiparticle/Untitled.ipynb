{
 "cells": [
  {
   "cell_type": "code",
   "execution_count": 2,
   "id": "7b55010d-397a-493e-a23c-f5c12780e776",
   "metadata": {},
   "outputs": [],
   "source": [
    "from syntax_sugar import END, pipe\n",
    "from syntax_sugar import process_syntax as p\n",
    "from syntax_sugar import thread_syntax as t\n",
    "NTHR = 16\n",
    "import os\n",
    "from os.path import join"
   ]
  },
  {
   "cell_type": "code",
   "execution_count": 3,
   "id": "89120e57-74b6-4d65-a01e-941635aa74da",
   "metadata": {},
   "outputs": [],
   "source": [
    "from scipy.integrate import quad\n",
    "\n",
    "import TMQGP as tm\n",
    "from numpy import *\n",
    "\n",
    "import QuarkTM\n",
    "from QuarkTM import Channel, ChannelGroup, ChannelL, Particle\n",
    "\n",
    "import matplotlib\n",
    "matplotlib.style.use('publication23')\n",
    "\n",
    "mQ = 0.6\n",
    "\n",
    "\n",
    "qrange = linspace(0, 5, 151)\n",
    "erange = linspace(-5, 5, 401)\n",
    "eps = 5e-2\n",
    "# pt = QuarkTM.Particle(mQ, qrange, erange, eps=5e-2)\n",
    "\n",
    "G = 6.5\n",
    "L = 0.5\n",
    "screen = 0\n",
    "G1 = 6\n",
    "\n",
    "# ch = QuarkTM.Channel(pt, pt, T, G=8, screen=0, ds=4, da=1, Fa=1)\n",
    "\n",
    "import tqdm\n",
    "\n",
    "from scipy.optimize import minimize\n",
    "\n",
    "params = {'G' : G, 'L' : L, 'screen' : screen}\n",
    "params1 = {'G' : G1, 'L' : L, 'screen' : screen}\n",
    "pss = [params, params1]\n",
    "mu = 0\n",
    "lmax = 1"
   ]
  },
  {
   "cell_type": "code",
   "execution_count": 4,
   "id": "b20865be-8b15-4eb7-843c-49f40a219fda",
   "metadata": {},
   "outputs": [],
   "source": [
    "T = 0.2"
   ]
  },
  {
   "cell_type": "code",
   "execution_count": 5,
   "id": "1410265e-b8ff-4513-813d-c8ad8096cbe4",
   "metadata": {},
   "outputs": [],
   "source": [
    "quark_run = Particle(mQ, qrange, erange, eps=eps, mu=mu)\n",
    "aquark_run = Particle(mQ, qrange, erange, eps=eps, mu=mu)"
   ]
  },
  {
   "cell_type": "code",
   "execution_count": 6,
   "id": "c495507f-e193-41ff-bfaf-5ce82893fbdf",
   "metadata": {},
   "outputs": [],
   "source": [
    "def f(x, T):\n",
    "    return 1/(exp(x/T) + 1)"
   ]
  },
  {
   "cell_type": "code",
   "execution_count": 7,
   "id": "02e473b5-ddcb-4170-9ea7-d87f42dd9c41",
   "metadata": {},
   "outputs": [
    {
     "ename": "NameError",
     "evalue": "name 'omArrs' is not defined",
     "output_type": "error",
     "traceback": [
      "\u001b[0;31m---------------------------------------------------------------------------\u001b[0m",
      "\u001b[0;31mNameError\u001b[0m                                 Traceback (most recent call last)",
      "Cell \u001b[0;32mIn[7], line 1\u001b[0m\n\u001b[0;32m----> 1\u001b[0m G2_QQ \u001b[38;5;241m=\u001b[39m (\u001b[38;5;241m1\u001b[39m \u001b[38;5;241m-\u001b[39m \u001b[38;5;241m2\u001b[39m\u001b[38;5;241m*\u001b[39mf(\u001b[43momArrs\u001b[49m[\u001b[38;5;241m0\u001b[39m], T)) \u001b[38;5;241m/\u001b[39m (eArr \u001b[38;5;241m-\u001b[39m \u001b[38;5;241m2\u001b[39m\u001b[38;5;241m*\u001b[39momArrs[\u001b[38;5;241m0\u001b[39m] \u001b[38;5;241m-\u001b[39m \u001b[38;5;241m1\u001b[39mj\u001b[38;5;241m*\u001b[39m\u001b[38;5;241m2\u001b[39m\u001b[38;5;241m*\u001b[39mImS_K_Arrs[\u001b[38;5;241m0\u001b[39m] \u001b[38;5;241m+\u001b[39m \u001b[38;5;241m2\u001b[39m\u001b[38;5;241m*\u001b[39mmu)\n\u001b[1;32m      2\u001b[0m G2_QA \u001b[38;5;241m=\u001b[39m (\u001b[38;5;241m1\u001b[39m \u001b[38;5;241m-\u001b[39m f(omArrs[\u001b[38;5;241m0\u001b[39m], T) \u001b[38;5;241m-\u001b[39m f(omArrs[\u001b[38;5;241m1\u001b[39m], T)) \u001b[38;5;241m/\u001b[39m (eArr \u001b[38;5;241m-\u001b[39m omArrs[\u001b[38;5;241m0\u001b[39m] \u001b[38;5;241m-\u001b[39m omArrs[\u001b[38;5;241m1\u001b[39m] \u001b[38;5;241m-\u001b[39m \u001b[38;5;241m1\u001b[39mj\u001b[38;5;241m*\u001b[39m(ImS_K_Arrs[\u001b[38;5;241m0\u001b[39m] \u001b[38;5;241m+\u001b[39m ImS_K_Arrs[\u001b[38;5;241m1\u001b[39m]))\n\u001b[1;32m      3\u001b[0m G2_AA \u001b[38;5;241m=\u001b[39m (\u001b[38;5;241m1\u001b[39m \u001b[38;5;241m-\u001b[39m \u001b[38;5;241m2\u001b[39m\u001b[38;5;241m*\u001b[39mf(omArrs[\u001b[38;5;241m1\u001b[39m], T)) \u001b[38;5;241m/\u001b[39m (eArr \u001b[38;5;241m-\u001b[39m \u001b[38;5;241m2\u001b[39m\u001b[38;5;241m*\u001b[39momArrs[\u001b[38;5;241m1\u001b[39m] \u001b[38;5;241m-\u001b[39m \u001b[38;5;241m1\u001b[39mj\u001b[38;5;241m*\u001b[39m\u001b[38;5;241m2\u001b[39m\u001b[38;5;241m*\u001b[39mImS_K_Arrs[\u001b[38;5;241m1\u001b[39m] \u001b[38;5;241m-\u001b[39m \u001b[38;5;241m2\u001b[39m\u001b[38;5;241m*\u001b[39mmu)\n",
      "\u001b[0;31mNameError\u001b[0m: name 'omArrs' is not defined"
     ]
    }
   ],
   "source": [
    "G2_QQ = (1 - 2*f(omArrs[0], T)) / (eArr - 2*omArrs[0] - 1j*2*ImS_K_Arrs[0] + 2*mu)\n",
    "G2_QA = (1 - f(omArrs[0], T) - f(omArrs[1], T)) / (eArr - omArrs[0] - omArrs[1] - 1j*(ImS_K_Arrs[0] + ImS_K_Arrs[1]))\n",
    "G2_AA = (1 - 2*f(omArrs[1], T)) / (eArr - 2*omArrs[1] - 1j*2*ImS_K_Arrs[1] - 2*mu)"
   ]
  },
  {
   "cell_type": "code",
   "execution_count": 7,
   "id": "c8671b73-c924-4d72-b255-16b2cc1776f2",
   "metadata": {},
   "outputs": [
    {
     "ename": "NameError",
     "evalue": "name 'G2_QQ' is not defined",
     "output_type": "error",
     "traceback": [
      "\u001b[0;31m---------------------------------------------------------------------------\u001b[0m",
      "\u001b[0;31mNameError\u001b[0m                                 Traceback (most recent call last)",
      "Cell \u001b[0;32mIn[7], line 5\u001b[0m\n\u001b[1;32m      1\u001b[0m channels_QQ \u001b[38;5;241m=\u001b[39m QuarkTM\u001b[38;5;241m.\u001b[39mChannelGroup(mu0\u001b[38;5;241m=\u001b[39m\u001b[38;5;28;01mFalse\u001b[39;00m)\n\u001b[1;32m      2\u001b[0m channels_QA \u001b[38;5;241m=\u001b[39m QuarkTM\u001b[38;5;241m.\u001b[39mChannelGroup(mu0\u001b[38;5;241m=\u001b[39m\u001b[38;5;28;01mFalse\u001b[39;00m)\n\u001b[1;32m      4\u001b[0m channels_QQ\u001b[38;5;241m.\u001b[39maddChannel(\n\u001b[0;32m----> 5\u001b[0m     QuarkTM\u001b[38;5;241m.\u001b[39mChannelL(\u001b[38;5;124m'\u001b[39m\u001b[38;5;124mqq3\u001b[39m\u001b[38;5;124m'\u001b[39m, lmax, quark_run, quark_run, T, pss, ds\u001b[38;5;241m=\u001b[39m\u001b[38;5;241m4\u001b[39m, da\u001b[38;5;241m=\u001b[39m\u001b[38;5;241m3\u001b[39m, Fa\u001b[38;5;241m=\u001b[39m\u001b[38;5;241m1\u001b[39m\u001b[38;5;241m/\u001b[39m\u001b[38;5;241m2\u001b[39m, mu\u001b[38;5;241m=\u001b[39mmu, G2\u001b[38;5;241m=\u001b[39m\u001b[43mG2_QQ\u001b[49m)\n\u001b[1;32m      6\u001b[0m )\n\u001b[1;32m      8\u001b[0m channels_QA\u001b[38;5;241m.\u001b[39maddChannel(\n\u001b[1;32m      9\u001b[0m     QuarkTM\u001b[38;5;241m.\u001b[39mChannelL(\u001b[38;5;124m'\u001b[39m\u001b[38;5;124mqa1\u001b[39m\u001b[38;5;124m'\u001b[39m, lmax, quark_run, aquark_run, T, pss, ds\u001b[38;5;241m=\u001b[39m\u001b[38;5;241m4\u001b[39m, da\u001b[38;5;241m=\u001b[39m\u001b[38;5;241m1\u001b[39m, Fa\u001b[38;5;241m=\u001b[39m\u001b[38;5;241m1\u001b[39m, mu\u001b[38;5;241m=\u001b[39mmu, G2\u001b[38;5;241m=\u001b[39mG2_QA)\n\u001b[1;32m     10\u001b[0m )\n\u001b[1;32m     12\u001b[0m channels_AA \u001b[38;5;241m=\u001b[39m QuarkTM\u001b[38;5;241m.\u001b[39mChannelGroup(mu0\u001b[38;5;241m=\u001b[39m\u001b[38;5;28;01mFalse\u001b[39;00m)\n",
      "\u001b[0;31mNameError\u001b[0m: name 'G2_QQ' is not defined"
     ]
    }
   ],
   "source": [
    "channels_QQ = QuarkTM.ChannelGroup(mu0=False)\n",
    "channels_QA = QuarkTM.ChannelGroup(mu0=False)\n",
    "\n",
    "channels_QQ.addChannel(\n",
    "    QuarkTM.ChannelL('qq3', lmax, quark_run, quark_run, T, pss, ds=4, da=3, Fa=1/2, mu=mu, G2=G2_QQ)\n",
    ")\n",
    "\n",
    "channels_QA.addChannel(\n",
    "    QuarkTM.ChannelL('qa1', lmax, quark_run, aquark_run, T, pss, ds=4, da=1, Fa=1, mu=mu, G2=G2_QA)\n",
    ")\n",
    "\n",
    "channels_AA = QuarkTM.ChannelGroup(mu0=False)\n",
    "channels_AQ = QuarkTM.ChannelGroup(mu0=False)\n",
    "\n",
    "channels_AA.addChannel(\n",
    "    QuarkTM.ChannelL('aa3', lmax, aquark_run, aquark_run, T, pss, ds=4, da=3, Fa=1/2, mu=mu, G2=G2_QA)\n",
    ")\n",
    "\n",
    "channels_AQ.addChannel(\n",
    "    QuarkTM.ChannelL('aq1', lmax, aquark_run, quark_run, T, pss, ds=4, da=1, Fa=1, mu=mu, G2=G2_AA)\n",
    ")"
   ]
  },
  {
   "cell_type": "code",
   "execution_count": null,
   "id": "36e020e9-13d1-4793-9333-daf6e1485b2b",
   "metadata": {},
   "outputs": [],
   "source": []
  }
 ],
 "metadata": {
  "kernelspec": {
   "display_name": "Python 3 (ipykernel)",
   "language": "python",
   "name": "python3"
  },
  "language_info": {
   "codemirror_mode": {
    "name": "ipython",
    "version": 3
   },
   "file_extension": ".py",
   "mimetype": "text/x-python",
   "name": "python",
   "nbconvert_exporter": "python",
   "pygments_lexer": "ipython3",
   "version": "3.11.7"
  }
 },
 "nbformat": 4,
 "nbformat_minor": 5
}
