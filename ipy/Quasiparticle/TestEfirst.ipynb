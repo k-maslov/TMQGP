{
 "cells": [
  {
   "cell_type": "code",
   "execution_count": 1,
   "id": "7189defe-54d3-4689-be22-f8448a14d2de",
   "metadata": {},
   "outputs": [],
   "source": [
    "from numpy import *\n",
    "from scipy.integrate import quad\n",
    "\n",
    "import TMQGP as tm\n",
    "from numpy import *\n",
    "\n",
    "import QuarkTM\n",
    "\n",
    "import matplotlib\n",
    "matplotlib.style.use('publication23')"
   ]
  },
  {
   "cell_type": "code",
   "execution_count": 2,
   "id": "37d2a09c-5414-4c17-a9ec-cbb1057c1142",
   "metadata": {},
   "outputs": [],
   "source": [
    "import tqdm"
   ]
  },
  {
   "cell_type": "code",
   "execution_count": 3,
   "id": "daf06453-305f-4643-82a4-422177f56dad",
   "metadata": {},
   "outputs": [],
   "source": [
    "G2 = np.loadtxt('G2_test.dat', dtype=complex)\n",
    "G = np.loadtxt('G_test.dat', dtype=complex)\n",
    "TM = np.loadtxt('T_test.dat', dtype=complex)\n",
    "\n",
    "erange = np.loadtxt('erange.dat')\n",
    "qrange = np.loadtxt('qrange.dat')"
   ]
  },
  {
   "cell_type": "code",
   "execution_count": 4,
   "id": "9bafb243-cfbc-4f6a-8e7c-950d0947af08",
   "metadata": {},
   "outputs": [],
   "source": [
    "iImT = tm.Interpolator2D(qrange, erange, ascontiguousarray(imag(TM)))\n",
    "iR = tm.Interpolator2D(qrange, erange, ascontiguousarray(-1/pi*imag(G)))"
   ]
  },
  {
   "cell_type": "code",
   "execution_count": 5,
   "id": "7dc7f826-255d-4291-ad2c-6fd024d839cd",
   "metadata": {},
   "outputs": [],
   "source": [
    "iEps = tm.Interpolator(qrange, sqrt(0.6**2 + qrange**2), 'cubic')\n"
   ]
  },
  {
   "cell_type": "code",
   "execution_count": 6,
   "id": "96272981-b91b-4d1a-ba25-7879763e83b7",
   "metadata": {},
   "outputs": [],
   "source": [
    "qrange_plot = [0, 0.25, 0.5]\n",
    "erange_plot = erange[::2]"
   ]
  },
  {
   "cell_type": "code",
   "execution_count": null,
   "id": "76568df5-64d4-4b1c-9f15-997abf948df4",
   "metadata": {},
   "outputs": [
    {
     "data": {
      "application/vnd.jupyter.widget-view+json": {
       "model_id": "b18a024fa3bb415e830d233f9a1b425b",
       "version_major": 2,
       "version_minor": 0
      },
      "text/plain": [
       "  0%|          | 0/201 [00:00<?, ?it/s]"
      ]
     },
     "metadata": {},
     "output_type": "display_data"
    },
    {
     "data": {
      "application/vnd.jupyter.widget-view+json": {
       "model_id": "c7f91c6de2a7428c9477cd6302586738",
       "version_major": 2,
       "version_minor": 0
      },
      "text/plain": [
       "  0%|          | 0/201 [00:00<?, ?it/s]"
      ]
     },
     "metadata": {},
     "output_type": "display_data"
    }
   ],
   "source": [
    "ss1 = [array([tm.sigma_ff_onshell2(e, q, 0.2, iImT, iR, iEps, iEps, 0) for e in tqdm.notebook.tqdm(erange_plot)])\n",
    "      for q in qrange_plot]"
   ]
  },
  {
   "cell_type": "code",
   "execution_count": null,
   "id": "4ca0ba45-3b3b-43ac-8451-41f3f00a9af0",
   "metadata": {},
   "outputs": [],
   "source": [
    "ss2 = [array([tm.Efirst_k_integral(e, q, 0.2, iImT, iR, iEps, iEps, 0) for e in tqdm.notebook.tqdm(erange_plot)])\n",
    "     for q in qrange_plot]"
   ]
  },
  {
   "cell_type": "code",
   "execution_count": null,
   "id": "42e4175b-2925-4bfd-9da4-e4b17b410a26",
   "metadata": {},
   "outputs": [],
   "source": [
    "for s1, s2, q in zip(ss1, ss2, qrange_plot):\n",
    "    l, = plt.plot(erange_plot, s1)\n",
    "    plt.plot(erange_plot, s2, c=l.get_c(), ls='--')\n",
    "\n",
    "plt.xlim(0, 2)"
   ]
  },
  {
   "cell_type": "markdown",
   "id": "ebcecfff-7523-45f5-be0c-2e23e6a8df48",
   "metadata": {},
   "source": [
    "## Checking the integrand at finite q"
   ]
  },
  {
   "cell_type": "code",
   "execution_count": 11,
   "id": "822ac38c-392f-4068-a5df-579ea2afbb9c",
   "metadata": {},
   "outputs": [],
   "source": [
    "k = 0.5\n",
    "x = 0.5"
   ]
  },
  {
   "cell_type": "code",
   "execution_count": 15,
   "id": "2aad2cfc-2d18-4e08-b6ee-2cfcaa495249",
   "metadata": {},
   "outputs": [],
   "source": [
    "int1 = array([tm.Efirst_cm_onshell_integrand(e, 0.5, 0.5, k, x, 0.2, iImT, iR, iEps, iEps, 0, 0) for e in erange_plot])\n",
    "int2 = array([tm.x_cm_onshell_integrand2(x, e, 0.5, 0.5, k, 0.2, iImT, iR, iEps, iEps, 0, 0) for e in erange_plot])"
   ]
  },
  {
   "cell_type": "code",
   "execution_count": 16,
   "id": "e4e2169b-fc93-47fd-b049-9493747a3d33",
   "metadata": {},
   "outputs": [
    {
     "data": {
      "text/plain": [
       "[<matplotlib.lines.Line2D at 0x7fd46a0f05d0>]"
      ]
     },
     "execution_count": 16,
     "metadata": {},
     "output_type": "execute_result"
    },
    {
     "data": {
      "image/png": "[encoded data removed]",
      "text/plain": [
       "<Figure size 600x400 with 1 Axes>"
      ]
     },
     "metadata": {},
     "output_type": "display_data"
    }
   ],
   "source": [
    "plt.plot(erange_plot, int1)\n",
    "plt.plot(erange_plot, int2)"
   ]
  },
  {
   "cell_type": "code",
   "execution_count": 17,
   "id": "0037b8ce-2362-45dc-af8f-98b63d7abdd7",
   "metadata": {},
   "outputs": [
    {
     "data": {
      "text/plain": [
       "array([0., 0., 0., 0., 0., 0., 0., 0., 0., 0., 0., 0., 0., 0., 0., 0., 0.,\n",
       "       0., 0., 0., 0., 0., 0., 0., 0., 0., 0., 0., 0., 0., 0., 0., 0., 0.,\n",
       "       0., 0., 0., 0., 0., 0., 0., 0., 0., 0., 0., 0., 0., 0., 0., 0., 0.,\n",
       "       0., 0., 0., 0., 0., 0., 0., 0., 0., 0., 0., 0., 0., 0., 0., 0., 0.,\n",
       "       0., 0., 0., 0., 0., 0., 0., 0., 0., 0., 0., 0., 0., 0., 0., 0., 0.,\n",
       "       0., 0., 0., 0., 0., 0., 0., 0., 0., 0., 0., 0., 0., 0., 0., 0., 0.,\n",
       "       0., 0., 0., 0., 0., 0., 0., 0., 0., 0., 0., 0., 0., 0., 0., 0., 0.,\n",
       "       0., 0., 0., 0., 0., 0., 0., 0., 0., 0., 0., 0., 0., 0., 0., 0., 0.,\n",
       "       0., 0., 0., 0., 0., 0., 0., 0., 0., 0., 0., 0., 0., 0., 0., 0., 0.,\n",
       "       0., 0., 0., 0., 0., 0., 0., 0., 0., 0., 0., 0., 0., 0., 0., 0., 0.,\n",
       "       0., 0., 0., 0., 0., 0., 0., 0., 0., 0., 0., 0., 0., 0., 0., 0., 0.,\n",
       "       0., 0., 0., 0., 0., 0., 0., 0., 0., 0., 0., 0., 0., 0.])"
      ]
     },
     "execution_count": 17,
     "metadata": {},
     "output_type": "execute_result"
    }
   ],
   "source": [
    "int1 - int2"
   ]
  },
  {
   "cell_type": "code",
   "execution_count": null,
   "id": "9fe3f271-1f56-4504-b16a-c8714de7acc7",
   "metadata": {},
   "outputs": [],
   "source": []
  }
 ],
 "metadata": {
  "kernelspec": {
   "display_name": "Python 3 (ipykernel)",
   "language": "python",
   "name": "python3"
  },
  "language_info": {
   "codemirror_mode": {
    "name": "ipython",
    "version": 3
   },
   "file_extension": ".py",
   "mimetype": "text/x-python",
   "name": "python",
   "nbconvert_exporter": "python",
   "pygments_lexer": "ipython3",
   "version": "3.11.3"
  }
 },
 "nbformat": 4,
 "nbformat_minor": 5
}
