{
 "cells": [
  {
   "cell_type": "code",
   "execution_count": 1,
   "id": "16d8d6c7-4330-4757-bf11-8560aeab861d",
   "metadata": {},
   "outputs": [
    {
     "name": "stdout",
     "output_type": "stream",
     "text": [
      "The Zen of Python, by Tim Peters\n",
      "\n",
      "Beautiful is better than ugly.\n",
      "Explicit is better than implicit.\n",
      "Simple is better than complex.\n",
      "Complex is better than complicated.\n",
      "Flat is better than nested.\n",
      "Sparse is better than dense.\n",
      "Readability counts.\n",
      "Special cases aren't special enough to break the rules.\n",
      "Although practicality beats purity.\n",
      "Errors should never pass silently.\n",
      "Unless explicitly silenced.\n",
      "In the face of ambiguity, refuse the temptation to guess.\n",
      "There should be one-- and preferably only one --obvious way to do it.\n",
      "Although that way may not be obvious at first unless you're Dutch.\n",
      "Now is better than never.\n",
      "Although never is often better than *right* now.\n",
      "If the implementation is hard to explain, it's a bad idea.\n",
      "If the implementation is easy to explain, it may be a good idea.\n",
      "Namespaces are one honking great idea -- let's do more of those!\n"
     ]
    }
   ],
   "source": [
    "T = 0.170 iteration 0: delta = 42.066463, sum Q = 0.996125, sum A = 0.996125\n",
    "Channel  QQ time =  3.8175448900001356  s\n",
    "Channel  AA time =  3.8205995300013456  s\n",
    "T = 0.170 iteration 1: delta = 10.528309, sum Q = 0.999581, sum A = 0.999581\n",
    "Channel  QQ time =  3.8151296569994884  s\n",
    "Channel  AA time =  4.04031936100364  s\n",
    "T = 0.170 iteration 2: delta = 2.406176, sum Q = 0.999796, sum A = 0.999796\n",
    "Channel  QQ time =  4.146454061999975  s\n",
    "Channel  AA time =  4.6403512739998405  s\n",
    "T = 0.170 iteration 3: delta = 0.544543, sum Q = 0.999817, sum A = 0.999817\n",
    "Channel  QQ time =  4.451531241000339  s\n",
    "Channel  AA time =  4.083787734001817  s\n",
    "T = 0.170 iteration 4: delta = 0.078063, sum Q = 0.999821, sum A = 0.999821\n",
    "Channel  QQ time =  3.970060958999966  s\n",
    "Channel  AA time =  3.983539289001783  s\n",
    "T = 0.170 iteration 5: delta = 0.018238, sum Q = 0.999822, sum A = 0.999822\n",
    "Channel  QQ time =  4.61252709999826  s\n",
    "Channel  AA time =  4.477339791003033  s\n",
    "T = 0.170 iteration 6: delta = 0.004409, sum Q = 0.999822, sum A = 0.999822"
   ]
  },
  {
   "cell_type": "code",
   "execution_count": null,
   "id": "0f8248ec-3f90-4f95-8001-092964873d67",
   "metadata": {},
   "outputs": [],
   "source": []
  }
 ],
 "metadata": {
  "kernelspec": {
   "display_name": "Python 3 (ipykernel)",
   "language": "python",
   "name": "python3"
  },
  "language_info": {
   "codemirror_mode": {
    "name": "ipython",
    "version": 3
   },
   "file_extension": ".py",
   "mimetype": "text/x-python",
   "name": "python",
   "nbconvert_exporter": "python",
   "pygments_lexer": "ipython3",
   "version": "3.11.3"
  }
 },
 "nbformat": 4,
 "nbformat_minor": 5
}
